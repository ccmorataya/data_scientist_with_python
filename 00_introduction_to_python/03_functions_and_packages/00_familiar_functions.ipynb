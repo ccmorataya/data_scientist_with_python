{
 "cells": [
  {
   "cell_type": "markdown",
   "metadata": {},
   "source": [
    "---\n",
    "# Exercise\n",
    "---"
   ]
  },
  {
   "cell_type": "markdown",
   "metadata": {},
   "source": [
    "## Familiar functions\n",
    "\n",
    "Out of the box, Python offers a bunch of built-in functions to make your life as a data scientist easier. You already know two such functions: [<u>`print()`</u>](https://docs.python.org/3/library/functions.html#print) and [<u>`type()`</u>](https://docs.python.org/3/library/functions.html#type). You've also used the functions [<u>`str()`</u>](https://docs.python.org/3/library/functions.html#func-str), [<u>`int()`</u>](https://docs.python.org/3/library/functions.html#int), [<u>`bool()`</u>](https://docs.python.org/3/library/functions.html#bool) and [<u>`float()`</u>](https://docs.python.org/3/library/functions.html#float) to switch between data types. These are built-in functions as well.\n",
    "\n",
    "Calling a function is easy. To get the type of `3.0` and store the output as a new variable, `result`, you can use the following:\n",
    "\n",
    "``` python\n",
    "result = type(3.0)\n",
    "```\n",
    "The general recipe for calling functions and saving the result to a variable is thus:\n",
    "\n",
    "``` python\n",
    "output = function_name(input)\n",
    "```"
   ]
  },
  {
   "cell_type": "markdown",
   "metadata": {},
   "source": [
    "---\n",
    "### Instructions `100xp`\n",
    "---"
   ]
  },
  {
   "cell_type": "markdown",
   "metadata": {},
   "source": [
    "* Use [<u>`print()`</u>](https://docs.python.org/3/library/functions.html#print) in combination with [<u>`type()`</u>](https://docs.python.org/3/library/functions.html#type) to print out the type of `var1`.\n",
    "* Use [<u>`len()`</u>](https://docs.python.org/3/library/functions.html#len) to get the length of the list `var1`. Wrap it in a [<u>`print()`</u>](https://docs.python.org/3/library/functions.html#print) call to directly print it out.\n",
    "* Use [<u>`int()`</u>](https://docs.python.org/3/library/functions.html#int) to convert `var2` to an integer. Store the output as `out2`."
   ]
  },
  {
   "cell_type": "markdown",
   "metadata": {},
   "source": [
    "---"
   ]
  },
  {
   "cell_type": "code",
   "execution_count": 6,
   "metadata": {},
   "outputs": [
    {
     "name": "stdout",
     "output_type": "stream",
     "text": [
      "<class 'list'>\n",
      "4\n",
      "1\n"
     ]
    }
   ],
   "source": [
    "# script.py\n",
    "\n",
    "# Create variables var1 and var2\n",
    "var1 = [1, 2, 3, 4]\n",
    "var2 = True\n",
    "\n",
    "# Print out type of var1\n",
    "print(type(var1))\n",
    "\n",
    "# Print out length of var1\n",
    "print(len(var1))\n",
    "\n",
    "# Convert var2 to an integer: out2\n",
    "out2 = int(var2)\n",
    "\n",
    "print(out2)"
   ]
  }
 ],
 "metadata": {
  "kernelspec": {
   "display_name": "Python 3",
   "language": "python",
   "name": "python3"
  },
  "language_info": {
   "codemirror_mode": {
    "name": "ipython",
    "version": 3
   },
   "file_extension": ".py",
   "mimetype": "text/x-python",
   "name": "python",
   "nbconvert_exporter": "python",
   "pygments_lexer": "ipython3",
   "version": "3.7.4"
  }
 },
 "nbformat": 4,
 "nbformat_minor": 4
}
