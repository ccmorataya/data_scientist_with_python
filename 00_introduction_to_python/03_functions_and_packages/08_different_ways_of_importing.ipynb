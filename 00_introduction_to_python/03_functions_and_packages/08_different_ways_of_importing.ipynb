{
 "cells": [
  {
   "cell_type": "markdown",
   "metadata": {},
   "source": [
    "---\n",
    "# Exercise\n",
    "---"
   ]
  },
  {
   "cell_type": "markdown",
   "metadata": {},
   "source": [
    "## Different ways of importing\n",
    "\n",
    "There are several ways to import packages and modules into Python. Depending on the import call, you'll have to use different Python code.\n",
    "\n",
    "Suppose you want to use the function [<u>`inv()`</u>](http://docs.scipy.org/doc/numpy-1.10.0/reference/generated/numpy.linalg.inv.html), which is in the `linalg` subpackage of the `scipy` package. You want to be able to use this function as follows:\n",
    "\n",
    "``` python\n",
    "my_inv([[1,2], [3,4]])\n",
    "```\n",
    "\n",
    "Which `import` statement will you need in order to run the above code without an error?"
   ]
  },
  {
   "cell_type": "markdown",
   "metadata": {},
   "source": [
    "---\n",
    "### Instructions `50xp`\n",
    "---"
   ]
  },
  {
   "cell_type": "markdown",
   "metadata": {},
   "source": [
    "<input type=\"radio\"> `import scipy`  \n",
    "<input type=\"radio\"> `import scipy.linalg`  \n",
    "<input type=\"radio\"> `from scipy.linalg import my_inv`  \n",
    "<input type=\"radio\" checked> `from scipy.linalg import inv as my_inv`  "
   ]
  },
  {
   "cell_type": "markdown",
   "metadata": {},
   "source": [
    "---"
   ]
  },
  {
   "cell_type": "code",
   "execution_count": null,
   "metadata": {},
   "outputs": [],
   "source": [
    "# IPython Shell\n"
   ]
  }
 ],
 "metadata": {
  "kernelspec": {
   "display_name": "Python 3",
   "language": "python",
   "name": "python3"
  },
  "language_info": {
   "codemirror_mode": {
    "name": "ipython",
    "version": 3
   },
   "file_extension": ".py",
   "mimetype": "text/x-python",
   "name": "python",
   "nbconvert_exporter": "python",
   "pygments_lexer": "ipython3",
   "version": "3.7.4"
  }
 },
 "nbformat": 4,
 "nbformat_minor": 4
}
