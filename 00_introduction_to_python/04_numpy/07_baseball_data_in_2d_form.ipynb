{
 "cells": [
  {
   "cell_type": "markdown",
   "metadata": {},
   "source": [
    "---\n",
    "# Exercise\n",
    "---"
   ]
  },
  {
   "cell_type": "markdown",
   "metadata": {},
   "source": [
    "## Baseball data in 2D form\n",
    "\n",
    "You have another look at the MLB data and realize that it makes more sense to restructure all this information in a 2D `numpy` array. This array should have 1015 rows, corresponding to the 1015 baseball players you have information on, and 2 columns (for height and weight).\n",
    "\n",
    "The MLB was, again, very helpful and passed you the data in a different structure, a Python list of lists. In this list of lists, each sublist represents the height and weight of a single baseball player. The name of this embedded list is `baseball`.\n",
    "\n",
    "Can you store the data as a 2D array to unlock `numpy`'s extra functionality?"
   ]
  },
  {
   "cell_type": "markdown",
   "metadata": {},
   "source": [
    "---\n",
    "### Instructions `100xp`\n",
    "---"
   ]
  },
  {
   "cell_type": "markdown",
   "metadata": {},
   "source": [
    "* Use [<u>`np.array()`</u>](http://docs.scipy.org/doc/numpy-1.10.0/glossary.html#term-array) to create a 2D `numpy` array from `baseball`. Name it `np_baseball`.\n",
    "* Print out the `shape` attribute of `np_baseball`."
   ]
  },
  {
   "cell_type": "markdown",
   "metadata": {},
   "source": [
    "---"
   ]
  },
  {
   "cell_type": "code",
   "execution_count": 10,
   "metadata": {},
   "outputs": [
    {
     "name": "stdout",
     "output_type": "stream",
     "text": [
      "(1015, 2)\n"
     ]
    }
   ],
   "source": [
    "# script.py\n",
    "\n",
    "# baseball is available as a regular list of lists\n",
    "# CM:: refactor with pandas and local csv file\n",
    "import pandas\n",
    "colnames = [\"Name\", \"Team\", \"Position\", \"Height\", \"Weight\", \"Age\", \"PosCategory\"]\n",
    "data = pandas.read_csv(\"00_1_baseball_players.csv\", names=colnames)\n",
    "baseball = [data.Height.tolist(), data.Weight.tolist()]\n",
    "#print(type(baseball))\n",
    "\n",
    "# Import numpy package\n",
    "import numpy as np\n",
    "\n",
    "# Create a 2D numpy array from baseball: np_baseball\n",
    "np_baseball = np.array(baseball)\n",
    "np_baseball = np_baseball.transpose()\n",
    "# Print out the shape of np_baseball\n",
    "print(np_baseball.shape)"
   ]
  }
 ],
 "metadata": {
  "kernelspec": {
   "display_name": "Python 3",
   "language": "python",
   "name": "python3"
  },
  "language_info": {
   "codemirror_mode": {
    "name": "ipython",
    "version": 3
   },
   "file_extension": ".py",
   "mimetype": "text/x-python",
   "name": "python",
   "nbconvert_exporter": "python",
   "pygments_lexer": "ipython3",
   "version": "3.7.4"
  }
 },
 "nbformat": 4,
 "nbformat_minor": 4
}
