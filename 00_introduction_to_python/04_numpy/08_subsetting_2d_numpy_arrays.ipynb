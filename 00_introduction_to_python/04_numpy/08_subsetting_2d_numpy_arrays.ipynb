{
 "cells": [
  {
   "cell_type": "markdown",
   "metadata": {},
   "source": [
    "---\n",
    "# Exercise\n",
    "---"
   ]
  },
  {
   "cell_type": "markdown",
   "metadata": {},
   "source": [
    "## Subsetting 2D NumPy Arrays\n",
    "\n",
    "If your 2D `numpy` array has a regular structure, i.e. each row and column has a fixed number of values, complicated ways of subsetting become very easy. Have a look at the code below where the elements `\"a\"` and `\"c\"` are extracted from a list of lists.\n",
    "\n",
    "``` python\n",
    "# regular list of lists\n",
    "x = [[\"a\", \"b\"], [\"c\", \"d\"]]\n",
    "[x[0][0], x[1][0]]\n",
    "\n",
    "# numpy\n",
    "import numpy as np\n",
    "np_x = np.array(x)\n",
    "np_x[:,0]\n",
    "```\n",
    "\n",
    "For regular Python lists, this is a real pain. For 2D `numpy` arrays, however, it's pretty intuitive! The indexes before the comma refer to the rows, while those after the comma refer to the columns. The `:` is for slicing; in this example, it tells Python to include all rows.\n",
    "\n",
    "The code that converts the pre-loaded `baseball` list to a 2D `numpy` array is already in the script. The first column contains the players' height in inches and the second column holds player weight, in pounds. Add some lines to make the correct selections. Remember that in Python, the first element is at index 0!"
   ]
  },
  {
   "cell_type": "markdown",
   "metadata": {},
   "source": [
    "---\n",
    "### Instructions `100xp`\n",
    "---"
   ]
  },
  {
   "cell_type": "markdown",
   "metadata": {},
   "source": [
    "* Print out the 50th row of `np_baseball`.\n",
    "* Make a new variable, `np_weight_lb`, containing the entire second column of `np_baseball`.\n",
    "* Select the height (first column) of the 124th baseball player in `np_baseball` and print it out."
   ]
  },
  {
   "cell_type": "markdown",
   "metadata": {},
   "source": [
    "---"
   ]
  },
  {
   "cell_type": "code",
   "execution_count": 4,
   "metadata": {},
   "outputs": [
    {
     "name": "stdout",
     "output_type": "stream",
     "text": [
      "[ 73 200]\n",
      "[180 215 210 ... 205 190 195]\n",
      "78\n"
     ]
    }
   ],
   "source": [
    "# script.py\n",
    "\n",
    "# baseball is available as a regular list of lists\n",
    "# CM:: refactor with pandas and local csv file\n",
    "import pandas\n",
    "colnames = [\"Name\", \"Team\", \"Position\", \"Height\", \"Weight\", \"Age\", \"PosCategory\"]\n",
    "data = pandas.read_csv(\"00_1_baseball_players.csv\", names=colnames)\n",
    "baseball = [data.Height.tolist(), data.Weight.tolist()]\n",
    "\n",
    "# Import numpy package\n",
    "import numpy as np\n",
    "\n",
    "# Create np_baseball (2 cols)\n",
    "np_baseball = np.array(baseball)\n",
    "# CM:: transpose axes\n",
    "np_baseball = np_baseball.transpose()\n",
    "\n",
    "# Print out the 50th row of np_baseball\n",
    "print(np_baseball[50])\n",
    "\n",
    "# Select the entire second column of np_baseball: np_weight_lb\n",
    "print(np_baseball[:, 1])\n",
    "\n",
    "# Print out height of 124th player\n",
    "print(np_baseball[124, 0])"
   ]
  }
 ],
 "metadata": {
  "kernelspec": {
   "display_name": "Python 3",
   "language": "python",
   "name": "python3"
  },
  "language_info": {
   "codemirror_mode": {
    "name": "ipython",
    "version": 3
   },
   "file_extension": ".py",
   "mimetype": "text/x-python",
   "name": "python",
   "nbconvert_exporter": "python",
   "pygments_lexer": "ipython3",
   "version": "3.7.4"
  }
 },
 "nbformat": 4,
 "nbformat_minor": 4
}
