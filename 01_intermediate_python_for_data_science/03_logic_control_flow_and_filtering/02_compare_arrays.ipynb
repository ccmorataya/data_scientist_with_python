{
 "cells": [
  {
   "cell_type": "markdown",
   "metadata": {},
   "source": [
    "---\n",
    "# Exercise\n",
    "---"
   ]
  },
  {
   "cell_type": "markdown",
   "metadata": {},
   "source": [
    "## Compare arrays\n",
    "\n",
    "Out of the box, you can also use comparison operators with Numpy arrays.\n",
    "\n",
    "Remember `areas`, the list of area measurements for different rooms in your house from the previous course? This time there's two Numpy arrays: `my_house` and `your_house`. They both contain the areas for the kitchen, living room, bedroom and bathroom in the same order, so you can compare them."
   ]
  },
  {
   "cell_type": "markdown",
   "metadata": {},
   "source": [
    "---\n",
    "### Instructions `100xp`\n",
    "---"
   ]
  },
  {
   "cell_type": "markdown",
   "metadata": {},
   "source": [
    "Using comparison operators, generate boolean arrays that answer the following questions:\n",
    "\n",
    "* Which areas in `my_house` are greater than or equal to `18`?\n",
    "* You can also compare two Numpy arrays element-wise. Which areas in `my_house` are smaller than the ones in `your_house`?\n",
    "* Make sure to wrap both commands in a [<u>`print()`</u>](https://docs.python.org/3/library/functions.html#print) statement so that you can inspect the output!"
   ]
  },
  {
   "cell_type": "markdown",
   "metadata": {},
   "source": [
    "---"
   ]
  },
  {
   "cell_type": "code",
   "execution_count": 2,
   "metadata": {},
   "outputs": [
    {
     "name": "stdout",
     "output_type": "stream",
     "text": [
      "[ True  True False False]\n",
      "[False  True  True False]\n"
     ]
    }
   ],
   "source": [
    "# script.py\n",
    "\n",
    "# Create arrays\n",
    "import numpy as np\n",
    "my_house = np.array([18.0, 20.0, 10.75, 9.50])\n",
    "your_house = np.array([14.0, 24.0, 14.25, 9.0])\n",
    "\n",
    "# my_house greater than or equal to 18\n",
    "print(my_house >= 18)\n",
    "\n",
    "# my_house less than your_house\n",
    "print(my_house < your_house)"
   ]
  }
 ],
 "metadata": {
  "kernelspec": {
   "display_name": "Python 3",
   "language": "python",
   "name": "python3"
  },
  "language_info": {
   "codemirror_mode": {
    "name": "ipython",
    "version": 3
   },
   "file_extension": ".py",
   "mimetype": "text/x-python",
   "name": "python",
   "nbconvert_exporter": "python",
   "pygments_lexer": "ipython3",
   "version": "3.7.4"
  }
 },
 "nbformat": 4,
 "nbformat_minor": 4
}
