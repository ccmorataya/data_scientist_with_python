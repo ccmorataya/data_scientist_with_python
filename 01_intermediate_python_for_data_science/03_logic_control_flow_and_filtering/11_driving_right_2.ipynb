{
 "cells": [
  {
   "cell_type": "markdown",
   "metadata": {},
   "source": [
    "---\n",
    "# Exercise\n",
    "---"
   ]
  },
  {
   "cell_type": "markdown",
   "metadata": {},
   "source": [
    "## Driving right (2)\n",
    "\n",
    "The code in the previous example worked fine, but you actually unnecessarily created a new variable `dr`. You can achieve the same result without this intermediate variable. Put the code that computes `dr` straight into the square brackets that select observations from `cars`."
   ]
  },
  {
   "cell_type": "markdown",
   "metadata": {},
   "source": [
    "---\n",
    "### Instructions `100xp`\n",
    "---"
   ]
  },
  {
   "cell_type": "markdown",
   "metadata": {},
   "source": [
    "Convert the code on the right to a one-liner that calculates the variable `sel` as before."
   ]
  },
  {
   "cell_type": "markdown",
   "metadata": {},
   "source": [
    "---"
   ]
  },
  {
   "cell_type": "code",
   "execution_count": 1,
   "metadata": {},
   "outputs": [
    {
     "name": "stdout",
     "output_type": "stream",
     "text": [
      "     cars_per_cap        country  drives_right\n",
      "US            809  United States          True\n",
      "RU            200         Russia          True\n",
      "MOR            70        Morocco          True\n",
      "EG             45          Egypt          True\n"
     ]
    }
   ],
   "source": [
    "# script.py\n",
    "\n",
    "# Import cars data\n",
    "import pandas as pd\n",
    "cars = pd.read_csv('00_1_cars.csv', index_col = 0)\n",
    "\n",
    "# Convert code to a one-liner\n",
    "dr = cars['drives_right']\n",
    "sel = cars[dr]\n",
    "\n",
    "# Print sel\n",
    "print(cars[cars['drives_right']])"
   ]
  }
 ],
 "metadata": {
  "kernelspec": {
   "display_name": "Python 3",
   "language": "python",
   "name": "python3"
  },
  "language_info": {
   "codemirror_mode": {
    "name": "ipython",
    "version": 3
   },
   "file_extension": ".py",
   "mimetype": "text/x-python",
   "name": "python",
   "nbconvert_exporter": "python",
   "pygments_lexer": "ipython3",
   "version": "3.7.4"
  }
 },
 "nbformat": 4,
 "nbformat_minor": 4
}
