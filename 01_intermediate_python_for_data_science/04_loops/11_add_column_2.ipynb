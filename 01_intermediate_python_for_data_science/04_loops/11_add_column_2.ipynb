{
 "cells": [
  {
   "cell_type": "markdown",
   "metadata": {},
   "source": [
    "---\n",
    "# Exercise\n",
    "---"
   ]
  },
  {
   "cell_type": "markdown",
   "metadata": {},
   "source": [
    "## Add column (2)\n",
    "\n",
    "Using [<u>`iterrows()`</u>](http://pandas.pydata.org/pandas-docs/stable/generated/pandas.DataFrame.iterrows.html) to iterate over every observation of a Pandas DataFrame is easy to understand, but not very efficient. On every iteration, you're creating a new Pandas Series.\n",
    "\n",
    "If you want to add a column to a DataFrame by calling a function on another column, the [<u>`iterrows()`</u>](http://pandas.pydata.org/pandas-docs/stable/generated/pandas.DataFrame.iterrows.html) method in combination with a `for` loop is not the preferred way to go. Instead, you'll want to use [<u>`apply()`</u>](http://pandas.pydata.org/pandas-docs/stable/generated/pandas.Series.apply.html).\n",
    "\n",
    "Compare the [<u>`iterrows()`</u>](http://pandas.pydata.org/pandas-docs/stable/generated/pandas.DataFrame.iterrows.html) version with the [<u>`apply()`</u>](http://pandas.pydata.org/pandas-docs/stable/generated/pandas.Series.apply.html) version to get the same result in the brics DataFrame:\n",
    "\n",
    "``` python\n",
    "for lab, row in brics.iterrows() :\n",
    "    brics.loc[lab, \"name_length\"] = len(row[\"country\"])\n",
    "\n",
    "brics[\"name_length\"] = brics[\"country\"].apply(len)\n",
    "```\n",
    "\n",
    "We can do a similar thing to call the [<u>`upper()`</u>](https://docs.python.org/2/library/stdtypes.html#str.upper) method on every name in the `country` column. However, [<u>`upper()`</u>](https://docs.python.org/2/library/stdtypes.html#str.upper) is a method, so we'll need a slightly different approach:"
   ]
  },
  {
   "cell_type": "markdown",
   "metadata": {},
   "source": [
    "---\n",
    "### Instructions `100xp`\n",
    "---"
   ]
  },
  {
   "cell_type": "markdown",
   "metadata": {},
   "source": [
    "* Replace the `for` loop with a one-liner that uses `.apply(str.upper)`. The call should give the same result: a column `COUNTRY` should be added to `cars`, containing an uppercase version of the country names.\n",
    "* As usual, print out `cars` to see the fruits of your hard labor"
   ]
  },
  {
   "cell_type": "markdown",
   "metadata": {},
   "source": [
    "---"
   ]
  },
  {
   "cell_type": "code",
   "execution_count": 7,
   "metadata": {},
   "outputs": [
    {
     "name": "stdout",
     "output_type": "stream",
     "text": [
      "     cars_per_cap        country  drives_right        COUNTRY\n",
      "US            809  United States          True  UNITED STATES\n",
      "AUS           731      Australia         False      AUSTRALIA\n",
      "JAP           588          Japan         False          JAPAN\n",
      "IN             18          India         False          INDIA\n",
      "RU            200         Russia          True         RUSSIA\n",
      "MOR            70        Morocco          True        MOROCCO\n",
      "EG             45          Egypt          True          EGYPT\n"
     ]
    }
   ],
   "source": [
    "# script.py\n",
    "\n",
    "# Import cars data\n",
    "import pandas as pd\n",
    "cars = pd.read_csv('00_1_cars.csv', index_col = 0)\n",
    "\n",
    "# Use .apply(str.upper)\n",
    "cars[\"COUNTRY\"] = cars[\"country\"].apply(str.upper)\n",
    "\n",
    "print(cars)"
   ]
  }
 ],
 "metadata": {
  "kernelspec": {
   "display_name": "Python 3",
   "language": "python",
   "name": "python3"
  },
  "language_info": {
   "codemirror_mode": {
    "name": "ipython",
    "version": 3
   },
   "file_extension": ".py",
   "mimetype": "text/x-python",
   "name": "python",
   "nbconvert_exporter": "python",
   "pygments_lexer": "ipython3",
   "version": "3.7.4"
  }
 },
 "nbformat": 4,
 "nbformat_minor": 4
}
