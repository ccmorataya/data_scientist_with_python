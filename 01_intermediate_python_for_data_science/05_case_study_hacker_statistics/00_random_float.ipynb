{
 "cells": [
  {
   "cell_type": "markdown",
   "metadata": {},
   "source": [
    "---\n",
    "# Exercise\n",
    "---"
   ]
  },
  {
   "cell_type": "markdown",
   "metadata": {},
   "source": [
    "## Random float\n",
    "\n",
    "Randomness has many uses in science, art, statistics, cryptography, gaming, gambling, and other fields. You're going to use randomness to simulate a game.\n",
    "\n",
    "All the functionality you need is contained in the `random` package, a sub-package of `numpy`. In this exercise, you'll be using two functions from this package:\n",
    "\n",
    "* [<u>`seed()`</u>](http://docs.scipy.org/doc/numpy-1.10.1/reference/generated/numpy.random.seed.html): sets the random seed, so that your results are reproducible between simulations. As an argument, it takes an integer of your choosing. If you call the function, no output will be generated.\n",
    "* [<u>`rand()`</u>](http://docs.scipy.org/doc/numpy-1.10.1/reference/generated/numpy.random.rand.html): if you don't specify any arguments, it generates a random float between zero and one."
   ]
  },
  {
   "cell_type": "markdown",
   "metadata": {},
   "source": [
    "---\n",
    "### Instructions `100xp`\n",
    "---"
   ]
  },
  {
   "cell_type": "markdown",
   "metadata": {},
   "source": [
    "* Import `numpy` as `np`.\n",
    "* Use [<u>`seed()`</u>](http://docs.scipy.org/doc/numpy-1.10.1/reference/generated/numpy.random.seed.html) to set the seed; as an argument, pass `123`.\n",
    "* Generate your first random float with [<u>`rand()`</u>](http://docs.scipy.org/doc/numpy-1.10.1/reference/generated/numpy.random.rand.html) and print it out."
   ]
  },
  {
   "cell_type": "markdown",
   "metadata": {},
   "source": [
    "---"
   ]
  },
  {
   "cell_type": "code",
   "execution_count": 2,
   "metadata": {},
   "outputs": [
    {
     "name": "stdout",
     "output_type": "stream",
     "text": [
      "0.6964691855978616\n"
     ]
    }
   ],
   "source": [
    "# script.py\n",
    "\n",
    "# Import numpy as np\n",
    "import numpy as np\n",
    "\n",
    "# Set the seed\n",
    "np.random.seed(123)\n",
    "\n",
    "# Generate and print random float\n",
    "print(np.random.rand())"
   ]
  }
 ],
 "metadata": {
  "kernelspec": {
   "display_name": "Python 3",
   "language": "python",
   "name": "python3"
  },
  "language_info": {
   "codemirror_mode": {
    "name": "ipython",
    "version": 3
   },
   "file_extension": ".py",
   "mimetype": "text/x-python",
   "name": "python",
   "nbconvert_exporter": "python",
   "pygments_lexer": "ipython3",
   "version": "3.7.4"
  }
 },
 "nbformat": 4,
 "nbformat_minor": 4
}
