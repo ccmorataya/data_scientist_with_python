{
 "cells": [
  {
   "cell_type": "markdown",
   "metadata": {},
   "source": [
    "---\n",
    "# Exercise\n",
    "---"
   ]
  },
  {
   "cell_type": "markdown",
   "metadata": {},
   "source": [
    "## Determine your next move\n",
    "\n",
    "In the Empire State Building bet, your next move depends on the number of eyes you throw with the dice. We can perfectly code this with an `if`-`elif`-`else` construct!\n",
    "\n",
    "The sample code assumes that you're currently at step 50. Can you fill in the missing pieces to finish the script? `numpy` is already imported as `np` and the seed has been set to `123`, so you don't have to worry about that anymore."
   ]
  },
  {
   "cell_type": "markdown",
   "metadata": {},
   "source": [
    "---\n",
    "### Instructions `100xp`\n",
    "---"
   ]
  },
  {
   "cell_type": "markdown",
   "metadata": {},
   "source": [
    "* Roll the dice. Use [<u>`randint()`</u>](http://docs.scipy.org/doc/numpy-1.10.1/reference/generated/numpy.random.randint.html) to create the variable dice.\n",
    "* Finish the `if`-`elif`-`else` construct by replacing `___`:\n",
    "* If `dice` is 1 or 2, you go one step down.\n",
    "* if `dice` is 3, 4 or 5, you go one step up.\n",
    "* Else, you throw the dice again. The number of eyes is the number of steps you go up.\n",
    "* Print out `dice` and `step`. Given the value of `dice`, was `step` updated correctly?"
   ]
  },
  {
   "cell_type": "markdown",
   "metadata": {},
   "source": [
    "---"
   ]
  },
  {
   "cell_type": "code",
   "execution_count": 2,
   "metadata": {},
   "outputs": [
    {
     "name": "stdout",
     "output_type": "stream",
     "text": [
      "6\n",
      "53\n"
     ]
    }
   ],
   "source": [
    "# script.py\n",
    "\n",
    "# Numpy is imported, seed is set\n",
    "import numpy as np\n",
    "np.random.seed(123)\n",
    "\n",
    "# Starting step\n",
    "step = 50\n",
    "\n",
    "# Roll the dice\n",
    "dice = np.random.randint(1, 7)\n",
    "\n",
    "# Finish the control construct\n",
    "if dice <= 2 :\n",
    "    step = step - 1\n",
    "elif dice >= 3 and dice <= 5 :\n",
    "    step += 1\n",
    "else :\n",
    "    step = step + np.random.randint(1,7)\n",
    "\n",
    "# Print out dice and step\n",
    "print(dice)\n",
    "print(step)"
   ]
  }
 ],
 "metadata": {
  "kernelspec": {
   "display_name": "Python 3",
   "language": "python",
   "name": "python3"
  },
  "language_info": {
   "codemirror_mode": {
    "name": "ipython",
    "version": 3
   },
   "file_extension": ".py",
   "mimetype": "text/x-python",
   "name": "python",
   "nbconvert_exporter": "python",
   "pygments_lexer": "ipython3",
   "version": "3.7.4"
  }
 },
 "nbformat": 4,
 "nbformat_minor": 4
}
