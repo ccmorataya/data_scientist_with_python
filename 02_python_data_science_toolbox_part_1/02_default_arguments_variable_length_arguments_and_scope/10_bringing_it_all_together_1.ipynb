{
 "cells": [
  {
   "cell_type": "markdown",
   "metadata": {},
   "source": [
    "---\n",
    "# Exercise\n",
    "---"
   ]
  },
  {
   "cell_type": "markdown",
   "metadata": {},
   "source": [
    "## Bringing it all together (1)\n",
    "\n",
    "Recall the _Bringing it all together_ exercise in the previous chapter where you did a simple Twitter analysis by developing a function that counts how many tweets are in certain languages. The output of your function was a dictionary that had the language as the keys and the counts of tweets in that language as the value.\n",
    "\n",
    "In this exercise, we will generalize the Twitter language analysis that you did in the previous chapter. You will do that by including a **default argument** that takes a column name.\n",
    "\n",
    "For your convenience, `pandas` has been imported as `pd` and the `'tweets.csv'` file has been imported into the DataFrame `tweets_df`. Parts of the code from your previous work are also provided."
   ]
  },
  {
   "cell_type": "markdown",
   "metadata": {},
   "source": [
    "---\n",
    "### Instructions `100xp`\n",
    "---"
   ]
  },
  {
   "cell_type": "markdown",
   "metadata": {},
   "source": [
    "* Complete the function header by supplying the parameter for a DataFrame `df` and the parameter `col_name` with a default value of `'lang'` for the DataFrame column name.\n",
    "* Call `count_entries()` by passing the `tweets_df` DataFrame and the column name `'lang'`. Assign the result to `result1`. Note that since `'lang'` is the default value of the `col_name` parameter, you don't have to specify it here.\n",
    "* Call `count_entries()` by passing the `tweets_df` DataFrame and the column name `'source'`. Assign the result to `result2`."
   ]
  },
  {
   "cell_type": "markdown",
   "metadata": {},
   "source": [
    "---"
   ]
  },
  {
   "cell_type": "code",
   "execution_count": null,
   "metadata": {},
   "outputs": [],
   "source": [
    "# script.py\n",
    "\n",
    "# Define count_entries()\n",
    "def count_entries(____, ____):\n",
    "    \"\"\"Return a dictionary with counts of\n",
    "    occurrences as value for each key.\"\"\"\n",
    "\n",
    "    # Initialize an empty dictionary: cols_count\n",
    "    cols_count = {}\n",
    "\n",
    "    # Extract column from DataFrame: col\n",
    "    col = df[col_name]\n",
    "    \n",
    "    # Iterate over the column in DataFrame\n",
    "    for entry in col:\n",
    "\n",
    "        # If entry is in cols_count, add 1\n",
    "        if entry in cols_count.keys():\n",
    "            cols_count[entry] += 1\n",
    "\n",
    "        # Else add the entry to cols_count, set the value to 1\n",
    "        else:\n",
    "            cols_count[entry] = 1\n",
    "\n",
    "    # Return the cols_count dictionary\n",
    "    return cols_count\n",
    "\n",
    "# Call count_entries(): result1\n",
    "result1 = ____\n",
    "\n",
    "# Call count_entries(): result2\n",
    "result2 = ____\n",
    "\n",
    "# Print result1 and result2\n",
    "print(result1)\n",
    "print(result2)"
   ]
  }
 ],
 "metadata": {
  "kernelspec": {
   "display_name": "Python 3",
   "language": "python",
   "name": "python3"
  },
  "language_info": {
   "codemirror_mode": {
    "name": "ipython",
    "version": 3
   },
   "file_extension": ".py",
   "mimetype": "text/x-python",
   "name": "python",
   "nbconvert_exporter": "python",
   "pygments_lexer": "ipython3",
   "version": "3.7.4"
  }
 },
 "nbformat": 4,
 "nbformat_minor": 4
}
