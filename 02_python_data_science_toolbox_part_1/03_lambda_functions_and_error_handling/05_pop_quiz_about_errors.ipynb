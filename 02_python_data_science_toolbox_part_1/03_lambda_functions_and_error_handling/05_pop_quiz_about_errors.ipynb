{
 "cells": [
  {
   "cell_type": "markdown",
   "metadata": {},
   "source": [
    "---\n",
    "# Exercise\n",
    "---"
   ]
  },
  {
   "cell_type": "markdown",
   "metadata": {},
   "source": [
    "## Pop quiz about errors\n",
    "\n",
    "In the video, Hugo talked about how errors happen when functions are supplied arguments that they are unable to work with. In this exercise, you will identify which function call raises an error and what type of error is raised.\n",
    "\n",
    "Take a look at the following function calls to `len()`:\n",
    "\n",
    "``` python\n",
    "len('There is a beast in every man and it stirs when you put a sword in his hand.')\n",
    "\n",
    "len(['robb', 'sansa', 'arya', 'eddard', 'jon'])\n",
    "\n",
    "len(525600)\n",
    "\n",
    "len(('jaime', 'cersei', 'tywin', 'tyrion', 'joffrey'))\n",
    "```\n",
    "\n",
    "Which of the function calls raises an error and what type of error is raised?"
   ]
  },
  {
   "cell_type": "markdown",
   "metadata": {},
   "source": [
    "---\n",
    "### Instructions `50xp`\n",
    "---"
   ]
  },
  {
   "cell_type": "markdown",
   "metadata": {},
   "source": [
    "<input type=\"radio\"> The call `len('There is a beast in every man and it stirs when you put a sword in his hand.')` raises a `TypeError`.\\\n",
    "<input type=\"radio\"> The call `len(['robb', 'sansa', 'arya', 'eddard', 'jon'])` raises an `IndexError`.\\\n",
    "<input type=\"radio\"> The call `len(525600)` raises a `TypeError`.\\\n",
    "<input type=\"radio\"> The call `len(('jaime', 'cersei', 'tywin', 'tyrion', 'joffrey'))` raises a `NameError`."
   ]
  },
  {
   "cell_type": "markdown",
   "metadata": {},
   "source": [
    "---"
   ]
  },
  {
   "cell_type": "code",
   "execution_count": 1,
   "metadata": {},
   "outputs": [],
   "source": [
    "# IPython Shell\n",
    "\n"
   ]
  }
 ],
 "metadata": {
  "kernelspec": {
   "display_name": "Python 3",
   "language": "python",
   "name": "python3"
  },
  "language_info": {
   "codemirror_mode": {
    "name": "ipython",
    "version": 3
   },
   "file_extension": ".py",
   "mimetype": "text/x-python",
   "name": "python",
   "nbconvert_exporter": "python",
   "pygments_lexer": "ipython3",
   "version": "3.7.4"
  }
 },
 "nbformat": 4,
 "nbformat_minor": 4
}
