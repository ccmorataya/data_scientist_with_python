{
 "cells": [
  {
   "cell_type": "markdown",
   "metadata": {},
   "source": [
    "---\n",
    "# Exercise\n",
    "---"
   ]
  },
  {
   "cell_type": "markdown",
   "metadata": {},
   "source": [
    "<h1 class=\"exercise--title\">Write a basic list comprehension</h1>\n",
    "<p>In this exercise, you will practice what you've learned from the video about writing list comprehensions. You will write a list comprehension and identify the output that will be produced.</p>\n",
    "<p>The following list has been pre-loaded in the environment.</p>\n",
    "\n",
    "``` python\n",
    "doctor = ['house', 'cuddy', 'chase', 'thirteen', 'wilson']\n",
    "```\n",
    "\n",
    "<p>How would a list comprehension that produces a list of the <strong>first character</strong> of each string in <code>doctor</code> look like? Note that the list comprehension uses <code>doc</code> as the iterator variable. What will the output be?</p>"
   ]
  },
  {
   "cell_type": "markdown",
   "metadata": {},
   "source": [
    "---\n",
    "### Instructions `100xp`\n",
    "---"
   ]
  },
  {
   "cell_type": "markdown",
   "metadata": {},
   "source": [
    "<input type=\"radio\" > The list comprehension is <code>[for doc in doctor: doc[0]]</code> and produces the list <code>['h', 'c', 'c', 't', 'w']</code>.</div>\\\n",
    "<input type=\"radio\" > The list comprehension is <code>[doc[0] for doc in doctor]</code> and produces the list <code>['h', 'c', 'c', 't', 'w']</code>.</div>\\\n",
    "<input type=\"radio\" > The list comprehension is <code>[doc[0] in doctor]</code> and produces the list <code>['h', 'c', 'c', 't', 'w']</code>.</div>"
   ]
  },
  {
   "cell_type": "markdown",
   "metadata": {},
   "source": [
    "---"
   ]
  },
  {
   "cell_type": "code",
   "execution_count": null,
   "metadata": {},
   "outputs": [],
   "source": [
    "# IPython Shell\n",
    "\n"
   ]
  }
 ],
 "metadata": {
  "kernelspec": {
   "display_name": "Python 3",
   "language": "python",
   "name": "python3"
  },
  "language_info": {
   "codemirror_mode": {
    "name": "ipython",
    "version": 3
   },
   "file_extension": ".py",
   "mimetype": "text/x-python",
   "name": "python",
   "nbconvert_exporter": "python",
   "pygments_lexer": "ipython3",
   "version": "3.7.4"
  }
 },
 "nbformat": 4,
 "nbformat_minor": 4
}
