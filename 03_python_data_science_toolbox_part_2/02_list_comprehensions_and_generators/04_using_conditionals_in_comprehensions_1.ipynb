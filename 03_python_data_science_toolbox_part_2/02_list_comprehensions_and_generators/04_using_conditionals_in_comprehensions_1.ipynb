{
 "cells": [
  {
   "cell_type": "markdown",
   "metadata": {},
   "source": [
    "---\n",
    "# Exercise\n",
    "---"
   ]
  },
  {
   "cell_type": "markdown",
   "metadata": {},
   "source": [
    "<h1 class=\"exercise--title\">Using conditionals in comprehensions (1)</h1>\n",
    "<p>You've been using list comprehensions to build lists of values, sometimes using operations to create these values. </p>\n",
    "<p>An interesting mechanism in list comprehensions is that you can also create lists with values that meet only a certain condition. One way of doing this is by using conditionals on iterator variables. In this exercise, you will do exactly that!</p>\n",
    "<p>Recall from the video that you can apply a conditional statement to test the iterator variable by adding an <code>if</code> statement in the optional <em>predicate expression</em> part after the <code>for</code> statement in the comprehension: </p>\n",
    "<p><code>[</code> <em>output expression</em> <code>for</code> <em>iterator variable</em> <code>in</code> <em>iterable</em> <code>if</code> <em>predicate expression</em> <code>]</code>. </p>\n",
    "<p>You will use this recipe to write a list comprehension for this exercise. You are given a list of strings <code>fellowship</code> and, using a list comprehension, you will create a list that only includes the members of <code>fellowship</code> that have 7 characters or more.</p>"
   ]
  },
  {
   "cell_type": "markdown",
   "metadata": {},
   "source": [
    "---\n",
    "### Instructions `100xp`\n",
    "---"
   ]
  },
  {
   "cell_type": "markdown",
   "metadata": {},
   "source": [
    "* Use <code>member</code> as the iterator variable in the list comprehension. For the conditional, use <code>len()</code> to evaluate the iterator variable. Note that you only want strings with 7 characters or more."
   ]
  },
  {
   "cell_type": "markdown",
   "metadata": {},
   "source": [
    "---"
   ]
  },
  {
   "cell_type": "code",
   "execution_count": null,
   "metadata": {},
   "outputs": [],
   "source": [
    "# script.py\n",
    "\n",
    "# Create a list of strings: fellowship\n",
    "fellowship = ['frodo', 'samwise', 'merry', 'aragorn', 'legolas', 'boromir', 'gimli']\n",
    "\n",
    "# Create list comprehension: new_fellowship\n",
    "new_fellowship = [____ for ____ in fellowship ____]\n",
    "\n",
    "# Print the new list\n",
    "print(new_fellowship)\n"
   ]
  }
 ],
 "metadata": {
  "kernelspec": {
   "display_name": "Python 3",
   "language": "python",
   "name": "python3"
  },
  "language_info": {
   "codemirror_mode": {
    "name": "ipython",
    "version": 3
   },
   "file_extension": ".py",
   "mimetype": "text/x-python",
   "name": "python",
   "nbconvert_exporter": "python",
   "pygments_lexer": "ipython3",
   "version": "3.7.4"
  }
 },
 "nbformat": 4,
 "nbformat_minor": 4
}
