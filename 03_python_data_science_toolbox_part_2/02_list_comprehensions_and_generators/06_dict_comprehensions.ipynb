{
 "cells": [
  {
   "cell_type": "markdown",
   "metadata": {},
   "source": [
    "---\n",
    "# Exercise\n",
    "---"
   ]
  },
  {
   "cell_type": "markdown",
   "metadata": {},
   "source": [
    "<h1 class=\"exercise--title\">Dict comprehensions</h1>\n",
    "<p>Comprehensions aren't relegated merely to the world of lists. There are many other objects you can build using comprehensions, such as dictionaries, pervasive objects in Data Science. You will create a dictionary using the comprehension syntax for this exercise. In this case, the comprehension is called a <strong>dict comprehension</strong>.</p>\n",
    "<p>Recall that the main difference between a <em>list comprehension</em> and a <em>dict comprehension</em> is the use of curly braces <code>{}</code> instead of <code>[]</code>. Additionally, members of the dictionary are created using a colon <code>:</code>, as in <code>&lt;key&gt; : &lt;value&gt;</code>.</p>\n",
    "<p>You are given a list of strings <code>fellowship</code> and, using a <strong>dict comprehension</strong>, create a dictionary with the members of the list as the keys and the length of each string as the corresponding values.</p>"
   ]
  },
  {
   "cell_type": "markdown",
   "metadata": {},
   "source": [
    "---\n",
    "### Instructions `100xp`\n",
    "---"
   ]
  },
  {
   "cell_type": "markdown",
   "metadata": {},
   "source": [
    "<p>Create a dict comprehension where the key is a string in <code>fellowship</code> and the value is the length of the string. Remember to use the syntax <code>&lt;key&gt; : &lt;value&gt;</code> in the output expression part of the comprehension to create the members of the dictionary. Use <code>member</code> as the iterator variable.</p>"
   ]
  },
  {
   "cell_type": "markdown",
   "metadata": {},
   "source": [
    "---"
   ]
  },
  {
   "cell_type": "code",
   "execution_count": null,
   "metadata": {},
   "outputs": [],
   "source": [
    "# script.py\n",
    "\n",
    "# Create a list of strings: fellowship\n",
    "fellowship = ['frodo', 'samwise', 'merry', 'aragorn', 'legolas', 'boromir', 'gimli']\n",
    "\n",
    "# Create dict comprehension: new_fellowship\n",
    "new_fellowship = ____\n",
    "\n",
    "# Print the new dictionary\n",
    "print(new_fellowship)\n"
   ]
  }
 ],
 "metadata": {
  "kernelspec": {
   "display_name": "Python 3",
   "language": "python",
   "name": "python3"
  },
  "language_info": {
   "codemirror_mode": {
    "name": "ipython",
    "version": 3
   },
   "file_extension": ".py",
   "mimetype": "text/x-python",
   "name": "python",
   "nbconvert_exporter": "python",
   "pygments_lexer": "ipython3",
   "version": "3.7.4"
  }
 },
 "nbformat": 4,
 "nbformat_minor": 4
}
