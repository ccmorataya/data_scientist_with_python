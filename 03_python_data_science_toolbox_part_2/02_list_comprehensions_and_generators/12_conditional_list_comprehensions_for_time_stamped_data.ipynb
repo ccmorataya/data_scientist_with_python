{
 "cells": [
  {
   "cell_type": "markdown",
   "metadata": {},
   "source": [
    "---\n",
    "# Exercise\n",
    "---"
   ]
  },
  {
   "cell_type": "markdown",
   "metadata": {},
   "source": [
    "<h1 class=\"exercise--title\">Conditional list comprehensions for time-stamped data</h1>\n",
    "<p>Great, you've successfully extracted the data of interest, the time, from a pandas DataFrame! Let's tweak your work further by adding a conditional that further specifies which entries to select.</p>\n",
    "<p>In this exercise, you will be using a list comprehension to extract the time from time-stamped Twitter data. You will add a conditional expression to the list comprehension so that you only select the times in which <code>entry[17:19]</code> is equal to <code>'19'</code>. The pandas package has been imported as <code>pd</code> and the file <code>'tweets.csv'</code> has been imported as the <code>df</code> DataFrame for your use.</p>"
   ]
  },
  {
   "cell_type": "markdown",
   "metadata": {},
   "source": [
    "---\n",
    "### Instructions `100xp`\n",
    "---"
   ]
  },
  {
   "cell_type": "markdown",
   "metadata": {},
   "source": [
    "<ul>\n",
    "    <li>Extract the column <code>'created_at'</code> from <code>df</code> and assign the result to <code>tweet_time</code>.</li>\n",
    "    <li>Create a list comprehension that extracts the time from each row in <code>tweet_time</code>. Each row is a string that represents a timestamp, and you will access the <em>12th to 19th characters</em> in the string to extract the time. Use <code>entry</code> as the <em>iterator variable</em> and assign the result to <code>tweet_clock_time</code>. Additionally, add a conditional expression that checks whether <code>entry[17:19]</code> is equal to <code>'19'</code>.</li>\n",
    "</ul>"
   ]
  },
  {
   "cell_type": "markdown",
   "metadata": {},
   "source": [
    "---"
   ]
  },
  {
   "cell_type": "code",
   "execution_count": null,
   "metadata": {},
   "outputs": [],
   "source": [
    "# script.py\n",
    "\n",
    "# Extract the created_at column from df: tweet_time\n",
    "tweet_time = ____\n",
    "\n",
    "# Extract the clock time: tweet_clock_time\n",
    "tweet_clock_time = [____ for ____ in ____ if ____ == ____]\n",
    "\n",
    "# Print the extracted times\n",
    "print(tweet_clock_time)\n"
   ]
  }
 ],
 "metadata": {
  "kernelspec": {
   "display_name": "Python 3",
   "language": "python",
   "name": "python3"
  },
  "language_info": {
   "codemirror_mode": {
    "name": "ipython",
    "version": 3
   },
   "file_extension": ".py",
   "mimetype": "text/x-python",
   "name": "python",
   "nbconvert_exporter": "python",
   "pygments_lexer": "ipython3",
   "version": "3.7.4"
  }
 },
 "nbformat": 4,
 "nbformat_minor": 4
}
