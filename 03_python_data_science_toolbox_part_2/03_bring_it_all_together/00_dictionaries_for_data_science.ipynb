{
 "cells": [
  {
   "cell_type": "markdown",
   "metadata": {},
   "source": [
    "---\n",
    "# Exercise\n",
    "---"
   ]
  },
  {
   "cell_type": "markdown",
   "metadata": {},
   "source": [
    "<h1 class=\"exercise--title\">Dictionaries for data science</h1>\n",
    "<p>For this exercise, you'll use what you've learned about the <code>zip()</code> function and combine two lists into a dictionary. </p>\n",
    "<p>These lists are actually extracted from a <a href=\"http://data.worldbank.org/data-catalog/world-development-indicators\" target=\"_blank\" rel=\"noopener noreferrer\">bigger dataset file of world development indicators from the World Bank.</a> For pedagogical purposes, we have pre-processed this dataset into the lists that you'll be working with. </p>\n",
    "<p>The first list <code>feature_names</code> contains header names of the dataset and the second list <code>row_vals</code> contains actual values of a row from the dataset, corresponding to each of the header names.</p>"
   ]
  },
  {
   "cell_type": "markdown",
   "metadata": {},
   "source": [
    "---\n",
    "### Instructions `100xp`\n",
    "---"
   ]
  },
  {
   "cell_type": "markdown",
   "metadata": {},
   "source": [
    "<ul>\n",
    "    <li>Create a zip object by calling <code>zip()</code> and passing to it <code>feature_names</code> and <code>row_vals</code>. Assign the result to <code>zipped_lists</code>.</li>\n",
    "    <li>Create a dictionary from the <code>zipped_lists</code> zip object by calling <code>dict()</code> with <code>zipped_lists</code>. Assign the resulting dictionary to <code>rs_dict</code>.</li>\n",
    "</ul>"
   ]
  },
  {
   "cell_type": "markdown",
   "metadata": {},
   "source": [
    "---"
   ]
  },
  {
   "cell_type": "code",
   "execution_count": null,
   "metadata": {},
   "outputs": [],
   "source": [
    "# script.py\n",
    "\n",
    "# Zip lists: zipped_lists\n",
    "zipped_lists = ____\n",
    "\n",
    "# Create a dictionary: rs_dict\n",
    "rs_dict = ____\n",
    "\n",
    "# Print the dictionary\n",
    "print(rs_dict)\n"
   ]
  }
 ],
 "metadata": {
  "kernelspec": {
   "display_name": "Python 3",
   "language": "python",
   "name": "python3"
  },
  "language_info": {
   "codemirror_mode": {
    "name": "ipython",
    "version": 3
   },
   "file_extension": ".py",
   "mimetype": "text/x-python",
   "name": "python",
   "nbconvert_exporter": "python",
   "pygments_lexer": "ipython3",
   "version": "3.7.4"
  }
 },
 "nbformat": 4,
 "nbformat_minor": 4
}
