{
 "cells": [
  {
   "cell_type": "markdown",
   "metadata": {},
   "source": [
    "---\n",
    "# Exercise\n",
    "---"
   ]
  },
  {
   "cell_type": "markdown",
   "metadata": {},
   "source": [
    "<h1 class=\"exercise--title\">Using a list comprehension</h1>\n",
    "<p>This time, you're going to use the <code>lists2dict()</code> function you defined in the last exercise to turn a bunch of lists into a list of dictionaries with the help of a list comprehension.</p>\n",
    "<p>The <code>lists2dict()</code> function has already been preloaded, together with a couple of lists, <code>feature_names</code> and <code>row_lists</code>. <code>feature_names</code> contains the header names of the World Bank dataset and <code>row_lists</code> is a list of lists, where each sublist is a list of actual values of a row from the dataset.</p>\n",
    "<p>Your goal is to use a list comprehension to generate a list of dicts, where the <em>keys</em> are the header names and the <em>values</em> are the row entries.</p>"
   ]
  },
  {
   "cell_type": "markdown",
   "metadata": {},
   "source": [
    "---\n",
    "### Instructions `100xp`\n",
    "---"
   ]
  },
  {
   "cell_type": "markdown",
   "metadata": {},
   "source": [
    "<ul>\n",
    "    <li>Inspect the contents of <code>row_lists</code> by printing the first two lists in <code>row_lists</code>.</li>\n",
    "    <li>Create a list comprehension that generates a dictionary using <code>lists2dict()</code> for each sublist in <code>row_lists</code>. The keys are from the <code>feature_names</code> list and the values are the row entries in <code>row_lists</code>. Use <code>sublist</code> as your iterator variable and assign the resulting list of dictionaries to <code>list_of_dicts</code>.</li>\n",
    "    <li>Look at the first two dictionaries in <code>list_of_dicts</code> by printing them out.</li>\n",
    "</ul>"
   ]
  },
  {
   "cell_type": "markdown",
   "metadata": {},
   "source": [
    "---"
   ]
  },
  {
   "cell_type": "code",
   "execution_count": 2,
   "metadata": {},
   "outputs": [],
   "source": [
    "feature_names = ['CountryName','CountryCode','Year','Total Population','Urban population (% of total)']\n",
    "row_lists = [\n",
    "         ['Guatemala','GTM','1960','4127555.0','31.121'],\n",
    "         ['El Salvador','SLV','1961','2843246.0','38.516'],\n",
    "         ['Honduras','HND','1960','2002333.0','22.747'],\n",
    "         ['Nicaragua','NIC','1961','1830400.0','40.03'],\n",
    "         ['Costa Rica','CRI','1962','1432583.0','34.404'],\n",
    "         ['Panama','PAN','1962','1202372.0','42.494']\n",
    "]"
   ]
  },
  {
   "cell_type": "code",
   "execution_count": 6,
   "metadata": {},
   "outputs": [],
   "source": [
    "# Define lists2dict()\n",
    "def lists2dict(list1, list2):\n",
    "    \"\"\"Return a dictionary where list1 provides\n",
    "    the keys and list2 provides the values.\"\"\"\n",
    "\n",
    "    # Zip lists: zipped_lists\n",
    "    zipped_lists = zip(list1, list2)\n",
    "\n",
    "    # Create a dictionary: rs_dict\n",
    "    rs_dict = dict(zipped_lists)\n",
    "\n",
    "    # Return the dictionary\n",
    "    return dict(rs_dict)"
   ]
  },
  {
   "cell_type": "code",
   "execution_count": 7,
   "metadata": {},
   "outputs": [
    {
     "name": "stdout",
     "output_type": "stream",
     "text": [
      "['Guatemala', 'GTM', '1960', '4127555.0', '31.121']\n",
      "['El Salvador', 'SLV', '1961', '2843246.0', '38.516']\n",
      "{'CountryName': 'Guatemala', 'CountryCode': 'GTM', 'Year': '1960', 'Total Population': '4127555.0', 'Urban population (% of total)': '31.121'}\n",
      "{'CountryName': 'El Salvador', 'CountryCode': 'SLV', 'Year': '1961', 'Total Population': '2843246.0', 'Urban population (% of total)': '38.516'}\n"
     ]
    }
   ],
   "source": [
    "# script.py\n",
    "\n",
    "# Print the first two lists in row_lists\n",
    "print(row_lists[0])\n",
    "print(row_lists[1])\n",
    "\n",
    "# Turn list of lists into list of dicts: list_of_dicts\n",
    "list_of_dicts = [lists2dict(feature_names, sublist) for sublist in row_lists]\n",
    "\n",
    "# Print the first two dictionaries in list_of_dicts\n",
    "print(list_of_dicts[0])\n",
    "print(list_of_dicts[1])"
   ]
  }
 ],
 "metadata": {
  "kernelspec": {
   "display_name": "Python 3",
   "language": "python",
   "name": "python3"
  },
  "language_info": {
   "codemirror_mode": {
    "name": "ipython",
    "version": 3
   },
   "file_extension": ".py",
   "mimetype": "text/x-python",
   "name": "python",
   "nbconvert_exporter": "python",
   "pygments_lexer": "ipython3",
   "version": "3.7.5"
  }
 },
 "nbformat": 4,
 "nbformat_minor": 4
}
