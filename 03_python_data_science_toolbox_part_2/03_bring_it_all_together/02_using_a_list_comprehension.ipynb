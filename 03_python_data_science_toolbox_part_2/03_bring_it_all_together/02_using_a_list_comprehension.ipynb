{
 "cells": [
  {
   "cell_type": "markdown",
   "metadata": {},
   "source": [
    "---\n",
    "# Exercise\n",
    "---"
   ]
  },
  {
   "cell_type": "markdown",
   "metadata": {},
   "source": [
    "<h1 class=\"exercise--title\">Using a list comprehension</h1>\n",
    "<p>This time, you're going to use the <code>lists2dict()</code> function you defined in the last exercise to turn a bunch of lists into a list of dictionaries with the help of a list comprehension.</p>\n",
    "<p>The <code>lists2dict()</code> function has already been preloaded, together with a couple of lists, <code>feature_names</code> and <code>row_lists</code>. <code>feature_names</code> contains the header names of the World Bank dataset and <code>row_lists</code> is a list of lists, where each sublist is a list of actual values of a row from the dataset.</p>\n",
    "<p>Your goal is to use a list comprehension to generate a list of dicts, where the <em>keys</em> are the header names and the <em>values</em> are the row entries.</p>"
   ]
  },
  {
   "cell_type": "markdown",
   "metadata": {},
   "source": [
    "---\n",
    "### Instructions `100xp`\n",
    "---"
   ]
  },
  {
   "cell_type": "markdown",
   "metadata": {},
   "source": [
    "<ul>\n",
    "    <li>Inspect the contents of <code>row_lists</code> by printing the first two lists in <code>row_lists</code>.</li>\n",
    "    <li>Create a list comprehension that generates a dictionary using <code>lists2dict()</code> for each sublist in <code>row_lists</code>. The keys are from the <code>feature_names</code> list and the values are the row entries in <code>row_lists</code>. Use <code>sublist</code> as your iterator variable and assign the resulting list of dictionaries to <code>list_of_dicts</code>.</li>\n",
    "    <li>Look at the first two dictionaries in <code>list_of_dicts</code> by printing them out.</li>\n",
    "</ul>"
   ]
  },
  {
   "cell_type": "markdown",
   "metadata": {},
   "source": [
    "---"
   ]
  },
  {
   "cell_type": "code",
   "execution_count": null,
   "metadata": {},
   "outputs": [],
   "source": [
    "# script.py\n",
    "\n",
    "# Print the first two lists in row_lists\n",
    "print(____)\n",
    "print(____)\n",
    "\n",
    "# Turn list of lists into list of dicts: list_of_dicts\n",
    "list_of_dicts = [____ for ____ in ____]\n",
    "\n",
    "# Print the first two dictionaries in list_of_dicts\n",
    "print(____)\n",
    "print(____)"
   ]
  }
 ],
 "metadata": {
  "kernelspec": {
   "display_name": "Python 3",
   "language": "python",
   "name": "python3"
  },
  "language_info": {
   "codemirror_mode": {
    "name": "ipython",
    "version": 3
   },
   "file_extension": ".py",
   "mimetype": "text/x-python",
   "name": "python",
   "nbconvert_exporter": "python",
   "pygments_lexer": "ipython3",
   "version": "3.7.4"
  }
 },
 "nbformat": 4,
 "nbformat_minor": 4
}
