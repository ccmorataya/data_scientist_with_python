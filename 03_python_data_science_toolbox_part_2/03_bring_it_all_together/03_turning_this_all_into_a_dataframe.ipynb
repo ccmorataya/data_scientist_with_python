{
 "cells": [
  {
   "cell_type": "markdown",
   "metadata": {},
   "source": [
    "---\n",
    "# Exercise\n",
    "---"
   ]
  },
  {
   "cell_type": "markdown",
   "metadata": {},
   "source": [
    "<h1 class=\"exercise--title\">Turning this all into a DataFrame</h1>\n",
    "<p>You've zipped lists together, created a function to house your code, and even used the function in a list comprehension to generate a list of dictionaries. That was a lot of work and you did a great job!</p>\n",
    "<p>You will now use of all these to convert the list of dictionaries into a pandas DataFrame. You will see how convenient it is to generate a DataFrame from dictionaries with the <code>DataFrame()</code> function from the pandas package. </p>\n",
    "<p>The <code>lists2dict()</code> function, <code>feature_names</code> list, and <code>row_lists</code> list have been preloaded for this exercise.</p>\n",
    "<p>Go for it!</p>"
   ]
  },
  {
   "cell_type": "markdown",
   "metadata": {},
   "source": [
    "---\n",
    "### Instructions `100xp`\n",
    "---"
   ]
  },
  {
   "cell_type": "markdown",
   "metadata": {},
   "source": [
    "<ul>\n",
    "    <li>To use the <code>DataFrame()</code> function you need, first import the pandas package with the alias <code>pd</code>.</li>\n",
    "    <li>Create a DataFrame from the list of dictionaries in <code>list_of_dicts</code> by calling <code>pd.DataFrame()</code>. Assign the resulting DataFrame to <code>df</code>.</li>\n",
    "    <li>Inspect the contents of <code>df</code> printing the head of the DataFrame. Head of the DataFrame <code>df</code> can be accessed by calling <code>df.head()</code>.</li>\n",
    "</ul>"
   ]
  },
  {
   "cell_type": "code",
   "execution_count": 1,
   "metadata": {},
   "outputs": [],
   "source": [
    "feature_names = ['CountryName','CountryCode','Year','Total Population','Urban population (% of total)']\n",
    "row_lists = [\n",
    "         ['Guatemala','GTM','1960','4127555.0','31.121'],\n",
    "         ['El Salvador','SLV','1961','2843246.0','38.516'],\n",
    "         ['Honduras','HND','1960','2002333.0','22.747'],\n",
    "         ['Nicaragua','NIC','1961','1830400.0','40.03'],\n",
    "         ['Costa Rica','CRI','1962','1432583.0','34.404'],\n",
    "         ['Panama','PAN','1962','1202372.0','42.494']\n",
    "]"
   ]
  },
  {
   "cell_type": "code",
   "execution_count": 2,
   "metadata": {},
   "outputs": [],
   "source": [
    "# Define lists2dict()\n",
    "def lists2dict(list1, list2):\n",
    "    \"\"\"Return a dictionary where list1 provides\n",
    "    the keys and list2 provides the values.\"\"\"\n",
    "\n",
    "    # Zip lists: zipped_lists\n",
    "    zipped_lists = zip(list1, list2)\n",
    "\n",
    "    # Create a dictionary: rs_dict\n",
    "    rs_dict = dict(zipped_lists)\n",
    "\n",
    "    # Return the dictionary\n",
    "    return dict(rs_dict)"
   ]
  },
  {
   "cell_type": "markdown",
   "metadata": {},
   "source": [
    "---"
   ]
  },
  {
   "cell_type": "code",
   "execution_count": 4,
   "metadata": {},
   "outputs": [
    {
     "name": "stdout",
     "output_type": "stream",
     "text": [
      "   CountryName CountryCode  Year Total Population  \\\n",
      "0    Guatemala         GTM  1960        4127555.0   \n",
      "1  El Salvador         SLV  1961        2843246.0   \n",
      "2     Honduras         HND  1960        2002333.0   \n",
      "3    Nicaragua         NIC  1961        1830400.0   \n",
      "4   Costa Rica         CRI  1962        1432583.0   \n",
      "\n",
      "  Urban population (% of total)  \n",
      "0                        31.121  \n",
      "1                        38.516  \n",
      "2                        22.747  \n",
      "3                         40.03  \n",
      "4                        34.404  \n"
     ]
    }
   ],
   "source": [
    "# script.py\n",
    "\n",
    "# Import the pandas package\n",
    "import pandas as pd\n",
    "\n",
    "# Turn list of lists into list of dicts: list_of_dicts\n",
    "list_of_dicts = [lists2dict(feature_names, sublist) for sublist in row_lists]\n",
    "\n",
    "# Turn list of dicts into a DataFrame: df\n",
    "df = pd.DataFrame(list_of_dicts)\n",
    "\n",
    "# Print the head of the DataFrame\n",
    "print(df.head())\n"
   ]
  }
 ],
 "metadata": {
  "kernelspec": {
   "display_name": "Python 3",
   "language": "python",
   "name": "python3"
  },
  "language_info": {
   "codemirror_mode": {
    "name": "ipython",
    "version": 3
   },
   "file_extension": ".py",
   "mimetype": "text/x-python",
   "name": "python",
   "nbconvert_exporter": "python",
   "pygments_lexer": "ipython3",
   "version": "3.7.5"
  }
 },
 "nbformat": 4,
 "nbformat_minor": 4
}
