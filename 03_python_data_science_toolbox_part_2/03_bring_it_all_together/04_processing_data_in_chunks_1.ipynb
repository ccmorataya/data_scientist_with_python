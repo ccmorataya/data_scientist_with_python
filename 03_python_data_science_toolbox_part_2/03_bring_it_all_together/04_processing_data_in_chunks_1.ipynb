{
 "cells": [
  {
   "cell_type": "markdown",
   "metadata": {},
   "source": [
    "---\n",
    "# Exercise\n",
    "---"
   ]
  },
  {
   "cell_type": "markdown",
   "metadata": {},
   "source": [
    "<h1 class=\"exercise--title\">Processing data in chunks (1)</h1>\n",
    "<p>Sometimes, data sources can be so large in size that storing the entire dataset in memory becomes too resource-intensive. In this exercise, you will process the first 1000 rows of a file line by line, to create a dictionary of the counts of how many times each country appears in a column in the dataset.</p>\n",
    "<p>The csv file <code>'world_dev_ind.csv'</code> is in your current directory for your use. To begin, you need to open a connection to this file using what is known as a context manager. For example, the command <code>with open('datacamp.csv') as datacamp</code> binds the csv file <code>'datacamp.csv'</code> as <code>datacamp</code> in the context manager. Here, the <code>with</code> statement is the context manager, and its purpose is to ensure that resources are efficiently allocated when opening a connection to a file.</p>\n",
    "<p>If you'd like to learn more about context managers, refer to the <a href=\"https://www.datacamp.com/courses/importing-data-in-python-part-1\" target=\"_blank\" rel=\"noopener noreferrer\">DataCamp course on Importing Data in Python.</a></p>"
   ]
  },
  {
   "cell_type": "markdown",
   "metadata": {},
   "source": [
    "---\n",
    "### Instructions `100xp`\n",
    "---"
   ]
  },
  {
   "cell_type": "markdown",
   "metadata": {},
   "source": [
    "<ul>\n",
    "    <li>Use <code>open()</code> to bind the csv file <code>'world_dev_ind.csv'</code> as <code>file</code> in the context manager.</li>\n",
    "    <li>Complete the <code>for</code> loop so that it iterates <strong>1000</strong> times to perform the loop body and process only the first 1000 rows of data of the file.</li>\n",
    "</ul>"
   ]
  },
  {
   "cell_type": "markdown",
   "metadata": {},
   "source": [
    "---"
   ]
  },
  {
   "cell_type": "code",
   "execution_count": 2,
   "metadata": {},
   "outputs": [
    {
     "name": "stdout",
     "output_type": "stream",
     "text": [
      "{'Caribbean small states': 42, 'East Asia & Pacific (all income levels)': 42, 'Euro area': 42, 'Europe & Central Asia (developing only)': 42, 'Fragile and conflict affected situations': 42, 'High income': 42, 'High income: OECD': 42, 'Latin America & Caribbean (developing only)': 42, 'Low & middle income': 42, 'Lower middle income': 42, 'Middle East & North Africa (developing only)': 42, 'North America': 42, 'Other small states': 42, 'Small states': 42, 'Sub-Saharan Africa (all income levels)': 42, 'Upper middle income': 42, 'Afghanistan': 42, 'Algeria': 42, 'Andorra': 42, 'Antigua and Barbuda': 42, 'Armenia': 42, 'Australia': 42, 'Azerbaijan': 42, 'Bahrain': 42, 'Barbados': 42, 'Belgium': 42, 'Benin': 42, 'Bhutan': 42, 'Bosnia and Herzegovina': 42, 'Brazil': 42, 'Bulgaria': 42, 'Burundi': 42, 'Cambodia': 42, 'Canada': 42, 'Central African Republic': 42, 'Channel Islands': 42, 'China': 42, 'Comoros': 42, '\"Congo': 55, \"Cote d'Ivoire\": 42, 'Cuba': 42, 'Cyprus': 42, 'Denmark': 42, 'Dominica': 42, 'Ecuador': 42, 'El Salvador': 42, 'Eritrea': 42, 'Ethiopia': 42, 'Fiji': 42, 'France': 42, 'Gabon': 42, 'Georgia': 42, 'Ghana': 42, 'Greenland': 42, 'Guam': 42, 'Guinea': 42, 'Guyana': 42, 'Honduras': 42, 'Hungary': 42, 'India': 42, '\"Iran': 42, 'Ireland': 42, 'Israel': 42, 'Jamaica': 42, 'Jordan': 42, 'Kenya': 42, '\"Korea': 55, 'Kuwait': 40, 'Lao PDR': 41, 'Lebanon': 41, 'Liberia': 41, 'Liechtenstein': 41, 'Luxembourg': 41, '\"Macedonia': 41, 'Malawi': 41, 'Maldives': 41, 'Malta': 41, 'Mauritania': 41, 'Mexico': 41, 'Moldova': 41, 'Mongolia': 41, 'Morocco': 41, 'Myanmar': 41, 'Nepal': 41, 'New Caledonia': 41, 'Nicaragua': 41, 'Nigeria': 41, 'Norway': 41, 'Pakistan': 41, 'Panama': 41, 'Paraguay': 41, 'Philippines': 41, 'Portugal': 41, 'Qatar': 41, 'Russian Federation': 41, 'Samoa': 41, 'Sao Tome and Principe': 41, 'Senegal': 41, 'Sierra Leone': 44, 'Slovak Republic': 43, 'Solomon Islands': 43, 'South Africa': 43, 'Spain': 43, 'St. Kitts and Nevis': 43, 'St. Vincent and the Grenadines': 43, 'Suriname': 43, 'Sweden': 43, 'Syrian Arab Republic': 43, 'Tanzania': 43, 'Timor-Leste': 43, 'Tonga': 43, 'Tunisia': 43, 'Turkmenistan': 43, 'Tuvalu': 43, 'Ukraine': 43, 'United Kingdom': 43, 'Uruguay': 43, 'Vanuatu': 43, 'Vietnam': 43, '\"Yemen': 42, 'Zimbabwe': 42, 'Seychelles': 11, 'Singapore': 11, 'Slovenia': 12, 'Somalia': 12, 'South Sudan': 12, 'Sri Lanka': 12, 'St. Lucia': 12, 'Sudan': 12, 'Swaziland': 12, 'Switzerland': 12, 'Tajikistan': 12, 'Thailand': 12, 'Togo': 12, 'Trinidad and Tobago': 12, 'Turkey': 12, 'Turks and Caicos Islands': 12, 'Uganda': 12, 'United Arab Emirates': 12, 'United States': 12, 'Uzbekistan': 12, '\"Venezuela': 12, 'Virgin Islands (U.S.)': 12, 'Kyrgyz Republic': 14, 'Latvia': 14, 'Lesotho': 14, 'Libya': 14, 'Lithuania': 14, '\"Macao SAR': 14, 'Madagascar': 14, 'Malaysia': 14, 'Mali': 14, 'Marshall Islands': 14, 'Mauritius': 14, '\"Micronesia': 14, 'Monaco': 14, 'Montenegro': 14, 'Mozambique': 14, 'Namibia': 14, 'Netherlands': 14, 'New Zealand': 14, 'Niger': 14, 'Northern Mariana Islands': 14, 'Oman': 14, 'Palau': 14, 'Papua New Guinea': 14, 'Peru': 14, 'Poland': 14, 'Puerto Rico': 14, 'Romania': 14, 'Rwanda': 14, 'San Marino': 14, 'Saudi Arabia': 14, 'Serbia': 14, 'West Bank and Gaza': 13, 'Zambia': 13, 'Arab World': 13, 'Central Europe and the Baltics': 13, 'East Asia & Pacific (developing only)': 13, 'Europe & Central Asia (all income levels)': 13, 'European Union': 13, 'Heavily indebted poor countries (HIPC)': 13, 'High income: nonOECD': 13, 'Latin America & Caribbean (all income levels)': 13, 'Least developed countries: UN classification': 13, 'Low income': 13, 'Middle East & North Africa (all income levels)': 13, 'Middle income': 13, 'OECD members': 13, 'Pacific island small states': 13, 'South Asia': 13, 'Sub-Saharan Africa (developing only)': 13, 'World': 13, 'Albania': 13, 'American Samoa': 13, 'Angola': 13, 'Argentina': 13, 'Aruba': 13, 'Austria': 13, '\"Bahamas': 13, 'Bangladesh': 13, 'Belarus': 13, 'Belize': 13, 'Bermuda': 13, 'Bolivia': 13, 'Botswana': 13, 'Brunei Darussalam': 13, 'Burkina Faso': 13, 'Cabo Verde': 13, 'Cameroon': 13, 'Cayman Islands': 13, 'Chad': 13, 'Chile': 13, 'Colombia': 13, 'Costa Rica': 13, 'Croatia': 13, 'Curacao': 13, 'Czech Republic': 13, 'Djibouti': 13, 'Dominican Republic': 13, '\"Egypt': 13, 'Equatorial Guinea': 13, 'Estonia': 13, 'Faeroe Islands': 13, 'Finland': 13, 'French Polynesia': 13, '\"Gambia': 13, 'Germany': 13, 'Greece': 13, 'Grenada': 13, 'Guatemala': 13, 'Guinea-Bissau': 13, 'Haiti': 13, '\"Hong Kong SAR': 13, 'Iceland': 13, 'Indonesia': 13, 'Iraq': 13, 'Isle of Man': 13, 'Italy': 13, 'Japan': 13, 'Kazakhstan': 13, 'Kiribati': 13, 'Sint Maarten (Dutch part)': 9}\n"
     ]
    }
   ],
   "source": [
    "# script.py\n",
    "\n",
    "# Open a connection to the file\n",
    "with open('00_1_world_ind_pop_data.csv') as file:\n",
    "\n",
    "    # Skip the column names\n",
    "    file.readline()\n",
    "\n",
    "    # Initialize an empty dictionary: counts_dict\n",
    "    counts_dict = {}\n",
    "\n",
    "    # Process only the first 1000 rows\n",
    "    for j in file:\n",
    "\n",
    "        # Split the current line into a list: line\n",
    "        line = file.readline().split(',')\n",
    "\n",
    "        # Get the value for the first column: first_col\n",
    "        first_col = line[0]\n",
    "\n",
    "        # If the column value is in the dict, increment its value\n",
    "        if first_col in counts_dict.keys():\n",
    "            counts_dict[first_col] += 1\n",
    "\n",
    "        # Else, add to the dict and set value to 1\n",
    "        else:\n",
    "            counts_dict[first_col] = 1\n",
    "\n",
    "# Print the resulting dictionary\n",
    "print(counts_dict)"
   ]
  }
 ],
 "metadata": {
  "kernelspec": {
   "display_name": "Python 3",
   "language": "python",
   "name": "python3"
  },
  "language_info": {
   "codemirror_mode": {
    "name": "ipython",
    "version": 3
   },
   "file_extension": ".py",
   "mimetype": "text/x-python",
   "name": "python",
   "nbconvert_exporter": "python",
   "pygments_lexer": "ipython3",
   "version": "3.7.5"
  }
 },
 "nbformat": 4,
 "nbformat_minor": 4
}
