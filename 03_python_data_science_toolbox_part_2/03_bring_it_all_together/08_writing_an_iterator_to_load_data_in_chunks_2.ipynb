{
 "cells": [
  {
   "cell_type": "markdown",
   "metadata": {},
   "source": [
    "---\n",
    "# Exercise\n",
    "---"
   ]
  },
  {
   "cell_type": "markdown",
   "metadata": {},
   "source": [
    "<h1 class=\"exercise--title\">Writing an iterator to load data in chunks (2)</h1>\n",
    "<p>In the previous exercise, you used <code>read_csv()</code> to read in DataFrame chunks from a large dataset. In this exercise, you will read in a file using a bigger DataFrame chunk size and then process the data from the first chunk. </p>\n",
    "<p>To process the data, you will create another DataFrame composed of only the rows from a specific country. You will then zip together two of the columns from the new DataFrame, <code>'Total Population'</code> and <code>'Urban population (% of total)'</code>. Finally, you will create a list of tuples from the zip object, where each tuple is composed of a value from each of the two columns mentioned.</p>\n",
    "<p>You're going to use the data from <code>'ind_pop_data.csv'</code>, available in your current directory. Pandas has been imported as <code>pd</code>.</p>"
   ]
  },
  {
   "cell_type": "markdown",
   "metadata": {},
   "source": [
    "---\n",
    "### Instructions `100xp`\n",
    "---"
   ]
  },
  {
   "cell_type": "markdown",
   "metadata": {},
   "source": [
    "<ul>\n",
    "    <li>Use <code>pd.read_csv()</code> to read in the file in <code>'ind_pop_data.csv'</code> in chunks of size <code>1000</code>. Assign the result to <code>urb_pop_reader</code>.</li>\n",
    "    <li>Get the <strong>first</strong> DataFrame chunk from the iterable <code>urb_pop_reader</code> and assign this to <code>df_urb_pop</code>.</li>\n",
    "    <li>Select only the rows of <code>df_urb_pop</code> that have a <code>'CountryCode'</code> of <code>'CEB'</code>. To do this, compare whether <code>df_urb_pop['CountryCode']</code> is <strong>equal</strong> to <code>'CEB'</code> within the square brackets in <code>df_urb_pop[____]</code>. </li>\n",
    "    <li>Using <code>zip()</code>, zip together the <code>'Total Population'</code> and <code>'Urban population (% of total)'</code> columns of <code>df_pop_ceb</code>. Assign the resulting zip object to <code>pops</code>.</li>\n",
    "</ul>"
   ]
  },
  {
   "cell_type": "markdown",
   "metadata": {},
   "source": [
    "---"
   ]
  },
  {
   "cell_type": "code",
   "execution_count": null,
   "metadata": {},
   "outputs": [],
   "source": [
    "# script.py\n",
    "\n",
    "# Initialize reader object: urb_pop_reader\n",
    "urb_pop_reader = pd.read_csv(____, ____)\n",
    "\n",
    "# Get the first DataFrame chunk: df_urb_pop\n",
    "df_urb_pop = next(____)\n",
    "\n",
    "# Check out the head of the DataFrame\n",
    "print(df_urb_pop.head())\n",
    "\n",
    "# Check out specific country: df_pop_ceb\n",
    "df_pop_ceb = df_urb_pop[____]\n",
    "\n",
    "# Zip DataFrame columns of interest: pops\n",
    "pops = zip(____, ____)\n",
    "\n",
    "# Turn zip object into list: pops_list\n",
    "pops_list = list(pops)\n",
    "\n",
    "# Print pops_list\n",
    "print(pops_list)"
   ]
  }
 ],
 "metadata": {
  "kernelspec": {
   "display_name": "Python 3",
   "language": "python",
   "name": "python3"
  },
  "language_info": {
   "codemirror_mode": {
    "name": "ipython",
    "version": 3
   },
   "file_extension": ".py",
   "mimetype": "text/x-python",
   "name": "python",
   "nbconvert_exporter": "python",
   "pygments_lexer": "ipython3",
   "version": "3.7.4"
  }
 },
 "nbformat": 4,
 "nbformat_minor": 4
}
