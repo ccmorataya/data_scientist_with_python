{
 "cells": [
  {
   "cell_type": "markdown",
   "metadata": {},
   "source": [
    "---\n",
    "# Exercise\n",
    "---"
   ]
  },
  {
   "cell_type": "markdown",
   "metadata": {},
   "source": [
    "<h1 class=\"exercise--title\">Writing an iterator to load data in chunks (3)</h1>\n",
    "<p>You're getting used to reading and processing data in chunks by now. Let's push your skills a little further by adding a column to a DataFrame.</p>\n",
    "<p>Starting from the code of the previous exercise, you will be using a <em>list comprehension</em> to create the values for a new column <code>'Total Urban Population'</code> from the list of tuples that you generated earlier. Recall from the previous exercise that the first and second elements of each tuple consist of, respectively, values from the columns <code>'Total Population'</code> and <code>'Urban population (% of total)'</code>. The values in this new column <code>'Total Urban Population'</code>, therefore, are the product of the first and second element in each tuple. Furthermore, because the 2nd element is a percentage, you need to divide the entire result by <code>100</code>, or alternatively, multiply it by <code>0.01</code>.</p>\n",
    "<p>You will also plot the data from this new column to create a visualization of the urban population data.</p>\n",
    "<p>The packages <code>pandas</code> and <code>matplotlib.pyplot</code> have been imported as <code>pd</code> and <code>plt</code> respectively for your use.</p>"
   ]
  },
  {
   "cell_type": "markdown",
   "metadata": {},
   "source": [
    "---\n",
    "### Instructions `100xp`\n",
    "---"
   ]
  },
  {
   "cell_type": "markdown",
   "metadata": {},
   "source": [
    "<ul>\n",
    "    <li>Write a list comprehension to generate a list of values from <code>pops_list</code> for the new column <code>'Total Urban Population'</code>. The <em>output expression</em> should be the product of the first and second element in each tuple in <code>pops_list</code>. Because the 2nd element is a percentage, you also need to either multiply the result by <code>0.01</code> or divide it by <code>100</code>. In addition, note that the column <code>'Total Urban Population'</code> should only be able to take on integer values. To ensure this, make sure you cast the <em>output expression</em> to an integer with <code>int()</code>.</li>\n",
    "    <li>Create a <em>scatter</em> plot where the x-axis are values from the <code>'Year'</code> column and the y-axis are values from the <code>'Total Urban Population'</code> column.</li>\n",
    "</ul>"
   ]
  },
  {
   "cell_type": "markdown",
   "metadata": {},
   "source": [
    "---"
   ]
  },
  {
   "cell_type": "code",
   "execution_count": 1,
   "metadata": {},
   "outputs": [],
   "source": [
    "import pandas as pd\n",
    "import matplotlib.pyplot as plt"
   ]
  },
  {
   "cell_type": "code",
   "execution_count": 11,
   "metadata": {},
   "outputs": [
    {
     "name": "stderr",
     "output_type": "stream",
     "text": [
      "/data/data/com.termux/files/usr/lib/python3.7/site-packages/ipykernel_launcher.py:12: SettingWithCopyWarning: \n",
      "A value is trying to be set on a copy of a slice from a DataFrame.\n",
      "Try using .loc[row_indexer,col_indexer] = value instead\n",
      "\n",
      "See the caveats in the documentation: http://pandas.pydata.org/pandas-docs/stable/user_guide/indexing.html#returning-a-view-versus-a-copy\n",
      "  if sys.path[0] == '':\n"
     ]
    },
    {
     "data": {
      "image/png": "[encoded data removed]",
      "text/plain": [
       "<Figure size 432x288 with 1 Axes>"
      ]
     },
     "metadata": {
      "needs_background": "light"
     },
     "output_type": "display_data"
    }
   ],
   "source": [
    "# script.py\n",
    "\n",
    "# Code from previous exercise\n",
    "urb_pop_reader = pd.read_csv('00_1_world_ind_pop_data.csv', chunksize=1000)\n",
    "df_urb_pop = next(urb_pop_reader)\n",
    "df_pop_ceb = df_urb_pop[df_urb_pop['CountryCode'] == 'CEB']\n",
    "pops = zip(df_pop_ceb['Total Population'], \n",
    "           df_pop_ceb['Urban population (% of total)'])\n",
    "pops_list = list(pops)\n",
    "\n",
    "# Use list comprehension to create new DataFrame column 'Total Urban Population'\n",
    "df_pop_ceb['Total Urban Population'] = [int(tup[0] * tup[1] * 0.01) for tup in pops_list]\n",
    "\n",
    "# Plot urban population data\n",
    "df_pop_ceb.plot(kind='scatter', x='Year', y='Total Urban Population')\n",
    "plt.show()"
   ]
  }
 ],
 "metadata": {
  "kernelspec": {
   "display_name": "Python 3",
   "language": "python",
   "name": "python3"
  },
  "language_info": {
   "codemirror_mode": {
    "name": "ipython",
    "version": 3
   },
   "file_extension": ".py",
   "mimetype": "text/x-python",
   "name": "python",
   "nbconvert_exporter": "python",
   "pygments_lexer": "ipython3",
   "version": "3.7.5"
  }
 },
 "nbformat": 4,
 "nbformat_minor": 4
}
