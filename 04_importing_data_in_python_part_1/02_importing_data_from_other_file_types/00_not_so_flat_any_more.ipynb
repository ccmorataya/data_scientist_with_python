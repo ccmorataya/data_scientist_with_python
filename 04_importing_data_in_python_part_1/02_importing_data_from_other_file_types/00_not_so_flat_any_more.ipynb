{
 "cells": [
  {
   "cell_type": "markdown",
   "metadata": {},
   "source": [
    "---\n",
    "# Exercise\n",
    "---"
   ]
  },
  {
   "cell_type": "markdown",
   "metadata": {},
   "source": [
    "<h1 class=\"exercise--title\">Not so flat any more</h1>\n",
    "<p>In Chapter 1, you learned how to use the IPython magic command <code>! ls</code> to explore your current working directory. You can also do this natively in Python using the <a href=\"https://docs.python.org/2/library/os.html\" target=\"_blank\" rel=\"noopener noreferrer\">library <code>os</code></a>, which consists of miscellaneous operating system interfaces.</p>\n",
    "<p>The first line of the following code imports the library <code>os</code>, the second line stores the name of the current directory in a string called <code>wd</code> and the third outputs the contents of the directory in a list to the shell.</p>\n",
    "\n",
    "``` python\n",
    "import os\n",
    "wd = os.getcwd()\n",
    "os.listdir(wd)\n",
    "```\n",
    "\n",
    "<p>Run this code in the IPython shell and answer the following questions. Ignore the files that begin with <code>.</code>.</p>\n",
    "<p>Check out the contents of your current directory and answer the following questions: (1) which file is in your directory and NOT an example of a flat file; (2) why is it not a flat file?</p>"
   ]
  },
  {
   "cell_type": "markdown",
   "metadata": {},
   "source": [
    "---\n",
    "### Instructions `50xp`\n",
    "---"
   ]
  },
  {
   "cell_type": "markdown",
   "metadata": {},
   "source": [
    "**<h5>Possible Answers</h5>**\n",
    "<input type=\"radio\">`database.db` is not a flat file because relational databases contain structured relationships and flat files do not.\\\n",
    "<input type=\"radio\">`battledeath.xlsx` is not a flat because it is a spreadsheet consisting of many sheets, not a single table.\\\n",
    "<input type=\"radio\">`titanic.txt` is not a flat file because it is a `.txt`, not a `.csv`."
   ]
  },
  {
   "cell_type": "markdown",
   "metadata": {},
   "source": [
    "---"
   ]
  },
  {
   "cell_type": "code",
   "execution_count": 1,
   "metadata": {},
   "outputs": [
    {
     "data": {
      "text/plain": [
       "['00_0_ch2_pdf_slides.pdf',\n",
       " '.ipynb_checkpoints',\n",
       " '00_not_so_flat_any_more.ipynb',\n",
       " '05_how_to_import_sas7bdat.ipynb',\n",
       " '01_loading_a_pickled_file.ipynb',\n",
       " '08_importing_stata_files.ipynb',\n",
       " '02_listing_sheets_in_excel_files.ipynb',\n",
       " '04_customizing_your_spreadsheet_import.ipynb',\n",
       " '03_importing_sheets_from_excel_files.ipynb',\n",
       " '06_importing_sas_files.ipynb',\n",
       " '07_using_read_stata_to_import_stata_files.ipynb',\n",
       " '00_2_sales.sas7bdat',\n",
       " '13_the_structure_of_mat_in_python.ipynb',\n",
       " '09_using_file_to_import_hdf5_files.ipynb',\n",
       " '10_using_h5py_to_import_hdf5_files.ipynb',\n",
       " '11_extracting_data_from_your_hdf5_file.ipynb',\n",
       " '12_loading_mat_files.ipynb',\n",
       " '00_1_battledeath.xlsx',\n",
       " '00_3_disarea.dta',\n",
       " '00_5_albeck_gene_expression.mat',\n",
       " '00_4_LIGO_data.hdf5']"
      ]
     },
     "execution_count": 1,
     "metadata": {},
     "output_type": "execute_result"
    }
   ],
   "source": [
    "# IPython Shell\n",
    "\n",
    "import os\n",
    "wd = os.getcwd()\n",
    "os.listdir(wd)"
   ]
  }
 ],
 "metadata": {
  "kernelspec": {
   "display_name": "Python 3",
   "language": "python",
   "name": "python3"
  },
  "language_info": {
   "codemirror_mode": {
    "name": "ipython",
    "version": 3
   },
   "file_extension": ".py",
   "mimetype": "text/x-python",
   "name": "python",
   "nbconvert_exporter": "python",
   "pygments_lexer": "ipython3",
   "version": "3.7.5"
  }
 },
 "nbformat": 4,
 "nbformat_minor": 4
}
