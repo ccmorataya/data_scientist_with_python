{
 "cells": [
  {
   "cell_type": "markdown",
   "metadata": {},
   "source": [
    "---\n",
    "# Exercise\n",
    "---"
   ]
  },
  {
   "cell_type": "markdown",
   "metadata": {},
   "source": [
    "<h1 class=\"exercise--title\">Loading a pickled file</h1>\n",
    "<p>There are a number of datatypes that cannot be saved easily\n",
    "    to flat files, such as lists and dictionaries. If you want your\n",
    "    files to be human readable, you may want to save them as text files\n",
    "    in a clever manner. JSONs, which you will see in a later chapter, are\n",
    "    appropriate for Python dictionaries.</p>\n",
    "<p>However, if you merely want to\n",
    "    be able to import them into Python, you can <a href=\"https://en.wikipedia.org/wiki/Serialization\" target=\"_blank\" rel=\"noopener noreferrer\">serialize</a>\n",
    "    them. All this means is converting the object into a sequence of bytes,\n",
    "    or a bytestream.</p>\n",
    "<p>In this exercise, you'll import the <code>pickle</code> package, open a previously\n",
    "    pickled data structure from a file and load it.</p>"
   ]
  },
  {
   "cell_type": "markdown",
   "metadata": {},
   "source": [
    "---\n",
    "### Instructions `100xp`\n",
    "---"
   ]
  },
  {
   "cell_type": "markdown",
   "metadata": {},
   "source": [
    "<ul>\n",
    "    <li>Import the <code>pickle</code> package.</li>\n",
    "    <li>Complete the second argument of <code>open()</code> so that it is read only\n",
    "        for a binary file. This argument will be a string of two letters,\n",
    "        one signifying 'read only', the other 'binary'.</li>\n",
    "    <li>Pass the correct argument to <code>pickle.load()</code>; it should use the variable\n",
    "        that is bound to <code>open</code>.</li>\n",
    "    <li>Print the data, <code>d</code>.</li>\n",
    "    <li>Print the datatype of <code>d</code>; take your mind back to your previous use of the function <code>type()</code>.</li>\n",
    "</ul>"
   ]
  },
  {
   "cell_type": "markdown",
   "metadata": {},
   "source": [
    "---"
   ]
  },
  {
   "cell_type": "code",
   "execution_count": null,
   "metadata": {},
   "outputs": [],
   "source": [
    "# script.py\n",
    "\n",
    "# Import pickle package\n",
    "\n",
    "\n",
    "# Open pickle file and load data: d\n",
    "with open('data.pkl', ____) as file:\n",
    "    d = pickle.load(____)\n",
    "\n",
    "# Print d\n",
    "print(____)\n",
    "\n",
    "# Print datatype of d\n",
    "print(____)"
   ]
  }
 ],
 "metadata": {
  "kernelspec": {
   "display_name": "Python 3",
   "language": "python",
   "name": "python3"
  },
  "language_info": {
   "codemirror_mode": {
    "name": "ipython",
    "version": 3
   },
   "file_extension": ".py",
   "mimetype": "text/x-python",
   "name": "python",
   "nbconvert_exporter": "python",
   "pygments_lexer": "ipython3",
   "version": "3.7.4"
  }
 },
 "nbformat": 4,
 "nbformat_minor": 4
}
