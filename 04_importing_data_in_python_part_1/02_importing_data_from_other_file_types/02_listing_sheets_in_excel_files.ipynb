{
 "cells": [
  {
   "cell_type": "markdown",
   "metadata": {},
   "source": [
    "---\n",
    "# Exercise\n",
    "---"
   ]
  },
  {
   "cell_type": "markdown",
   "metadata": {},
   "source": [
    "<h1 class=\"exercise--title\">Listing sheets in Excel files</h1>\n",
    "<p>Whether you like it or not, any working data scientist will need\n",
    "    to deal with Excel spreadsheets at some point in time. You won't\n",
    "    always want to do so in Excel, however!</p>\n",
    "<p>Here, you'll learn how to use <code>pandas</code> to import Excel spreadsheets\n",
    "    and how to list the names of the sheets in any loaded .xlsx file.</p>\n",
    "<p>Recall from the video that, given an Excel file imported into a variable\n",
    "    <code>spreadsheet</code>, you can retrieve a list of the sheet names using the attribute\n",
    "    <code>spreadsheet.sheet_names</code>.</p>\n",
    "<p>Specifically, you'll be loading and checking out the spreadsheet\n",
    "    <code>'battledeath.xlsx'</code>, modified from the Peace Research Institute Oslo's (PRIO)\n",
    "    <a href=\"https://www.prio.org/Data/Armed-Conflict/Battle-Deaths/The-Battle-Deaths-Dataset-version-30/\" target=\"_blank\" rel=\"noopener noreferrer\">dataset</a>.\n",
    "    This data contains age-adjusted mortality rates due to war in various countries over several years.</p>"
   ]
  },
  {
   "cell_type": "markdown",
   "metadata": {},
   "source": [
    "---\n",
    "### Instructions `100xp`\n",
    "---"
   ]
  },
  {
   "cell_type": "markdown",
   "metadata": {},
   "source": [
    "<ul>\n",
    "    <li>Assign the spreadsheet filename (provided above) to the variable <code>file</code>.</li>\n",
    "    <li>Pass the correct argument to <code>pd.ExcelFile()</code> to load the file using pandas, assigning the result to the variable <code>xls</code>.</li>\n",
    "    <li>Print the sheetnames of the Excel spreadsheet by passing the necessary argument to the <code>print()</code> function.</li>\n",
    "</ul>"
   ]
  },
  {
   "cell_type": "markdown",
   "metadata": {},
   "source": [
    "---"
   ]
  },
  {
   "cell_type": "code",
   "execution_count": null,
   "metadata": {},
   "outputs": [],
   "source": [
    "# script.py\n",
    "\n",
    "# Import pandas\n",
    "import pandas as pd\n",
    "\n",
    "# Assign spreadsheet filename: file\n",
    "file = ____\n",
    "\n",
    "# Load spreadsheet: xls\n",
    "xls = pd.ExcelFile(____)\n",
    "\n",
    "# Print sheet names\n",
    "print(____)\n"
   ]
  }
 ],
 "metadata": {
  "kernelspec": {
   "display_name": "Python 3",
   "language": "python",
   "name": "python3"
  },
  "language_info": {
   "codemirror_mode": {
    "name": "ipython",
    "version": 3
   },
   "file_extension": ".py",
   "mimetype": "text/x-python",
   "name": "python",
   "nbconvert_exporter": "python",
   "pygments_lexer": "ipython3",
   "version": "3.7.4"
  }
 },
 "nbformat": 4,
 "nbformat_minor": 4
}
