{
 "cells": [
  {
   "cell_type": "markdown",
   "metadata": {},
   "source": [
    "---\n",
    "# Exercise\n",
    "---"
   ]
  },
  {
   "cell_type": "markdown",
   "metadata": {},
   "source": [
    "<h1 class=\"exercise--title\">Importing sheets from Excel files</h1>\n",
    "<p>In the previous exercises, you saw that the Excel file contains two sheets, <code>'2002'</code> and <code>'2004'</code>.\n",
    "    The next step is to import these.</p>\n",
    "<p>In this exercise, you'll learn how to import any given\n",
    "    sheet of your loaded .xlsx file as a DataFrame. You'll\n",
    "    be able to do so by specifying either the sheet's name or its\n",
    "    index.</p>\n",
    "<p>The spreadsheet <code>'battledeath.xlsx'</code> is already loaded as\n",
    "    <code>xls</code>.</p>"
   ]
  },
  {
   "cell_type": "markdown",
   "metadata": {},
   "source": [
    "---\n",
    "### Instructions `100xp`\n",
    "---"
   ]
  },
  {
   "cell_type": "markdown",
   "metadata": {},
   "source": [
    "<ul>\n",
    "    <li>Load the sheet <code>'2004'</code> into the DataFrame <code>df1</code> using its name as a string.</li>\n",
    "    <li>Print the head of <code>df1</code> to the shell.</li>\n",
    "    <li>Load the sheet <code>2002</code> into the DataFrame <code>df2</code> using its index (<code>0</code>).</li>\n",
    "    <li>Print the head of <code>df2</code> to the shell.</li>\n",
    "</ul>"
   ]
  },
  {
   "cell_type": "markdown",
   "metadata": {},
   "source": [
    "---"
   ]
  },
  {
   "cell_type": "code",
   "execution_count": null,
   "metadata": {},
   "outputs": [],
   "source": [
    "# script.py\n",
    "\n",
    "# Load a sheet into a DataFrame by name: df1\n",
    "df1 = xls.parse(____)\n",
    "\n",
    "# Print the head of the DataFrame df1\n",
    "print(____)\n",
    "\n",
    "# Load a sheet into a DataFrame by index: df2\n",
    "\n",
    "\n",
    "# Print the head of the DataFrame df2\n",
    "print(____)"
   ]
  }
 ],
 "metadata": {
  "kernelspec": {
   "display_name": "Python 3",
   "language": "python",
   "name": "python3"
  },
  "language_info": {
   "codemirror_mode": {
    "name": "ipython",
    "version": 3
   },
   "file_extension": ".py",
   "mimetype": "text/x-python",
   "name": "python",
   "nbconvert_exporter": "python",
   "pygments_lexer": "ipython3",
   "version": "3.7.4"
  }
 },
 "nbformat": 4,
 "nbformat_minor": 4
}
