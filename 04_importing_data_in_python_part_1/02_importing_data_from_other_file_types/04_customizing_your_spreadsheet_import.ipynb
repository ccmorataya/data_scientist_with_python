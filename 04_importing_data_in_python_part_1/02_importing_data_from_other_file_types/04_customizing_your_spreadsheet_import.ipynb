{
 "cells": [
  {
   "cell_type": "markdown",
   "metadata": {},
   "source": [
    "---\n",
    "# Exercise\n",
    "---"
   ]
  },
  {
   "cell_type": "markdown",
   "metadata": {},
   "source": [
    "<h1 class=\"exercise--title\">Customizing your spreadsheet import</h1>\n",
    "<p>Here, you'll parse your spreadsheets and use additional\n",
    "    arguments to skip rows, rename columns and select only\n",
    "    particular columns.</p>\n",
    "<p>The spreadsheet <code>'battledeath.xlsx'</code> is already loaded as\n",
    "    <code>xls</code>.</p>\n",
    "<p>As before, you'll use the method <code>parse()</code>. This time, however,\n",
    "    you'll add the additional arguments <code>skiprows</code>, <code>names</code> and\n",
    "    <code>usecols</code>. These skip rows, name the columns and designate\n",
    "    which columns to parse, respectively. All these arguments can\n",
    "    be assigned to lists containing the specific row numbers, strings\n",
    "    and column numbers, as appropriate.</p>"
   ]
  },
  {
   "cell_type": "markdown",
   "metadata": {},
   "source": [
    "---\n",
    "### Instructions `100xp`\n",
    "---"
   ]
  },
  {
   "cell_type": "markdown",
   "metadata": {},
   "source": [
    "<ul>\n",
    "    <li>Parse the first sheet by index. In doing so, skip the first row of data and name the columns <code>'Country'</code> and <code>'AAM due to War (2002)'</code> using the argument <code>names</code>. The values passed to <code>skiprows</code> and <code>names</code> all need to be of type <code>list</code>.</li>\n",
    "    <li>Parse the second sheet by index. In doing so, parse only the first column with the <code>usecols</code> parameter, skip the first row and rename the column <code>'Country'</code>. The argument passed to <code>usecols</code> also needs to be of type <code>list</code>.</li>\n",
    "</ul>"
   ]
  },
  {
   "cell_type": "markdown",
   "metadata": {},
   "source": [
    "---"
   ]
  },
  {
   "cell_type": "code",
   "execution_count": 1,
   "metadata": {},
   "outputs": [],
   "source": [
    "import pandas as pd\n",
    "\n",
    "# Assign spreadsheet filename: file\n",
    "file = '00_2_battledeath.xlsx'\n",
    "\n",
    "# Load spreadsheet: xls\n",
    "xls = pd.ExcelFile(file)"
   ]
  },
  {
   "cell_type": "code",
   "execution_count": 8,
   "metadata": {},
   "outputs": [
    {
     "name": "stdout",
     "output_type": "stream",
     "text": [
      "       Country  AAM due to War (2002)\n",
      "0  Afghanistan              36.083990\n",
      "1      Albania               0.128908\n",
      "2      Algeria              18.314120\n",
      "3      Andorra               0.000000\n",
      "4       Angola              18.964560\n",
      "       Country\n",
      "0  Afghanistan\n",
      "1      Albania\n",
      "2      Algeria\n",
      "3      Andorra\n",
      "4       Angola\n"
     ]
    }
   ],
   "source": [
    "# script.py\n",
    "\n",
    "# Parse the first sheet and rename the columns: df1\n",
    "df1 = xls.parse(0, skiprows=0, names=['Country', 'AAM due to War (2002)'])\n",
    "\n",
    "# Print the head of the DataFrame df1\n",
    "print(df1.head())\n",
    "\n",
    "# Parse the first column of the second sheet and rename the column: df2\n",
    "df2 = xls.parse(1, usecols=[0], skiprows=0, names=['Country'])\n",
    "\n",
    "# Print the head of the DataFrame df2\n",
    "print(df2.head())\n"
   ]
  }
 ],
 "metadata": {
  "kernelspec": {
   "display_name": "Python 3",
   "language": "python",
   "name": "python3"
  },
  "language_info": {
   "codemirror_mode": {
    "name": "ipython",
    "version": 3
   },
   "file_extension": ".py",
   "mimetype": "text/x-python",
   "name": "python",
   "nbconvert_exporter": "python",
   "pygments_lexer": "ipython3",
   "version": "3.7.5"
  }
 },
 "nbformat": 4,
 "nbformat_minor": 4
}
