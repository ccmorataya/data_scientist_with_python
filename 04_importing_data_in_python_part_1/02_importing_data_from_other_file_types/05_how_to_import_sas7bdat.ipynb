{
 "cells": [
  {
   "cell_type": "markdown",
   "metadata": {},
   "source": [
    "---\n",
    "# Exercise\n",
    "---"
   ]
  },
  {
   "cell_type": "markdown",
   "metadata": {},
   "source": [
    "<h1 class=\"dc-h3\">How to import SAS7BDAT</h1>\n",
    "<p>How do you correctly import the function <code>SAS7BDAT()</code> from the package sas7bdat?</p>"
   ]
  },
  {
   "cell_type": "markdown",
   "metadata": {},
   "source": [
    "---\n",
    "### Instructions `50xp`\n",
    "---"
   ]
  },
  {
   "cell_type": "markdown",
   "metadata": {},
   "source": [
    "**<h5>Possible Answers</h5>**\n",
    "<input type=\"radio\"> <code>import SAS7BDAT from sas7bdat</code>\\\n",
    "<input type=\"radio\"> <code>from SAS7BDAT import sas7bdat</code>\\\n",
    "<input type=\"radio\"> <code>import sas7bdat from SAS7BDAT</code>\\\n",
    "<input type=\"radio\" checked> <code>from sas7bdat import SAS7BDAT</code>"
   ]
  },
  {
   "cell_type": "markdown",
   "metadata": {},
   "source": [
    "---"
   ]
  }
 ],
 "metadata": {
  "kernelspec": {
   "display_name": "Python 3",
   "language": "python",
   "name": "python3"
  },
  "language_info": {
   "codemirror_mode": {
    "name": "ipython",
    "version": 3
   },
   "file_extension": ".py",
   "mimetype": "text/x-python",
   "name": "python",
   "nbconvert_exporter": "python",
   "pygments_lexer": "ipython3",
   "version": "3.7.5"
  }
 },
 "nbformat": 4,
 "nbformat_minor": 4
}
