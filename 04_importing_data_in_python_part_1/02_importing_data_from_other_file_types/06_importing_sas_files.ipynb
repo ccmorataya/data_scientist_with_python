{
 "cells": [
  {
   "cell_type": "markdown",
   "metadata": {},
   "source": [
    "---\n",
    "# Exercise\n",
    "---"
   ]
  },
  {
   "cell_type": "markdown",
   "metadata": {},
   "source": [
    "<h1 class=\"exercise--title\">Importing SAS files</h1>\n",
    "<p>In this exercise, you'll figure out how to\n",
    "import a SAS file as a DataFrame using <code>SAS7BDAT</code> and\n",
    "<code>pandas</code>. The file <code>'sales.sas7bdat'</code> is already\n",
    "in your working directory and both <code>pandas</code> and <code>matplotlib.pyplot</code> have\n",
    "already been imported as follows:</p>\n",
    "\n",
    "``` python\n",
    "import pandas as pd\n",
    "import matplotlib.pyplot as plt\n",
    "```\n",
    "\n",
    "<p>The data are adapted from the website of the undergraduate text book\n",
    "<a href=\"http://www.principlesofeconometrics.com/sas/\" target=\"_blank\" rel=\"noopener noreferrer\">Principles of Econometrics</a>\n",
    "by Hill, Griffiths and Lim.</p>"
   ]
  },
  {
   "cell_type": "markdown",
   "metadata": {},
   "source": [
    "---\n",
    "### Instructions `100xp`\n",
    "---"
   ]
  },
  {
   "cell_type": "markdown",
   "metadata": {},
   "source": [
    "<ul>\n",
    "    <li>Import the module <code>SAS7BDAT</code> from the library <code>sas7bdat</code>.</li>\n",
    "    <li>In the context of the file <code>'sales.sas7bdat'</code>, load its contents to a DataFrame <code>df_sas</code>, using the method <code>to_data_frame()</code> on the object <code>file</code>.</li>\n",
    "    <li>Print the head of the DataFrame <code>df_sas</code>.</li>\n",
    "    <li>Execute your entire script to produce a histogram plot!</li>\n",
    "</ul>"
   ]
  },
  {
   "cell_type": "markdown",
   "metadata": {},
   "source": [
    "---"
   ]
  },
  {
   "cell_type": "code",
   "execution_count": null,
   "metadata": {},
   "outputs": [],
   "source": [
    "# script.py\n",
    "\n",
    "# Import sas7bdat package\n",
    "from ____ import ____\n",
    "\n",
    "# Save file to a DataFrame: df_sas\n",
    "with SAS7BDAT('sales.sas7bdat') as file:\n",
    "    ____\n",
    "\n",
    "# Print head of DataFrame\n",
    "\n",
    "\n",
    "# Plot histogram of DataFrame features (pandas and pyplot already imported)\n",
    "pd.DataFrame.hist(df_sas[['P']])\n",
    "plt.ylabel('count')\n",
    "plt.show()"
   ]
  }
 ],
 "metadata": {
  "kernelspec": {
   "display_name": "Python 3",
   "language": "python",
   "name": "python3"
  },
  "language_info": {
   "codemirror_mode": {
    "name": "ipython",
    "version": 3
   },
   "file_extension": ".py",
   "mimetype": "text/x-python",
   "name": "python",
   "nbconvert_exporter": "python",
   "pygments_lexer": "ipython3",
   "version": "3.7.4"
  }
 },
 "nbformat": 4,
 "nbformat_minor": 4
}
