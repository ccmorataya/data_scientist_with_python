{
 "cells": [
  {
   "cell_type": "markdown",
   "metadata": {},
   "source": [
    "---\n",
    "# Exercise\n",
    "---"
   ]
  },
  {
   "cell_type": "markdown",
   "metadata": {},
   "source": [
    "<h1 class=\"exercise--title\">Using read_stata to import Stata files</h1>\n",
    "<p>The <code>pandas</code> package has been imported in the environment as <code>pd</code> and the file <code>disarea.dta</code> is in your working directory. The data consist of disease extents for several diseases in various countries (more information can be found <a href=\"http://www.cid.harvard.edu/ciddata/geog/readme_disarea.html\" target=\"_blank\" rel=\"noopener noreferrer\">here</a>).</p>\n",
    "<p>What is the correct way of using the <code>read_stata()</code> function to import\n",
    "<code>disarea.dta</code> into the object <code>df</code>?</p>"
   ]
  },
  {
   "cell_type": "markdown",
   "metadata": {},
   "source": [
    "---\n",
    "### Instructions `50xp`\n",
    "---"
   ]
  },
  {
   "cell_type": "markdown",
   "metadata": {},
   "source": [
    "**<h5>Possible Answers</h5>**\n",
    "<input type=\"radio\"> <code>df = 'disarea.dta'</code>\\\n",
    "<input type=\"radio\"> <code>df = read_stata.pd('disarea.dta')</code>\\\n",
    "<input type=\"radio\"> <code>df = pd.read_stata('disarea.dta')</code>\\\n",
    "<input type=\"radio\"> <code>df = pd.read_stata(disarea.dta)</code>"
   ]
  },
  {
   "cell_type": "markdown",
   "metadata": {},
   "source": [
    "---"
   ]
  },
  {
   "cell_type": "code",
   "execution_count": null,
   "metadata": {},
   "outputs": [],
   "source": [
    "# IPython Shell\n",
    "\n"
   ]
  }
 ],
 "metadata": {
  "kernelspec": {
   "display_name": "Python 3",
   "language": "python",
   "name": "python3"
  },
  "language_info": {
   "codemirror_mode": {
    "name": "ipython",
    "version": 3
   },
   "file_extension": ".py",
   "mimetype": "text/x-python",
   "name": "python",
   "nbconvert_exporter": "python",
   "pygments_lexer": "ipython3",
   "version": "3.7.4"
  }
 },
 "nbformat": 4,
 "nbformat_minor": 4
}
