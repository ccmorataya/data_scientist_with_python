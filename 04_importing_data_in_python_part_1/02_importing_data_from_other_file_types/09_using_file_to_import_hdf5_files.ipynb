{
 "cells": [
  {
   "cell_type": "markdown",
   "metadata": {},
   "source": [
    "---\n",
    "# Exercise\n",
    "---"
   ]
  },
  {
   "cell_type": "markdown",
   "metadata": {},
   "source": [
    "<h1 class=\"exercise--title\">Using File to import HDF5 files</h1>\n",
    "<p>The <code>h5py</code> package has been imported in the environment and the file <code>LIGO_data.hdf5</code>\n",
    "is loaded in the object <code>h5py_file</code>.</p>\n",
    "<p>What is the correct way of using the h5py function, <code>File()</code>, to import the file in <code>h5py_file</code> into an object,\n",
    "<code>h5py_data</code>, for <em>reading</em> only?</p>"
   ]
  },
  {
   "cell_type": "markdown",
   "metadata": {},
   "source": [
    "---\n",
    "### Instructions `50xp`\n",
    "---"
   ]
  },
  {
   "cell_type": "markdown",
   "metadata": {},
   "source": [
    "**<h5>Possible Answers</h5>**\n",
    "<input type=\"radio\"> <code>h5py_data = File(h5py_file, 'r')</code>\\\n",
    "<input type=\"radio\" checked> <code>h5py_data = h5py.File(h5py_file, 'r')</code>\\\n",
    "<input type=\"radio\"> <code>h5py_data = h5py.File(h5py_file, read)</code>\\\n",
    "<input type=\"radio\"> <code>h5py_data = h5py.File(h5py_file, 'read')</code>"
   ]
  },
  {
   "cell_type": "markdown",
   "metadata": {},
   "source": [
    "---"
   ]
  },
  {
   "cell_type": "code",
   "execution_count": null,
   "metadata": {},
   "outputs": [],
   "source": [
    "# IPython Shell\n",
    "\n"
   ]
  }
 ],
 "metadata": {
  "kernelspec": {
   "display_name": "Python 3",
   "language": "python",
   "name": "python3"
  },
  "language_info": {
   "codemirror_mode": {
    "name": "ipython",
    "version": 3
   },
   "file_extension": ".py",
   "mimetype": "text/x-python",
   "name": "python",
   "nbconvert_exporter": "python",
   "pygments_lexer": "ipython3",
   "version": "3.7.5"
  }
 },
 "nbformat": 4,
 "nbformat_minor": 4
}
