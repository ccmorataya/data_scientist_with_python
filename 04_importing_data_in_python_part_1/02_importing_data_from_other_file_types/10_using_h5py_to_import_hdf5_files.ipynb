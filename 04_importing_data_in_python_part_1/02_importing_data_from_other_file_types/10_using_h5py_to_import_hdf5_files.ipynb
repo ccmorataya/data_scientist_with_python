{
 "cells": [
  {
   "cell_type": "markdown",
   "metadata": {},
   "source": [
    "---\n",
    "# Exercise\n",
    "---"
   ]
  },
  {
   "cell_type": "markdown",
   "metadata": {},
   "source": [
    "<h1 class=\"exercise--title\">Using h5py to import HDF5 files</h1>\n",
    "<p>The file <code>'LIGO_data.hdf5'</code> is already in your working directory.\n",
    "In this exercise, you'll import it using the <code>h5py</code> library.\n",
    "You'll also print out its datatype to confirm you have imported\n",
    "it correctly. You'll then study the structure of the file in order\n",
    "to see precisely what HDF groups it contains.</p>\n",
    "<p>You can find the LIGO data plus loads of documentation and tutorials <a href=\"https://losc.ligo.org/events/GW150914/\" target=\"_blank\" rel=\"noopener noreferrer\">here</a>. There is also a great tutorial on Signal Processing with the data <a href=\"https://www.gw-openscience.org/GW150914data/LOSC_Event_tutorial_GW150914.html\" target=\"_blank\" rel=\"noopener noreferrer\">here</a>.</p>"
   ]
  },
  {
   "cell_type": "markdown",
   "metadata": {},
   "source": [
    "---\n",
    "### Instructions `100xp`\n",
    "---"
   ]
  },
  {
   "cell_type": "markdown",
   "metadata": {},
   "source": [
    "<ul>\n",
    "    <li>Import the package <code>h5py</code>.</li>\n",
    "    <li>Assign the name of the file to the variable <code>file</code>.</li>\n",
    "    <li>Load the file as read only into the variable <code>data</code>.</li>\n",
    "    <li>Print the datatype of <code>data</code>.</li>\n",
    "    <li>Print the names of the groups in the HDF5 file <code>'LIGO_data.hdf5'</code>.</li>\n",
    "</ul>"
   ]
  },
  {
   "cell_type": "markdown",
   "metadata": {},
   "source": [
    "---"
   ]
  },
  {
   "cell_type": "code",
   "execution_count": 1,
   "metadata": {},
   "outputs": [
    {
     "name": "stdout",
     "output_type": "stream",
     "text": [
      "<class 'h5py._hl.files.File'>\n",
      "meta\n",
      "quality\n",
      "strain\n"
     ]
    }
   ],
   "source": [
    "# script.py\n",
    "\n",
    "# Import packages\n",
    "import numpy as np\n",
    "import h5py\n",
    "\n",
    "# Assign filename: file\n",
    "file = '00_5_LIGO_data.hdf5'\n",
    "\n",
    "# Load file: data\n",
    "data = h5py.File(file, 'r')\n",
    "\n",
    "# Print the datatype of the loaded file\n",
    "print(type(data))\n",
    "\n",
    "# Print the keys of the file\n",
    "for key in data.keys():\n",
    "    print(key)\n"
   ]
  }
 ],
 "metadata": {
  "kernelspec": {
   "display_name": "Python 3",
   "language": "python",
   "name": "python3"
  },
  "language_info": {
   "codemirror_mode": {
    "name": "ipython",
    "version": 3
   },
   "file_extension": ".py",
   "mimetype": "text/x-python",
   "name": "python",
   "nbconvert_exporter": "python",
   "pygments_lexer": "ipython3",
   "version": "3.7.5"
  }
 },
 "nbformat": 4,
 "nbformat_minor": 4
}
