{
 "cells": [
  {
   "cell_type": "markdown",
   "metadata": {},
   "source": [
    "---\n",
    "# Exercise\n",
    "---"
   ]
  },
  {
   "cell_type": "markdown",
   "metadata": {},
   "source": [
    "<h1 class=\"exercise--title\">Extracting data from your HDF5 file</h1>\n",
    "<p>In this exercise, you'll extract some of the LIGO experiment's\n",
    "actual data from the HDF5 file and you'll visualize it.</p>\n",
    "<p>To do so, you'll need to first explore the HDF5 group <code>'strain'</code>.</p>"
   ]
  },
  {
   "cell_type": "markdown",
   "metadata": {},
   "source": [
    "---\n",
    "### Instructions `100xp`\n",
    "---"
   ]
  },
  {
   "cell_type": "markdown",
   "metadata": {},
   "source": [
    "<ul>\n",
    "    <li>Assign the HDF5 group <code>data['strain']</code> to <code>group</code>.</li>\n",
    "    <li>In the <code>for</code> loop, print out the keys of the HDF5 group in <code>group</code>.</li>\n",
    "    <li>Assign to the variable <code>strain</code> the values of the time series data <code>data['strain']['Strain']</code> using the attribute <code>.value</code>.</li>\n",
    "    <li>Set <code>num_samples</code> equal to <code>10000</code>, the number of time points we wish to sample.</li>\n",
    "    <li>Execute the rest of the code to produce a plot of the time series data in <code>LIGO_data.hdf5</code>.</li>\n",
    "</ul>"
   ]
  },
  {
   "cell_type": "markdown",
   "metadata": {},
   "source": [
    "---"
   ]
  },
  {
   "cell_type": "code",
   "execution_count": null,
   "metadata": {},
   "outputs": [],
   "source": [
    "# script.py\n",
    "\n",
    "# Get the HDF5 group: group\n",
    "\n",
    "\n",
    "# Check out keys of group\n",
    "for key in ____:\n",
    "    print(____)\n",
    "\n",
    "# Set variable equal to time series data: strain\n",
    "\n",
    "\n",
    "# Set number of time points to sample: num_samples\n",
    "\n",
    "\n",
    "# Set time vector\n",
    "time = np.arange(0, 1, 1/num_samples)\n",
    "\n",
    "# Plot data\n",
    "plt.plot(time, strain[:num_samples])\n",
    "plt.xlabel('GPS Time (s)')\n",
    "plt.ylabel('strain')\n",
    "plt.show()\n"
   ]
  }
 ],
 "metadata": {
  "kernelspec": {
   "display_name": "Python 3",
   "language": "python",
   "name": "python3"
  },
  "language_info": {
   "codemirror_mode": {
    "name": "ipython",
    "version": 3
   },
   "file_extension": ".py",
   "mimetype": "text/x-python",
   "name": "python",
   "nbconvert_exporter": "python",
   "pygments_lexer": "ipython3",
   "version": "3.7.4"
  }
 },
 "nbformat": 4,
 "nbformat_minor": 4
}
