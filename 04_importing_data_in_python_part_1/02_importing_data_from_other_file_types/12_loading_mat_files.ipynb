{
 "cells": [
  {
   "cell_type": "markdown",
   "metadata": {},
   "source": [
    "---\n",
    "# Exercise\n",
    "---"
   ]
  },
  {
   "cell_type": "markdown",
   "metadata": {},
   "source": [
    "<h1 class=\"exercise--title\">Loading .mat files</h1>\n",
    "<p>In this exercise, you'll figure out how to\n",
    "load a MATLAB file using <code>scipy.io.loadmat()</code>\n",
    "and you'll discover what Python\n",
    "datatype it yields.</p>\n",
    "<p>The file <code>'albeck_gene_expression.mat'</code> is in\n",
    "your working directory. This file contains <a href=\"https://www.mcb.ucdavis.edu/faculty-labs/albeck/workshop.htm\" target=\"_blank\" rel=\"noopener noreferrer\">gene expression data</a> from the Albeck Lab at UC Davis. You can find the data and some great documentation <a href=\"https://www.mcb.ucdavis.edu/faculty-labs/albeck/workshop.htm\" target=\"_blank\" rel=\"noopener noreferrer\">here</a>.</p>"
   ]
  },
  {
   "cell_type": "markdown",
   "metadata": {},
   "source": [
    "---\n",
    "### Instructions `100xp`\n",
    "---"
   ]
  },
  {
   "cell_type": "markdown",
   "metadata": {},
   "source": [
    "<ul>\n",
    "    <li>Import the package <code>scipy.io</code>.</li>\n",
    "    <li>Load the file <code>'albeck_gene_expression.mat'</code> into the variable <code>mat</code>; do so using the function <code>scipy.io.loadmat()</code>.</li>\n",
    "    <li>Use the function <code>type()</code> to print the datatype of <code>mat</code> to the IPython shell.</li>\n",
    "</ul>"
   ]
  },
  {
   "cell_type": "markdown",
   "metadata": {},
   "source": [
    "---"
   ]
  },
  {
   "cell_type": "code",
   "execution_count": null,
   "metadata": {},
   "outputs": [],
   "source": [
    "# script.py\n",
    "\n",
    "# Import package\n",
    "\n",
    "\n",
    "# Load MATLAB file: mat\n",
    "\n",
    "\n",
    "# Print the datatype type of mat\n",
    "print(____)\n"
   ]
  }
 ],
 "metadata": {
  "kernelspec": {
   "display_name": "Python 3",
   "language": "python",
   "name": "python3"
  },
  "language_info": {
   "codemirror_mode": {
    "name": "ipython",
    "version": 3
   },
   "file_extension": ".py",
   "mimetype": "text/x-python",
   "name": "python",
   "nbconvert_exporter": "python",
   "pygments_lexer": "ipython3",
   "version": "3.7.4"
  }
 },
 "nbformat": 4,
 "nbformat_minor": 4
}
