{
 "cells": [
  {
   "cell_type": "markdown",
   "metadata": {},
   "source": [
    "---\n",
    "# Exercise\n",
    "---"
   ]
  },
  {
   "cell_type": "markdown",
   "metadata": {},
   "source": [
    "<h1 class=\"exercise--title\">The structure of .mat in Python</h1>\n",
    "<p>Here, you'll discover what is in the MATLAB\n",
    "dictionary that you loaded in the previous\n",
    "exercise.</p>\n",
    "<p>The file <code>'albeck_gene_expression.mat'</code> is already loaded\n",
    "into the variable <code>mat</code>. The following libraries have already been imported as follows:</p>\n",
    "\n",
    "``` python\n",
    "import scipy.io\n",
    "import matplotlib.pyplot as plt\n",
    "import numpy as np\n",
    "```\n",
    "\n",
    "<p>Once again, this file contains <a href=\"https://www.mcb.ucdavis.edu/faculty-labs/albeck/workshop.htm\" target=\"_blank\" rel=\"noopener noreferrer\">gene expression data</a> from the Albeck Lab at UCDavis. You can find the data and some great documentation <a href=\"https://www.mcb.ucdavis.edu/faculty-labs/albeck/workshop.htm\" target=\"_blank\" rel=\"noopener noreferrer\">here</a>.</p>"
   ]
  },
  {
   "cell_type": "markdown",
   "metadata": {},
   "source": [
    "---\n",
    "### Instructions `100xp`\n",
    "---"
   ]
  },
  {
   "cell_type": "markdown",
   "metadata": {},
   "source": [
    "<ul>\n",
    "    <li>Use the method <code>.keys()</code> on the dictionary <code>mat</code> to print the keys. Most of these keys (in fact the ones that do NOT begin and end with '__') are variables from the corresponding MATLAB environment.</li>\n",
    "    <li>Print the type of the value corresponding to the key <code>'CYratioCyt'</code> in <code>mat</code>. Recall that <code>mat['CYratioCyt']</code> accesses the value.</li>\n",
    "    <li>Print the shape of the value corresponding to the key <code>'CYratioCyt'</code> using the <code>numpy</code> function <code>shape()</code>.</li>\n",
    "    <li>Execute the entire script to see some oscillatory gene expression data!</li>\n",
    "</ul>"
   ]
  },
  {
   "cell_type": "markdown",
   "metadata": {},
   "source": [
    "---"
   ]
  },
  {
   "cell_type": "code",
   "execution_count": null,
   "metadata": {},
   "outputs": [],
   "source": [
    "# script.py\n",
    "\n",
    "# Print the keys of the MATLAB dictionary\n",
    "print(____)\n",
    "\n",
    "# Print the type of the value corresponding to the key 'CYratioCyt'\n",
    "\n",
    "\n",
    "# Print the shape of the value corresponding to the key 'CYratioCyt'\n",
    "\n",
    "\n",
    "# Subset the array and plot it\n",
    "data = mat['CYratioCyt'][25, 5:]\n",
    "fig = plt.figure()\n",
    "plt.plot(data)\n",
    "plt.xlabel('time (min.)')\n",
    "plt.ylabel('normalized fluorescence (measure of expression)')\n",
    "plt.show()\n"
   ]
  }
 ],
 "metadata": {
  "kernelspec": {
   "display_name": "Python 3",
   "language": "python",
   "name": "python3"
  },
  "language_info": {
   "codemirror_mode": {
    "name": "ipython",
    "version": 3
   },
   "file_extension": ".py",
   "mimetype": "text/x-python",
   "name": "python",
   "nbconvert_exporter": "python",
   "pygments_lexer": "ipython3",
   "version": "3.7.4"
  }
 },
 "nbformat": 4,
 "nbformat_minor": 4
}
