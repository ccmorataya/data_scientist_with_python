{
 "cells": [
  {
   "cell_type": "markdown",
   "metadata": {},
   "source": [
    "---\n",
    "# Exercise\n",
    "---"
   ]
  },
  {
   "cell_type": "markdown",
   "metadata": {},
   "source": [
    "<h1 class=\"dc-h3\">Pop quiz: The relational model</h1>\n",
    "<p>Which of the following is not part of the relational model?</p>"
   ]
  },
  {
   "cell_type": "markdown",
   "metadata": {},
   "source": [
    "---\n",
    "### Instructions `50xp`\n",
    "---"
   ]
  },
  {
   "cell_type": "markdown",
   "metadata": {},
   "source": [
    "**<h5>Possible Answers</h5>**\n",
    "<input type=\"radio\"> Each row or record in a table represents an instance of an entity type.\\\n",
    "<input type=\"radio\"> Each column in a table represents an attribute or feature of an instance.\\\n",
    "<input type=\"radio\"> Every table contains a primary key column, which has a unique entry for each row.\\\n",
    "<input type=\"radio\"> A database consists of at least 3 tables.\\\n",
    "<input type=\"radio\"> There are relations between tables."
   ]
  },
  {
   "cell_type": "markdown",
   "metadata": {},
   "source": [
    "---"
   ]
  }
 ],
 "metadata": {
  "kernelspec": {
   "display_name": "Python 3",
   "language": "python",
   "name": "python3"
  },
  "language_info": {
   "codemirror_mode": {
    "name": "ipython",
    "version": 3
   },
   "file_extension": ".py",
   "mimetype": "text/x-python",
   "name": "python",
   "nbconvert_exporter": "python",
   "pygments_lexer": "ipython3",
   "version": "3.7.4"
  }
 },
 "nbformat": 4,
 "nbformat_minor": 4
}
