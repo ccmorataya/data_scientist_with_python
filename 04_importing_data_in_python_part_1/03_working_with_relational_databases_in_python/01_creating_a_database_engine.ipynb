{
 "cells": [
  {
   "cell_type": "markdown",
   "metadata": {},
   "source": [
    "---\n",
    "# Exercise\n",
    "---"
   ]
  },
  {
   "cell_type": "markdown",
   "metadata": {},
   "source": [
    "<h1 class=\"exercise--title\">Creating a database engine</h1>\n",
    "<p>Here, you're going to fire up your very first SQL engine. You'll create an engine to connect to the SQLite database <code>'Chinook.sqlite'</code>, which is in your working directory. Remember that to create an engine to connect to <code>'Northwind.sqlite'</code>, Hugo executed the command</p>\n",
    "\n",
    "\n",
    "``` python\n",
    "engine = create_engine('sqlite:///Northwind.sqlite')\n",
    "```\n",
    "\n",
    "<p>Here, <code>'sqlite:///Northwind.sqlite'</code> is called the <em>connection string</em> to the SQLite database <code>Northwind.sqlite</code>.\n",
    "A little bit of background on the <a href=\"https://github.com/lerocha/chinook-database\" target=\"_blank\" rel=\"noopener noreferrer\">Chinook database</a>: the Chinook database contains information about a semi-fictional digital media store in which media data is real and customer, employee and sales data has been manually created.</p>\n",
    "<p>Why the name Chinook, you ask? According to their <a href=\"https://github.com/lerocha/chinook-database\" target=\"_blank\" rel=\"noopener noreferrer\">website</a>,</p>\n",
    "<blockquote>\n",
    "<p>The name of this sample database was based on the Northwind database. Chinooks are winds in the interior West of North America, where the Canadian Prairies and Great Plains meet various mountain ranges. Chinooks are most prevalent over southern Alberta in Canada. Chinook is a good name choice for a database that intends to be an alternative to Northwind.</p>\n",
    "</blockquote>"
   ]
  },
  {
   "cell_type": "markdown",
   "metadata": {},
   "source": [
    "---\n",
    "### Instructions `100xp`\n",
    "---"
   ]
  },
  {
   "cell_type": "markdown",
   "metadata": {},
   "source": [
    "<ul>\n",
    "    <li>Import the function <code>create_engine</code> from the module <code>sqlalchemy</code>.</li>\n",
    "    <li>Create an engine to connect to the SQLite database <code>'Chinook.sqlite'</code> and assign it to <code>engine</code>.</li>\n",
    "</ul>"
   ]
  },
  {
   "cell_type": "markdown",
   "metadata": {},
   "source": [
    "---"
   ]
  },
  {
   "cell_type": "code",
   "execution_count": 1,
   "metadata": {},
   "outputs": [],
   "source": [
    "# script.py\n",
    "\n",
    "# Import necessary module\n",
    "from sqlalchemy import create_engine\n",
    "\n",
    "# Create engine: engine\n",
    "engine = create_engine('sqlite:///00_1_Chinook.sqlite')"
   ]
  },
  {
   "cell_type": "code",
   "execution_count": 2,
   "metadata": {},
   "outputs": [
    {
     "data": {
      "text/plain": [
       "Engine(sqlite:///00_1_Chinook.sqlite)"
      ]
     },
     "execution_count": 2,
     "metadata": {},
     "output_type": "execute_result"
    }
   ],
   "source": [
    "engine"
   ]
  }
 ],
 "metadata": {
  "kernelspec": {
   "display_name": "Python 3",
   "language": "python",
   "name": "python3"
  },
  "language_info": {
   "codemirror_mode": {
    "name": "ipython",
    "version": 3
   },
   "file_extension": ".py",
   "mimetype": "text/x-python",
   "name": "python",
   "nbconvert_exporter": "python",
   "pygments_lexer": "ipython3",
   "version": "3.7.5"
  }
 },
 "nbformat": 4,
 "nbformat_minor": 4
}
