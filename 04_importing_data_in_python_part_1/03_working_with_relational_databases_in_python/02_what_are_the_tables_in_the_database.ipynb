{
 "cells": [
  {
   "cell_type": "markdown",
   "metadata": {},
   "source": [
    "---\n",
    "# Exercise\n",
    "---"
   ]
  },
  {
   "cell_type": "markdown",
   "metadata": {},
   "source": [
    "<h1 class=\"exercise--title\">What are the tables in the database?</h1>\n",
    "<p>In this exercise, you'll once again create an engine to connect to <code>'Chinook.sqlite'</code>.\n",
    "Before you can get any data out of the database, however, you'll need to know what tables it contains!</p>\n",
    "<p>To this end, you'll save the table names to a list using the method <code>table_names()</code> on the engine and then you will print the list.</p>"
   ]
  },
  {
   "cell_type": "markdown",
   "metadata": {},
   "source": [
    "---\n",
    "### Instructions `100xp`\n",
    "---"
   ]
  },
  {
   "cell_type": "markdown",
   "metadata": {},
   "source": [
    "<ul>\n",
    "    <li>Import the function <code>create_engine</code> from the module <code>sqlalchemy</code>.</li>\n",
    "    <li>Create an engine to connect to the SQLite database <code>'Chinook.sqlite'</code> and assign it to <code>engine</code>.</li>\n",
    "    <li>Using the method <code>table_names()</code> on the engine <code>engine</code>, assign the table names of <code>'Chinook.sqlite'</code> to the variable <code>table_names</code>.</li>\n",
    "    <li>Print the object <code>table_names</code> to the shell.</li>\n",
    "</ul>"
   ]
  },
  {
   "cell_type": "markdown",
   "metadata": {},
   "source": [
    "---"
   ]
  },
  {
   "cell_type": "code",
   "execution_count": null,
   "metadata": {},
   "outputs": [],
   "source": [
    "# script.py\n",
    "\n",
    "# Import necessary module\n",
    "\n",
    "\n",
    "# Create engine: engine\n",
    "\n",
    "\n",
    "# Save the table names to a list: table_names\n",
    "\n",
    "\n",
    "# Print the table names to the shell\n",
    "print(____)\n"
   ]
  }
 ],
 "metadata": {
  "kernelspec": {
   "display_name": "Python 3",
   "language": "python",
   "name": "python3"
  },
  "language_info": {
   "codemirror_mode": {
    "name": "ipython",
    "version": 3
   },
   "file_extension": ".py",
   "mimetype": "text/x-python",
   "name": "python",
   "nbconvert_exporter": "python",
   "pygments_lexer": "ipython3",
   "version": "3.7.4"
  }
 },
 "nbformat": 4,
 "nbformat_minor": 4
}
