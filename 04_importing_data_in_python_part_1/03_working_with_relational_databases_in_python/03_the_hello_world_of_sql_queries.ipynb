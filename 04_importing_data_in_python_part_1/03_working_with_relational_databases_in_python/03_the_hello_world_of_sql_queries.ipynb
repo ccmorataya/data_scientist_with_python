{
 "cells": [
  {
   "cell_type": "markdown",
   "metadata": {},
   "source": [
    "---\n",
    "# Exercise\n",
    "---"
   ]
  },
  {
   "cell_type": "markdown",
   "metadata": {},
   "source": [
    "<h1 class=\"exercise--title\">The Hello World of SQL Queries!</h1>\n",
    "<p>Now, it's time for liftoff! In this exercise, you'll perform the Hello World of SQL queries, <code>SELECT</code>, in order to retrieve all columns of the table <code>Album</code> in the Chinook database. Recall that the query <code>SELECT *</code> selects all columns.</p>"
   ]
  },
  {
   "cell_type": "markdown",
   "metadata": {},
   "source": [
    "---\n",
    "### Instructions `100xp`\n",
    "---"
   ]
  },
  {
   "cell_type": "markdown",
   "metadata": {},
   "source": [
    "<ul>\n",
    "    <li>Open the engine connection as <code>con</code> using the method <code>connect()</code> on the engine.</li>\n",
    "    <li>Execute the query that <strong>selects</strong> <em>ALL columns</em> <strong>from</strong> the <code>Album</code> table. Store the results in <code>rs</code>.</li>\n",
    "    <li>Store all of your query results in the DataFrame <code>df</code> by applying the <code>fetchall()</code> method to the results <code>rs</code>.</li>\n",
    "    <li>Close the connection!</li>\n",
    "</ul>"
   ]
  },
  {
   "cell_type": "markdown",
   "metadata": {},
   "source": [
    "---"
   ]
  },
  {
   "cell_type": "code",
   "execution_count": 2,
   "metadata": {},
   "outputs": [
    {
     "name": "stdout",
     "output_type": "stream",
     "text": [
      "   0                                      1  2\n",
      "0  1  For Those About To Rock We Salute You  1\n",
      "1  2                      Balls to the Wall  2\n",
      "2  3                      Restless and Wild  2\n",
      "3  4                      Let There Be Rock  1\n",
      "4  5                               Big Ones  3\n"
     ]
    }
   ],
   "source": [
    "# script.py\n",
    "\n",
    "# Import packages\n",
    "from sqlalchemy import create_engine\n",
    "import pandas as pd\n",
    "\n",
    "# Create engine: engine\n",
    "engine = create_engine('sqlite:///00_1_Chinook.sqlite')\n",
    "\n",
    "# Open engine connection: con\n",
    "con = engine.connect()\n",
    "\n",
    "# Perform query: rs\n",
    "rs = con.execute('SELECT * FROM Album')\n",
    "\n",
    "# Save results of the query to DataFrame: df\n",
    "df = pd.DataFrame(rs.fetchall())\n",
    "\n",
    "# Close connection\n",
    "con.close()\n",
    "\n",
    "# Print head of DataFrame df\n",
    "print(df.head())\n"
   ]
  }
 ],
 "metadata": {
  "kernelspec": {
   "display_name": "Python 3",
   "language": "python",
   "name": "python3"
  },
  "language_info": {
   "codemirror_mode": {
    "name": "ipython",
    "version": 3
   },
   "file_extension": ".py",
   "mimetype": "text/x-python",
   "name": "python",
   "nbconvert_exporter": "python",
   "pygments_lexer": "ipython3",
   "version": "3.7.5"
  }
 },
 "nbformat": 4,
 "nbformat_minor": 4
}
