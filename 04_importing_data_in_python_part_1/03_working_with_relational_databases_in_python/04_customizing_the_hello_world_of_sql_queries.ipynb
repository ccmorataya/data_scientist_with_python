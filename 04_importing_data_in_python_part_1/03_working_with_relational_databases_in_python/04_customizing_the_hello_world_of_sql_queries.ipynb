{
 "cells": [
  {
   "cell_type": "markdown",
   "metadata": {},
   "source": [
    "---\n",
    "# Exercise\n",
    "---"
   ]
  },
  {
   "cell_type": "markdown",
   "metadata": {},
   "source": [
    "<h1 class=\"exercise--title\">Customizing the Hello World of SQL Queries</h1>\n",
    "<p>Congratulations on executing your first SQL query! Now you're going to figure out how to customize your query in order to:</p>\n",
    "<ul>\n",
    "    <li>Select specified columns from a table;</li>\n",
    "    <li>Select a specified number of rows;</li>\n",
    "    <li>Import column names from the database table.</li>\n",
    "</ul>\n",
    "<p>Recall that Hugo performed a very similar query customization in the video:</p>\n",
    "\n",
    "``` python\n",
    "engine = create_engine('sqlite:///Northwind.sqlite')\n",
    "\n",
    "with engine.connect() as con:\n",
    "    rs = con.execute(\"SELECT OrderID, OrderDate, ShipName FROM Orders\")\n",
    "    df = pd.DataFrame(rs.fetchmany(size=5))\n",
    "    df.columns = rs.keys()\n",
    "```\n",
    "\n",
    "<p>Packages have already been imported as follows:</p>\n",
    "\n",
    "``` python\n",
    "from sqlalchemy import create_engine\n",
    "import pandas as pd\n",
    "```\n",
    "\n",
    "<p>The engine has also already been created:</p>\n",
    "\n",
    "``` python\n",
    "engine = create_engine('sqlite:///Chinook.sqlite')\n",
    "```\n",
    "\n",
    "<p>The engine connection is already open with the statement</p>\n",
    "\n",
    "``` python\n",
    "with engine.connect() as con:\n",
    "```\n",
    "\n",
    "<p>All the code you need to complete is within this context.</p>"
   ]
  },
  {
   "cell_type": "markdown",
   "metadata": {},
   "source": [
    "---\n",
    "### Instructions `100xp`\n",
    "---"
   ]
  },
  {
   "cell_type": "markdown",
   "metadata": {},
   "source": [
    "<ul>\n",
    "    <li>Execute the SQL query that <strong>selects</strong> the columns <code>LastName</code> and <code>Title</code> <strong>from</strong> the <code>Employee</code> table. Store the results in the variable <code>rs</code>.</li>\n",
    "    <li>Apply the method <code>fetchmany()</code> to <code>rs</code> in order to retrieve 3 of the records. Store them in the DataFrame <code>df</code>.</li>\n",
    "    <li>Using the <code>rs</code> object, set the DataFrame's column names to the corresponding names of the table columns.</li>\n",
    "</ul>"
   ]
  },
  {
   "cell_type": "markdown",
   "metadata": {},
   "source": [
    "---"
   ]
  },
  {
   "cell_type": "code",
   "execution_count": 2,
   "metadata": {},
   "outputs": [],
   "source": [
    "from sqlalchemy import create_engine\n",
    "import pandas as pd\n",
    "\n",
    "engine = create_engine('sqlite:///00_1_Chinook.sqlite')"
   ]
  },
  {
   "cell_type": "code",
   "execution_count": 3,
   "metadata": {},
   "outputs": [
    {
     "name": "stdout",
     "output_type": "stream",
     "text": [
      "3\n",
      "  LastName                Title\n",
      "0    Adams      General Manager\n",
      "1  Edwards        Sales Manager\n",
      "2  Peacock  Sales Support Agent\n"
     ]
    }
   ],
   "source": [
    "# script.py\n",
    "\n",
    "# Open engine in context manager\n",
    "# Perform query and save results to DataFrame: df\n",
    "with engine.connect() as con:\n",
    "    rs = con.execute('SELECT LastName, Title FROM Employee')\n",
    "    df = pd.DataFrame(rs.fetchmany(size=3))\n",
    "    df.columns = rs.keys()\n",
    "\n",
    "# Print the length of the DataFrame df\n",
    "print(len(df))\n",
    "\n",
    "# Print the head of the DataFrame df\n",
    "print(df.head())"
   ]
  }
 ],
 "metadata": {
  "kernelspec": {
   "display_name": "Python 3",
   "language": "python",
   "name": "python3"
  },
  "language_info": {
   "codemirror_mode": {
    "name": "ipython",
    "version": 3
   },
   "file_extension": ".py",
   "mimetype": "text/x-python",
   "name": "python",
   "nbconvert_exporter": "python",
   "pygments_lexer": "ipython3",
   "version": "3.7.5"
  }
 },
 "nbformat": 4,
 "nbformat_minor": 4
}
