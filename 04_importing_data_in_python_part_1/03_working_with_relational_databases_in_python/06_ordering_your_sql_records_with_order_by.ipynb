{
 "cells": [
  {
   "cell_type": "markdown",
   "metadata": {},
   "source": [
    "---\n",
    "# Exercise\n",
    "---"
   ]
  },
  {
   "cell_type": "markdown",
   "metadata": {},
   "source": [
    "<h1 class=\"exercise--title\">Filtering your database records using SQL's WHERE</h1>\n",
    "<p>You can now execute a basic SQL query to select records from any table in your database and you can also perform simple query customizations to select particular columns and numbers of rows.</p>\n",
    "<p>There are a couple more standard SQL query chops that will aid you in your journey to becoming an SQL ninja.</p>\n",
    "<p>Let's say, for example that you wanted to get all records from the <code>Customer</code> table of the Chinook database for which the <code>Country</code> is <code>'Canada'</code>. You can do this very easily in SQL using a <code>SELECT</code> statement followed by a <code>WHERE</code> clause as follows:</p>\n",
    "\n",
    "``` python\n",
    "SELECT * FROM Customer WHERE Country = 'Canada'\n",
    "```\n",
    "\n",
    "<p>In fact, you can filter any <code>SELECT</code> statement by any condition using a <code>WHERE</code> clause. This is called <em>filtering</em> your records.</p>\n",
    "<p>In this interactive exercise, you'll select all records of the <code>Employee</code> table for which <code>'EmployeeId'</code> is greater than or equal to <code>6</code>.</p>\n",
    "<p>Packages are already imported as follows:</p>\n",
    "\n",
    "``` python\n",
    "import pandas as pd\n",
    "from sqlalchemy import create_engine\n",
    "```\n",
    "\n",
    "<p>Query away!</p>"
   ]
  },
  {
   "cell_type": "markdown",
   "metadata": {},
   "source": [
    "---\n",
    "### Instructions `100xp`\n",
    "---"
   ]
  },
  {
   "cell_type": "markdown",
   "metadata": {},
   "source": [
    "<ul>\n",
    "    <li>Complete the argument of <code>create_engine()</code> so that the engine for the SQLite database <code>'Chinook.sqlite'</code> is created.</li>\n",
    "    <li>Execute the query that <strong>selects</strong> <em>all</em> records <strong>from</strong> the <code>Employee</code> table <strong>where</strong> <code>'EmployeeId'</code> is greater than or equal to <code>6</code>. Use the <code>&gt;=</code> operator and assign the results to <code>rs</code>.</li>\n",
    "    <li>Apply the method <code>fetchall()</code> to <code>rs</code> in order to fetch all records in <code>rs</code>. Store them in the DataFrame <code>df</code>.</li>\n",
    "    <li>Using the <code>rs</code> object, set the DataFrame's column names to the corresponding names of the table columns.</li>\n",
    "</ul>"
   ]
  },
  {
   "cell_type": "markdown",
   "metadata": {},
   "source": [
    "---"
   ]
  },
  {
   "cell_type": "code",
   "execution_count": null,
   "metadata": {},
   "outputs": [],
   "source": [
    "# script.py\n",
    "\n",
    "# Create engine: engine\n",
    "\n",
    "\n",
    "# Open engine in context manager\n",
    "with engine.connect() as con:\n",
    "    rs = ____\n",
    "    df = ____\n",
    "\n",
    "    # Set the DataFrame's column names\n",
    "\n",
    "\n",
    "# Print head of DataFrame\n",
    "print(df.head())\n"
   ]
  }
 ],
 "metadata": {
  "kernelspec": {
   "display_name": "Python 3",
   "language": "python",
   "name": "python3"
  },
  "language_info": {
   "codemirror_mode": {
    "name": "ipython",
    "version": 3
   },
   "file_extension": ".py",
   "mimetype": "text/x-python",
   "name": "python",
   "nbconvert_exporter": "python",
   "pygments_lexer": "ipython3",
   "version": "3.7.4"
  }
 },
 "nbformat": 4,
 "nbformat_minor": 4
}
