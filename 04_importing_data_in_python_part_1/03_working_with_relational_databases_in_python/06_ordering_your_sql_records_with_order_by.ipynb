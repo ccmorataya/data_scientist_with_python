{
 "cells": [
  {
   "cell_type": "markdown",
   "metadata": {},
   "source": [
    "---\n",
    "# Exercise\n",
    "---"
   ]
  },
  {
   "cell_type": "markdown",
   "metadata": {},
   "source": [
    "<h1 class=\"exercise--title\">Ordering your SQL records with ORDER BY</h1>\n",
    "<p>You can also <em>order</em> your SQL query results. For example, if you wanted to get all records from the <code>Customer</code> table of the Chinook database and order them in increasing order by the column <code>SupportRepId</code>, you could do so with the following query:</p>\n",
    "\n",
    "``` python\n",
    "\"SELECT * FROM Customer ORDER BY SupportRepId\"\n",
    "```\n",
    "\n",
    "<p>In fact, you can order any <code>SELECT</code> statement by any column.</p>\n",
    "<p>In this interactive exercise, you'll select all records of the <code>Employee</code> table and order them in increasing order by the column <code>BirthDate</code>.</p>\n",
    "<p>Packages are already imported as follows:</p>\n",
    "\n",
    "``` python\n",
    "import pandas as pd\n",
    "from sqlalchemy import create_engine\n",
    "```\n",
    "\n",
    "<p>Get querying!</p>"
   ]
  },
  {
   "cell_type": "markdown",
   "metadata": {},
   "source": [
    "---\n",
    "### Instructions `100xp`\n",
    "---"
   ]
  },
  {
   "cell_type": "markdown",
   "metadata": {},
   "source": [
    "<ul>\n",
    "    <li>Using the function <code>create_engine()</code>, create an engine for the SQLite database <code>Chinook.sqlite</code> and assign it to the variable <code>engine</code>.</li>\n",
    "    <li>In the context manager, execute the query that <strong>selects</strong> <em>all</em> records <strong>from</strong> the <code>Employee</code> table and <strong>orders</strong> them in increasing order <strong>by</strong> the column <code>BirthDate</code>. Assign the result to <code>rs</code>.</li>\n",
    "    <li>In a call to <code>pd.DataFrame()</code>, apply the method <code>fetchall()</code> to <code>rs</code> in order to fetch all records in <code>rs</code>. Store them in the DataFrame <code>df</code>.</li>\n",
    "    <li>Set the DataFrame's column names to the corresponding names of the table columns.</li>\n",
    "</ul>"
   ]
  },
  {
   "cell_type": "markdown",
   "metadata": {},
   "source": [
    "---"
   ]
  },
  {
   "cell_type": "code",
   "execution_count": null,
   "metadata": {},
   "outputs": [],
   "source": [
    "# script.py\n",
    "\n",
    "# Create engine: engine\n",
    "\n",
    "\n",
    "# Open engine in context manager\n",
    "with engine.connect() as con:\n",
    "    rs = ____\n",
    "    df = ____\n",
    "\n",
    "    # Set the DataFrame's column names\n",
    "\n",
    "\n",
    "# Print head of DataFrame\n",
    "print(df.head())\n"
   ]
  }
 ],
 "metadata": {
  "kernelspec": {
   "display_name": "Python 3",
   "language": "python",
   "name": "python3"
  },
  "language_info": {
   "codemirror_mode": {
    "name": "ipython",
    "version": 3
   },
   "file_extension": ".py",
   "mimetype": "text/x-python",
   "name": "python",
   "nbconvert_exporter": "python",
   "pygments_lexer": "ipython3",
   "version": "3.7.4"
  }
 },
 "nbformat": 4,
 "nbformat_minor": 4
}
