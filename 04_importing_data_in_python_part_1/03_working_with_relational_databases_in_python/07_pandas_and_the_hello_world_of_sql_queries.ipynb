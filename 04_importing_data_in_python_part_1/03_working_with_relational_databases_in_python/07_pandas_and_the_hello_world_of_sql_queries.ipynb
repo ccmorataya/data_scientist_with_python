{
 "cells": [
  {
   "cell_type": "markdown",
   "metadata": {},
   "source": [
    "---\n",
    "# Exercise\n",
    "---"
   ]
  },
  {
   "cell_type": "markdown",
   "metadata": {},
   "source": [
    "<h1 class=\"exercise--title\">Pandas and The Hello World of SQL Queries!</h1>\n",
    "<p>Here, you'll take advantage of the power of <code>pandas</code> to write the results of your SQL query to a DataFrame in one swift line of Python code!</p>\n",
    "<p>You'll first import <code>pandas</code> and create the SQLite <code>'Chinook.sqlite'</code> engine. Then you'll query the database to select all records from the <code>Album</code> table.</p>\n",
    "<p>Recall that to select all records from the <code>Orders</code> table in the Northwind database, Hugo executed the following command:</p>\n",
    "\n",
    "``` python\n",
    "df = pd.read_sql_query(\"SELECT * FROM Orders\", engine)\n",
    "```"
   ]
  },
  {
   "cell_type": "markdown",
   "metadata": {},
   "source": [
    "---\n",
    "### Instructions `100xp`\n",
    "---"
   ]
  },
  {
   "cell_type": "markdown",
   "metadata": {},
   "source": [
    "<ul>\n",
    "    <li>Import the <code>pandas</code> package using the alias <code>pd</code>.</li>\n",
    "    <li>Using the function <code>create_engine()</code>, create an engine for the SQLite database <code>Chinook.sqlite</code> and assign it to the variable <code>engine</code>.</li>\n",
    "    <li>Use the <code>pandas</code> function <code>read_sql_query()</code> to assign to the variable <code>df</code> the DataFrame of results from the following query: <strong>select</strong> <em>all</em> records <strong>from</strong> the table <code>Album</code>.</li>\n",
    "    <li>The remainder of the code is included to confirm that the DataFrame created by this method is equal to that created by the previous method that you learned.</li>\n",
    "</ul>"
   ]
  },
  {
   "cell_type": "markdown",
   "metadata": {},
   "source": [
    "---"
   ]
  },
  {
   "cell_type": "code",
   "execution_count": 1,
   "metadata": {},
   "outputs": [
    {
     "name": "stdout",
     "output_type": "stream",
     "text": [
      "   AlbumId                                  Title  ArtistId\n",
      "0        1  For Those About To Rock We Salute You         1\n",
      "1        2                      Balls to the Wall         2\n",
      "2        3                      Restless and Wild         2\n",
      "3        4                      Let There Be Rock         1\n",
      "4        5                               Big Ones         3\n",
      "True\n"
     ]
    }
   ],
   "source": [
    "# script.py\n",
    "\n",
    "# Import packages\n",
    "from sqlalchemy import create_engine\n",
    "import pandas as pd\n",
    "\n",
    "# Create engine: engine\n",
    "engine = create_engine('sqlite:///00_1_Chinook.sqlite')\n",
    "\n",
    "# Execute query and store records in DataFrame: df\n",
    "df = pd.read_sql_query('SELECT * FROM Album', engine)\n",
    "\n",
    "# Print head of DataFrame\n",
    "print(df.head())\n",
    "\n",
    "# Open engine in context manager and store query result in df1\n",
    "with engine.connect() as con:\n",
    "    rs = con.execute(\"SELECT * FROM Album\")\n",
    "    df1 = pd.DataFrame(rs.fetchall())\n",
    "    df1.columns = rs.keys()\n",
    "\n",
    "# Confirm that both methods yield the same result\n",
    "print(df.equals(df1))"
   ]
  }
 ],
 "metadata": {
  "kernelspec": {
   "display_name": "Python 3",
   "language": "python",
   "name": "python3"
  },
  "language_info": {
   "codemirror_mode": {
    "name": "ipython",
    "version": 3
   },
   "file_extension": ".py",
   "mimetype": "text/x-python",
   "name": "python",
   "nbconvert_exporter": "python",
   "pygments_lexer": "ipython3",
   "version": "3.7.5"
  }
 },
 "nbformat": 4,
 "nbformat_minor": 4
}
