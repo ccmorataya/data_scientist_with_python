{
 "cells": [
  {
   "cell_type": "markdown",
   "metadata": {},
   "source": [
    "---\n",
    "# Exercise\n",
    "---"
   ]
  },
  {
   "cell_type": "markdown",
   "metadata": {},
   "source": [
    "<h1 class=\"exercise--title\">Pandas for more complex querying</h1>\n",
    "<p>Here, you'll become more familiar with the pandas function <code>read_sql_query()</code> by using it to execute a more complex query: a <code>SELECT</code> statement followed by both a <code>WHERE</code> clause AND an <code>ORDER BY</code> clause.</p>\n",
    "<p>You'll build a DataFrame that contains the rows of the <code>Employee</code> table for which the <code>EmployeeId</code> is greater than or equal to <code>6</code> and you'll order these entries by <code>BirthDate</code>.</p>"
   ]
  },
  {
   "cell_type": "markdown",
   "metadata": {},
   "source": [
    "---\n",
    "### Instructions `100xp`\n",
    "---"
   ]
  },
  {
   "cell_type": "markdown",
   "metadata": {},
   "source": [
    "<ul>\n",
    "    <li>Using the function <code>create_engine()</code>, create an engine for the SQLite database <code>Chinook.sqlite</code> and assign it to the variable <code>engine</code>.</li>\n",
    "    <li>Use the <code>pandas</code> function <code>read_sql_query()</code> to assign to the variable <code>df</code> the DataFrame of results from the following query: <strong>select</strong> <em>all</em> records <strong>from</strong> the <code>Employee</code> table <strong>where</strong> the <code>EmployeeId</code> is greater than or equal to <code>6</code> and <strong>ordered by</strong> <code>BirthDate</code> (make sure to use <code>WHERE</code> and <code>ORDER BY</code> in this precise order).</li>\n",
    "</ul>"
   ]
  },
  {
   "cell_type": "markdown",
   "metadata": {},
   "source": [
    "---"
   ]
  },
  {
   "cell_type": "code",
   "execution_count": null,
   "metadata": {},
   "outputs": [],
   "source": [
    "# script.py\n",
    "\n",
    "# Import packages\n",
    "from sqlalchemy import create_engine\n",
    "import pandas as pd\n",
    "\n",
    "# Create engine: engine\n",
    "\n",
    "\n",
    "# Execute query and store records in DataFrame: df\n",
    "\n",
    "\n",
    "# Print head of DataFrame\n",
    "print(df.head())\n"
   ]
  }
 ],
 "metadata": {
  "kernelspec": {
   "display_name": "Python 3",
   "language": "python",
   "name": "python3"
  },
  "language_info": {
   "codemirror_mode": {
    "name": "ipython",
    "version": 3
   },
   "file_extension": ".py",
   "mimetype": "text/x-python",
   "name": "python",
   "nbconvert_exporter": "python",
   "pygments_lexer": "ipython3",
   "version": "3.7.4"
  }
 },
 "nbformat": 4,
 "nbformat_minor": 4
}
