{
 "cells": [
  {
   "cell_type": "markdown",
   "metadata": {},
   "source": [
    "---\n",
    "# Exercise\n",
    "---"
   ]
  },
  {
   "cell_type": "markdown",
   "metadata": {},
   "source": [
    "<h1 class=\"exercise--title\">The power of SQL lies in relationships between tables: INNER JOIN</h1>\n",
    "<p>Here, you'll perform your first <code>INNER JOIN</code>! You'll be working with your favourite SQLite database, <code>Chinook.sqlite</code>. For each record in the <code>Album</code> table, you'll extract the <code>Title</code> along with the <code>Name</code> of the <code>Artist</code>. The latter will come from the <code>Artist</code> table and so you will need to <code>INNER JOIN</code> these two tables on the <code>ArtistID</code> column of both.</p>\n",
    "<p>Recall that to <code>INNER JOIN</code> the <code>Orders</code> and <code>Customers</code> tables from the Northwind database, Hugo executed the following SQL query:</p>\n",
    "\n",
    "``` python\n",
    "\"SELECT OrderID, CompanyName FROM Orders INNER JOIN Customers on Orders.CustomerID = Customers.CustomerID\"\n",
    "```\n",
    "\n",
    "<p>The following code has already been executed to import the necessary packages and to create the engine:</p>\n",
    "\n",
    "``` python\n",
    "import pandas as pd\n",
    "from sqlalchemy import create_engine\n",
    "engine = create_engine('sqlite:///Chinook.sqlite')\n",
    "```"
   ]
  },
  {
   "cell_type": "markdown",
   "metadata": {},
   "source": [
    "---\n",
    "### Instructions `100xp`\n",
    "---"
   ]
  },
  {
   "cell_type": "markdown",
   "metadata": {},
   "source": [
    "<ul>\n",
    "    <li>Assign to <code>rs</code> the results from the following query: <strong>select</strong> <em>all</em> the records, extracting the <code>Title</code> of the record and <code>Name</code> of the artist of each record <strong>from</strong> the <code>Album</code> table and the <code>Artist</code> table, respectively. To do so, <code>INNER JOIN</code> these two tables on the <code>ArtistID</code> column of both.</li>\n",
    "    <li>In a call to <code>pd.DataFrame()</code>, apply the method <code>fetchall()</code> to <code>rs</code> in order to fetch all records in <code>rs</code>. Store them in the DataFrame <code>df</code>.</li>\n",
    "    <li>Set the DataFrame's column names to the corresponding names of the table columns.</li>\n",
    "</ul>"
   ]
  },
  {
   "cell_type": "markdown",
   "metadata": {},
   "source": [
    "---"
   ]
  },
  {
   "cell_type": "code",
   "execution_count": null,
   "metadata": {},
   "outputs": [],
   "source": [
    "# script.py\n",
    "\n",
    "# Open engine in context manager\n",
    "# Perform query and save results to DataFrame: df\n",
    "with engine.connect() as con:\n",
    "    ____\n",
    "    ____\n",
    "    ____\n",
    "\n",
    "# Print head of DataFrame df\n",
    "print(df.head())\n"
   ]
  }
 ],
 "metadata": {
  "kernelspec": {
   "display_name": "Python 3",
   "language": "python",
   "name": "python3"
  },
  "language_info": {
   "codemirror_mode": {
    "name": "ipython",
    "version": 3
   },
   "file_extension": ".py",
   "mimetype": "text/x-python",
   "name": "python",
   "nbconvert_exporter": "python",
   "pygments_lexer": "ipython3",
   "version": "3.7.4"
  }
 },
 "nbformat": 4,
 "nbformat_minor": 4
}
