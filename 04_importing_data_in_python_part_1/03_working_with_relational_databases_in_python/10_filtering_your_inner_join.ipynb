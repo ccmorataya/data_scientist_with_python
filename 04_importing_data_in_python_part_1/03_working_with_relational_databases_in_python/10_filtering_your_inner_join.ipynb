{
 "cells": [
  {
   "cell_type": "markdown",
   "metadata": {},
   "source": [
    "---\n",
    "# Exercise\n",
    "---"
   ]
  },
  {
   "cell_type": "markdown",
   "metadata": {},
   "source": [
    "<h1 class=\"exercise--title\">Filtering your INNER JOIN</h1>\n",
    "<p>Congrats on performing your first <code>INNER JOIN</code>! You're now going to finish this chapter with one final exercise in which you perform an <code>INNER JOIN</code> and filter the result using a <code>WHERE</code> clause.</p>\n",
    "<p>Recall that to <code>INNER JOIN</code> the <code>Orders</code> and <code>Customers</code> tables from the Northwind database, Hugo executed the following SQL query:</p>\n",
    "\n",
    "``` python\n",
    "\"SELECT OrderID, CompanyName FROM Orders INNER JOIN Customers on Orders.CustomerID = Customers.CustomerID\"\n",
    "```\n",
    "\n",
    "<p>The following code has already been executed to import the necessary packages and to create the engine:</p>\n",
    "\n",
    "``` python\n",
    "import pandas as pd\n",
    "from sqlalchemy import create_engine\n",
    "engine = create_engine('sqlite:///Chinook.sqlite')\n",
    "```"
   ]
  },
  {
   "cell_type": "markdown",
   "metadata": {},
   "source": [
    "---\n",
    "### Instructions `100xp`\n",
    "---"
   ]
  },
  {
   "cell_type": "markdown",
   "metadata": {},
   "source": [
    "<ul>\n",
    "    <li>Use the <code>pandas</code> function <code>read_sql_query()</code> to assign to the variable <code>df</code> the DataFrame of results from the following query: <strong>select</strong> <em>all</em> records <strong>from</strong> <code>PlaylistTrack INNER JOIN Track on PlaylistTrack.TrackId = Track.TrackId</code> that satisfy the condition <code>Milliseconds &lt; 250000</code>.</li>\n",
    "</ul>"
   ]
  },
  {
   "cell_type": "markdown",
   "metadata": {},
   "source": [
    "---"
   ]
  },
  {
   "cell_type": "code",
   "execution_count": null,
   "metadata": {},
   "outputs": [],
   "source": [
    "# script.py\n",
    "\n",
    "# Execute query and store records in DataFrame: df\n",
    "\n",
    "\n",
    "# Print head of DataFrame\n",
    "print(df.head())"
   ]
  }
 ],
 "metadata": {
  "kernelspec": {
   "display_name": "Python 3",
   "language": "python",
   "name": "python3"
  },
  "language_info": {
   "codemirror_mode": {
    "name": "ipython",
    "version": 3
   },
   "file_extension": ".py",
   "mimetype": "text/x-python",
   "name": "python",
   "nbconvert_exporter": "python",
   "pygments_lexer": "ipython3",
   "version": "3.7.4"
  }
 },
 "nbformat": 4,
 "nbformat_minor": 4
}
