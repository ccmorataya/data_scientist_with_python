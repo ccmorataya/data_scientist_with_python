{
 "cells": [
  {
   "cell_type": "markdown",
   "metadata": {},
   "source": [
    "---\n",
    "# Exercise\n",
    "---"
   ]
  },
  {
   "cell_type": "markdown",
   "metadata": {},
   "source": [
    "<h1 class=\"dc-h3\">Pop quiz: What exactly is a JSON?</h1>\n",
    "<p>Which of the following is <strong>NOT</strong> true of the JSON file format?</p>"
   ]
  },
  {
   "cell_type": "markdown",
   "metadata": {},
   "source": [
    "---\n",
    "### Instructions `50xp`\n",
    "---"
   ]
  },
  {
   "cell_type": "markdown",
   "metadata": {},
   "source": [
    "**<h5>Possible Answers</h5>**\n",
    "<input type=\"radio\"> JSONs consist of key-value pairs.\\\n",
    "<input type=\"radio\"> JSONs are human-readable.\\\n",
    "<input type=\"radio\"> The JSON file format arose out of a growing need for real-time server-to-browser communication.\\\n",
    "<input type=\"radio\"> The function <code>json.load()</code> will load the JSON into Python as a <code>list</code>.\\\n",
    "<input type=\"radio\"> The function <code>json.load()</code> will load the JSON into Python as a <code>dictionary</code>."
   ]
  },
  {
   "cell_type": "markdown",
   "metadata": {},
   "source": [
    "---"
   ]
  }
 ],
 "metadata": {
  "kernelspec": {
   "display_name": "Python 3",
   "language": "python",
   "name": "python3"
  },
  "language_info": {
   "codemirror_mode": {
    "name": "ipython",
    "version": 3
   },
   "file_extension": ".py",
   "mimetype": "text/x-python",
   "name": "python",
   "nbconvert_exporter": "python",
   "pygments_lexer": "ipython3",
   "version": "3.7.4"
  }
 },
 "nbformat": 4,
 "nbformat_minor": 4
}
