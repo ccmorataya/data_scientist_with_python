{
 "cells": [
  {
   "cell_type": "markdown",
   "metadata": {},
   "source": [
    "---\n",
    "# Exercise\n",
    "---"
   ]
  },
  {
   "cell_type": "markdown",
   "metadata": {},
   "source": [
    "<h1 class=\"exercise--title\">Loading and exploring a JSON</h1>\n",
    "<p>Now that you know what a JSON is, you'll load one into your Python environment and explore it yourself. Here, you'll load the JSON <code>'a_movie.json'</code> into the variable <code>json_data</code>, which will be a dictionary. You'll then explore the JSON contents by printing the key-value pairs of <code>json_data</code> to the shell.</p>"
   ]
  },
  {
   "cell_type": "markdown",
   "metadata": {},
   "source": [
    "---\n",
    "### Instructions `100xp`\n",
    "---"
   ]
  },
  {
   "cell_type": "markdown",
   "metadata": {},
   "source": [
    "<ul>\n",
    "    <li>Load the JSON <code>'a_movie.json'</code> into the variable <code>json_data</code> <em>within the context</em> provided by the <code>with</code> statement. To do so, use the function <code>json.load()</code> <em>within the context manager</em>.</li>\n",
    "    <li>Use a <code>for</code> loop to print all key-value pairs in the dictionary <code>json_data</code>. Recall that you can access a value in a dictionary using the syntax: <em>dictionary</em><code>[</code>key<code>]</code>.</li>\n",
    "</ul>"
   ]
  },
  {
   "cell_type": "markdown",
   "metadata": {},
   "source": [
    "---"
   ]
  },
  {
   "cell_type": "code",
   "execution_count": null,
   "metadata": {},
   "outputs": [],
   "source": [
    "# script.py\n",
    "\n",
    "# Load JSON: json_data\n",
    "with open(\"a_movie.json\") as json_file:\n",
    "    ____\n",
    "\n",
    "# Print each key-value pair in json_data\n",
    "for k in json_data.keys():\n",
    "    print(k + ': ', ____)"
   ]
  }
 ],
 "metadata": {
  "kernelspec": {
   "display_name": "Python 3",
   "language": "python",
   "name": "python3"
  },
  "language_info": {
   "codemirror_mode": {
    "name": "ipython",
    "version": 3
   },
   "file_extension": ".py",
   "mimetype": "text/x-python",
   "name": "python",
   "nbconvert_exporter": "python",
   "pygments_lexer": "ipython3",
   "version": "3.7.4"
  }
 },
 "nbformat": 4,
 "nbformat_minor": 4
}
