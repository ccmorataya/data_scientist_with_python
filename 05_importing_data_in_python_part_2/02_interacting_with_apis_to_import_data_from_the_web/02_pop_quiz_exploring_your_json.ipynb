{
 "cells": [
  {
   "cell_type": "markdown",
   "metadata": {},
   "source": [
    "---\n",
    "# Exercise\n",
    "---"
   ]
  },
  {
   "cell_type": "markdown",
   "metadata": {},
   "source": [
    "<h1 class=\"exercise--title\">Pop quiz: Exploring your JSON</h1>\n",
    "<p>Load the JSON <code>'a_movie.json'</code> into a variable, which will be a dictionary.\n",
    "Do so by copying, pasting and executing the following code in the IPython Shell:</p>\n",
    "\n",
    "``` python\n",
    "import json\n",
    "with open(\"a_movie.json\") as json_file:\n",
    "json_data = json.load(json_file)\n",
    "```\n",
    "\n",
    "<p>Print the values corresponding to the keys <code>'Title'</code>\n",
    "and <code>'Year'</code> and answer the following question about the movie that the JSON\n",
    "describes:</p>\n",
    "<p>Which of the following statements is true of the movie in question?</p>"
   ]
  },
  {
   "cell_type": "markdown",
   "metadata": {},
   "source": [
    "---\n",
    "### Instructions `50xp`\n",
    "---"
   ]
  },
  {
   "cell_type": "markdown",
   "metadata": {},
   "source": [
    "**<h5>Possible Answers</h5>**\n",
    "<input type=\"radio\"> The title is 'Kung Fu Panda' and the year is 2010.\\\n",
    "<input type=\"radio\"> The title is 'Kung Fu Panda' and the year is 2008.\\\n",
    "<input type=\"radio\"> The title is 'The Social Network' and the year is 2010.\\\n",
    "<input type=\"radio\"> The title is 'The Social Network' and the year is 2008."
   ]
  },
  {
   "cell_type": "markdown",
   "metadata": {},
   "source": [
    "---"
   ]
  },
  {
   "cell_type": "code",
   "execution_count": null,
   "metadata": {},
   "outputs": [],
   "source": [
    "# IPython Shell\n",
    "\n"
   ]
  }
 ],
 "metadata": {
  "kernelspec": {
   "display_name": "Python 3",
   "language": "python",
   "name": "python3"
  },
  "language_info": {
   "codemirror_mode": {
    "name": "ipython",
    "version": 3
   },
   "file_extension": ".py",
   "mimetype": "text/x-python",
   "name": "python",
   "nbconvert_exporter": "python",
   "pygments_lexer": "ipython3",
   "version": "3.7.5"
  }
 },
 "nbformat": 4,
 "nbformat_minor": 4
}
