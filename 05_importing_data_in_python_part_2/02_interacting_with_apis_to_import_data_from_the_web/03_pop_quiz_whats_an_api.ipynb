{
 "cells": [
  {
   "cell_type": "markdown",
   "metadata": {},
   "source": [
    "---\n",
    "# Exercise\n",
    "---"
   ]
  },
  {
   "cell_type": "markdown",
   "metadata": {},
   "source": [
    "<h1 class=\"dc-h3\">Pop quiz: What's an API?</h1>\n",
    "<p>Which of the following statements about APIs is NOT true?</p>"
   ]
  },
  {
   "cell_type": "markdown",
   "metadata": {},
   "source": [
    "---\n",
    "### Instructions `50xp`\n",
    "---"
   ]
  },
  {
   "cell_type": "markdown",
   "metadata": {},
   "source": [
    "**<h5>Possible Answers</h5>**\n",
    "<input type=\"radio\"> An API is a set of protocols and routines for building and interacting with software applications.\\\n",
    "<input type=\"radio\"> API is an acronym and is short for Application Program interface.\\\n",
    "<input type=\"radio\"> It is common to pull data from APIs in the JSON file format.\\\n",
    "<input type=\"radio\"> All APIs transmit data only in the JSON file format.\\\n",
    "<input type=\"radio\"> An API is a bunch of code that allows two software programs to communicate with each other."
   ]
  },
  {
   "cell_type": "markdown",
   "metadata": {},
   "source": [
    "---"
   ]
  }
 ],
 "metadata": {
  "kernelspec": {
   "display_name": "Python 3",
   "language": "python",
   "name": "python3"
  },
  "language_info": {
   "codemirror_mode": {
    "name": "ipython",
    "version": 3
   },
   "file_extension": ".py",
   "mimetype": "text/x-python",
   "name": "python",
   "nbconvert_exporter": "python",
   "pygments_lexer": "ipython3",
   "version": "3.7.5"
  }
 },
 "nbformat": 4,
 "nbformat_minor": 4
}
