{
 "cells": [
  {
   "cell_type": "markdown",
   "metadata": {},
   "source": [
    "---\n",
    "# Exercise\n",
    "---"
   ]
  },
  {
   "cell_type": "markdown",
   "metadata": {},
   "source": [
    "<h1 class=\"exercise--title\">Streaming tweets</h1>\n",
    "<p>Now that you have set up your authentication credentials, it is time to stream some tweets!\n",
    "We have already defined the tweet stream listener class, <code>MyStreamListener</code>, just as Hugo did in the introductory video.\n",
    "You can find the code for the tweet stream listener class <a href=\"https://gist.github.com/hugobowne/18f1c0c0709ed1a52dc5bcd462ac69f4\" target=\"_blank\" rel=\"noopener noreferrer\">here</a>.</p>\n",
    "<p>Your task is to create the <code>Stream</code>object and to filter tweets according to particular keywords.</p>"
   ]
  },
  {
   "cell_type": "markdown",
   "metadata": {},
   "source": [
    "---\n",
    "### Instructions `100xp`\n",
    "---"
   ]
  },
  {
   "cell_type": "markdown",
   "metadata": {},
   "source": [
    "<ul>\n",
    "    <li>Create your <code>Stream</code> object with authentication by passing <code>tweepy.Stream()</code> the authentication handler <code>auth</code> and the Stream listener <code>l</code>;</li>\n",
    "    <li>To filter Twitter streams, pass to the <code>track</code> argument in <code>stream.filter()</code> a list containing the desired keywords <code>'clinton'</code>, <code>'trump'</code>, <code>'sanders'</code>, and <code>'cruz'</code>.</li>\n",
    "</ul>"
   ]
  },
  {
   "cell_type": "markdown",
   "metadata": {},
   "source": [
    "---"
   ]
  },
  {
   "cell_type": "code",
   "execution_count": null,
   "metadata": {},
   "outputs": [],
   "source": [
    "# script.py\n",
    "\n",
    "# Initialize Stream listener\n",
    "l = MyStreamListener()\n",
    "\n",
    "# Create your Stream object with authentication\n",
    "stream = tweepy.Stream(____, ____)\n",
    "\n",
    "# Filter Twitter Streams to capture data by the keywords:\n",
    "stream.filter(____)"
   ]
  }
 ],
 "metadata": {
  "kernelspec": {
   "display_name": "Python 3",
   "language": "python",
   "name": "python3"
  },
  "language_info": {
   "codemirror_mode": {
    "name": "ipython",
    "version": 3
   },
   "file_extension": ".py",
   "mimetype": "text/x-python",
   "name": "python",
   "nbconvert_exporter": "python",
   "pygments_lexer": "ipython3",
   "version": "3.7.5"
  }
 },
 "nbformat": 4,
 "nbformat_minor": 4
}
