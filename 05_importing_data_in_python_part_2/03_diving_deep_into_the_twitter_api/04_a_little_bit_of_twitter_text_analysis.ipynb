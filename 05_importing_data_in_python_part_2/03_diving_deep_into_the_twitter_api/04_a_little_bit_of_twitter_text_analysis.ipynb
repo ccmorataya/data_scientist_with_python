{
 "cells": [
  {
   "cell_type": "markdown",
   "metadata": {},
   "source": [
    "---\n",
    "# Exercise\n",
    "---"
   ]
  },
  {
   "cell_type": "markdown",
   "metadata": {},
   "source": [
    "<h1 class=\"exercise--title\">A little bit of Twitter text analysis</h1>\n",
    "<p>Now that you have your DataFrame of tweets set up, you're going to do a bit of text analysis to count how many tweets contain the words <code>'clinton'</code>, <code>'trump'</code>, <code>'sanders'</code> and <code>'cruz'</code>. In the pre-exercise code, we have defined the following function <code>word_in_text()</code>, which will tell you whether the first argument (a word) occurs within the 2nd argument (a tweet).</p>\n",
    "\n",
    "``` python\n",
    "import re\n",
    "\n",
    "def word_in_text(word, text):\n",
    "    word = word.lower()\n",
    "    text = text.lower()\n",
    "    match = re.search(word, text)\n",
    "\n",
    "    if match:\n",
    "        return True\n",
    "    return False\n",
    "```\n",
    "\n",
    "\n",
    "<p>You're going to iterate over the rows of the DataFrame and calculate how many tweets contain each of our keywords! The list of objects for each candidate has been initialized to 0.</p>"
   ]
  },
  {
   "cell_type": "markdown",
   "metadata": {},
   "source": [
    "---\n",
    "### Instructions `100xp`\n",
    "---"
   ]
  },
  {
   "cell_type": "markdown",
   "metadata": {},
   "source": [
    "<ul>\n",
    "    <li>Within the <code>for</code> loop <code>for index, row in df.iterrows():</code>, the code currently increases the value of <code>clinton</code> by <code>1</code> each time a tweet (text row) mentioning 'Clinton' is encountered; complete the code so that the same happens for <code>trump</code>, <code>sanders</code> and <code>cruz</code>.</li>\n",
    "</ul>"
   ]
  },
  {
   "cell_type": "markdown",
   "metadata": {},
   "source": [
    "---"
   ]
  },
  {
   "cell_type": "code",
   "execution_count": null,
   "metadata": {},
   "outputs": [],
   "source": [
    "# script.py\n",
    "\n",
    "# Initialize list to store tweet counts\n",
    "[clinton, trump, sanders, cruz] = [0, 0, 0, 0]\n",
    "\n",
    "# Iterate through df, counting the number of tweets in which\n",
    "# each candidate is mentioned\n",
    "for index, row in df.iterrows():\n",
    "    clinton += word_in_text('clinton', row['text'])\n",
    "    trump += word_in_text(____, ____)\n",
    "    sanders += word_in_text(____, ____)\n",
    "    cruz += word_in_text(____, ____)\n"
   ]
  }
 ],
 "metadata": {
  "kernelspec": {
   "display_name": "Python 3",
   "language": "python",
   "name": "python3"
  },
  "language_info": {
   "codemirror_mode": {
    "name": "ipython",
    "version": 3
   },
   "file_extension": ".py",
   "mimetype": "text/x-python",
   "name": "python",
   "nbconvert_exporter": "python",
   "pygments_lexer": "ipython3",
   "version": "3.7.5"
  }
 },
 "nbformat": 4,
 "nbformat_minor": 4
}
