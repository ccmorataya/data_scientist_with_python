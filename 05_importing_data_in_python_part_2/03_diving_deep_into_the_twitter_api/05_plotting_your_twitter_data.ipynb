{
 "cells": [
  {
   "cell_type": "markdown",
   "metadata": {},
   "source": [
    "---\n",
    "# Exercise\n",
    "---"
   ]
  },
  {
   "cell_type": "markdown",
   "metadata": {},
   "source": [
    "<h1 class=\"exercise--title\">Plotting your Twitter data</h1>\n",
    "<p>Now that you have the number of tweets that each candidate was mentioned in, you can plot a bar chart of this data. You'll use the statistical data visualization library <a href=\"https://stanford.edu/~mwaskom/software/seaborn/\" target=\"_blank\" rel=\"noopener noreferrer\"><code>seaborn</code></a>, which you may not have seen before, but we'll guide you through. You'll first import <code>seaborn</code> as <code>sns</code>. You'll then construct a barplot of the data using <code>sns.barplot</code>, passing it two arguments: </p>\n",
    "<ol>\n",
    "    <li>a list of <em>labels</em> and</li>\n",
    "    <li>a list containing the variables you wish to plot (<code>clinton</code>, <code>trump</code> and so on.)</li>\n",
    "</ol>\n",
    "<p>Hopefully, you'll see that Trump was unreasonably represented! We have already run the previous exercise solutions in your environment.</p>"
   ]
  },
  {
   "cell_type": "markdown",
   "metadata": {},
   "source": [
    "---\n",
    "### Instructions `100xp`\n",
    "---"
   ]
  },
  {
   "cell_type": "markdown",
   "metadata": {},
   "source": [
    "<ul>\n",
    "    <li>Import both <code>matplotlib.pyplot</code> and <code>seaborn</code> using the aliases <code>plt</code> and <code>sns</code>, respectively.</li>\n",
    "    <li>Complete the arguments of <code>sns.barplot</code>: <ul>\n",
    "        <li>The first argument should be the list of labels to appear on the x-axis (created in the previous step).</li>\n",
    "        <li>The second argument should be a list of the variables you wish to plot, as produced in the previous exercise (i.e. a list containing <code>clinton</code>, <code>trump</code>, etc).</li></ul></li>\n",
    "</ul>"
   ]
  },
  {
   "cell_type": "markdown",
   "metadata": {},
   "source": [
    "---"
   ]
  },
  {
   "cell_type": "code",
   "execution_count": null,
   "metadata": {},
   "outputs": [],
   "source": [
    "# script.py\n",
    "\n",
    "# Import packages\n",
    "\n",
    "\n",
    "\n",
    "# Set seaborn style\n",
    "sns.set(color_codes=True)\n",
    "\n",
    "# Create a list of labels:cd\n",
    "cd = ['clinton', 'trump', 'sanders', 'cruz']\n",
    "\n",
    "# Plot the bar chart\n",
    "ax = sns.barplot(____, ____)\n",
    "ax.set(ylabel=\"count\")\n",
    "plt.show()\n"
   ]
  }
 ],
 "metadata": {
  "kernelspec": {
   "display_name": "Python 3",
   "language": "python",
   "name": "python3"
  },
  "language_info": {
   "codemirror_mode": {
    "name": "ipython",
    "version": 3
   },
   "file_extension": ".py",
   "mimetype": "text/x-python",
   "name": "python",
   "nbconvert_exporter": "python",
   "pygments_lexer": "ipython3",
   "version": "3.7.5"
  }
 },
 "nbformat": 4,
 "nbformat_minor": 4
}
