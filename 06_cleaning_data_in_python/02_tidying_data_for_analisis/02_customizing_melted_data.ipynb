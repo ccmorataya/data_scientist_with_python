{
 "cells": [
  {
   "cell_type": "markdown",
   "metadata": {},
   "source": [
    "---\n",
    "# Exercise\n",
    "---"
   ]
  },
  {
   "cell_type": "markdown",
   "metadata": {},
   "source": [
    "<h1 class=\"exercise--title\">Customizing melted data</h1>\n",
    "<p>When melting DataFrames, it would be better to have column names more meaningful than <code>variable</code> and <code>value</code> (the default names used by <code>pd.melt()</code>).</p>\n",
    "<p>The default names may work in certain situations, but it's best to always have data that is self explanatory.</p>\n",
    "<p>You can rename the <code>variable</code> column by specifying an argument to the <code>var_name</code> parameter, and the <code>value</code>\n",
    "column by specifying an argument to the <code>value_name</code> parameter. You will now practice doing exactly this.\n",
    "Pandas as <code>pd</code> and the DataFrame <code>airquality</code> has been pre-loaded for you.</p>"
   ]
  },
  {
   "cell_type": "markdown",
   "metadata": {},
   "source": [
    "---\n",
    "### Instructions `100xp`\n",
    "---"
   ]
  },
  {
   "cell_type": "markdown",
   "metadata": {},
   "source": [
    "<ul>\n",
    "    <li>Print the head of <code>airquality</code>.</li>\n",
    "    <li>Melt the columns of <code>airquality</code> with the default <code>variable</code> column renamed to <code>'measurement'</code> and the default <code>value</code> column renamed to <code>'reading'</code>. You can do this by specifying, respectively, the <code>var_name</code> and <code>value_name</code> parameters.</li>\n",
    "    <li>Print the head of <code>airquality_melt</code>.</li>\n",
    "</ul>"
   ]
  },
  {
   "cell_type": "markdown",
   "metadata": {},
   "source": [
    "---"
   ]
  },
  {
   "cell_type": "code",
   "execution_count": null,
   "metadata": {},
   "outputs": [],
   "source": [
    "# script.py\n",
    "\n",
    "# Print the head of airquality\n",
    "print(airquality.head())\n",
    "\n",
    "# Melt airquality: airquality_melt\n",
    "airquality_melt = pd.melt(airquality, id_vars=['Month', 'Day'], var_name=____, value_name=____)\n",
    "\n",
    "# Print the head of airquality_melt\n",
    "print(____)\n"
   ]
  }
 ],
 "metadata": {
  "kernelspec": {
   "display_name": "Python 3",
   "language": "python",
   "name": "python3"
  },
  "language_info": {
   "codemirror_mode": {
    "name": "ipython",
    "version": 3
   },
   "file_extension": ".py",
   "mimetype": "text/x-python",
   "name": "python",
   "nbconvert_exporter": "python",
   "pygments_lexer": "ipython3",
   "version": "3.7.5"
  }
 },
 "nbformat": 4,
 "nbformat_minor": 4
}
