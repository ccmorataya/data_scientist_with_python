{
 "cells": [
  {
   "cell_type": "markdown",
   "metadata": {},
   "source": [
    "---\n",
    "# Exercise\n",
    "---"
   ]
  },
  {
   "cell_type": "markdown",
   "metadata": {},
   "source": [
    "<h1 class=\"exercise--title\">Reshaping your data using melt</h1>\n",
    "<p>Melting data is the process of turning columns of your data into rows of data. Consider the DataFrames from the previous exercise. In the tidy DataFrame, the variables <code>Ozone</code>, <code>Solar.R</code>, <code>Wind</code>, and <code>Temp</code> each had their own column.\n",
    "If, however, you wanted these variables to be in rows instead, you could melt the DataFrame. In doing so, however, you would make the data untidy! This is important to keep in mind: Depending on how your data is represented, you will have to reshape it\n",
    "differently (e.g., this could make it easier to plot values).</p>\n",
    "n this exercise, you will practice melting a DataFrame using <code>pd.melt()</code>. There are two parameters you should be aware of: <code>id_vars</code> and <code>value_vars</code>.\n",
    "The <code>id_vars</code> represent the columns of the data you <strong>do not</strong> want to melt (i.e., keep it in its current shape), while the <code>value_vars</code> represent the columns you <strong>do</strong> wish to melt into rows. By default, if no <code>value_vars</code> are provided, all columns not set in the <code>id_vars</code> will be melted. This could save a bit of typing, depending on the number of columns that need to be melted.</p>\n",
    "<p>The (tidy) DataFrame <code>airquality</code> has been pre-loaded. Your job is to melt its <code>Ozone</code>, <code>Solar.R</code>, <code>Wind</code>, and <code>Temp</code> columns into rows. Later in this chapter, you'll learn how to bring this melted DataFrame back into a tidy form.</p>"
   ]
  },
  {
   "cell_type": "markdown",
   "metadata": {},
   "source": [
    "---\n",
    "### Instructions `100xp`\n",
    "---"
   ]
  },
  {
   "cell_type": "markdown",
   "metadata": {},
   "source": [
    "<ul>\n",
    "    <li>Print the head of <code>airquality</code>.</li>\n",
    "    <li>Use <code>pd.melt()</code> to melt the <code>Ozone</code>, <code>Solar.R</code>, <code>Wind</code>, and <code>Temp</code> columns of <code>airquality</code> into rows. Do this by using <code>id_vars</code> to specify the columns you <strong>do not</strong> wish to melt: <code>'Month'</code> and <code>'Day'</code>.</li>\n",
    "    <li>Print the head of <code>airquality_melt</code>.</li>\n",
    "</ul>"
   ]
  },
  {
   "cell_type": "markdown",
   "metadata": {},
   "source": [
    "---"
   ]
  },
  {
   "cell_type": "code",
   "execution_count": null,
   "metadata": {},
   "outputs": [],
   "source": [
    "# script.py\n",
    "\n",
    "# Print the head of airquality\n",
    "print(____)\n",
    "\n",
    "# Melt airquality: airquality_melt\n",
    "airquality_melt = ____(____, ____=[____, ____])\n",
    "\n",
    "# Print the head of airquality_melt\n",
    "print(____)\n"
   ]
  }
 ],
 "metadata": {
  "kernelspec": {
   "display_name": "Python 3",
   "language": "python",
   "name": "python3"
  },
  "language_info": {
   "codemirror_mode": {
    "name": "ipython",
    "version": 3
   },
   "file_extension": ".py",
   "mimetype": "text/x-python",
   "name": "python",
   "nbconvert_exporter": "python",
   "pygments_lexer": "ipython3",
   "version": "3.7.5"
  }
 },
 "nbformat": 4,
 "nbformat_minor": 4
}
