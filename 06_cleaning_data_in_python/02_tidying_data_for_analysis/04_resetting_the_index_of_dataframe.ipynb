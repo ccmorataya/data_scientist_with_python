{
 "cells": [
  {
   "cell_type": "markdown",
   "metadata": {},
   "source": [
    "---\n",
    "# Exercise\n",
    "---"
   ]
  },
  {
   "cell_type": "markdown",
   "metadata": {},
   "source": [
    "<h1 class=\"exercise--title\">Resetting the index of a DataFrame</h1>\n",
    "<p>After pivoting <code>airquality_melt</code> in the previous exercise, you didn't quite get back the original DataFrame.</p>\n",
    "<p>What you got back instead was a pandas DataFrame with a <a href=\"http://pandas.pydata.org/pandas-docs/stable/advanced.html\" target=\"_blank\" rel=\"noopener noreferrer\">hierarchical index (also known as a MultiIndex)</a>.</p>\n",
    "<p>Hierarchical indexes are covered in depth in <a href=\"https://www.datacamp.com/courses/manipulating-dataframes-with-pandas\" target=\"_blank\" rel=\"noopener noreferrer\">Manipulating DataFrames with pandas</a>.\n",
    "    In essence, they allow you to group columns or rows by another variable - in this case, by <code>'Month'</code> as well as <code>'Day'</code>. </p>\n",
    "<p>There's a very simple method you can use to get back the original DataFrame from the pivoted DataFrame: <code>.reset_index()</code>. Dan didn't show you how to use this method in the video, but you're now going to practice using it in this exercise to get back the original DataFrame from <code>airquality_pivot</code>, which has been pre-loaded.</p>"
   ]
  },
  {
   "cell_type": "markdown",
   "metadata": {},
   "source": [
    "---\n",
    "### Instructions `100xp`\n",
    "---"
   ]
  },
  {
   "cell_type": "markdown",
   "metadata": {},
   "source": [
    "<ul>\n",
    "    <li>Print the index of <code>airquality_pivot</code> by accessing its <code>.index</code> attribute. This has been done for you.</li>\n",
    "    <li>Reset the index of <code>airquality_pivot</code> using its <code>.reset_index()</code> method.</li>\n",
    "    <li>Print the new index of <code>airquality_pivot_reset</code>.</li>\n",
    "    <li>Print the head of <code>airquality_pivot_reset</code>.</li>\n",
    "</ul>"
   ]
  },
  {
   "cell_type": "markdown",
   "metadata": {},
   "source": [
    "---"
   ]
  },
  {
   "cell_type": "code",
   "execution_count": null,
   "metadata": {},
   "outputs": [],
   "source": [
    "# script.py\n",
    "\n",
    "# Print the index of airquality_pivot\n",
    "print(airquality_pivot.index)\n",
    "\n",
    "# Reset the index of airquality_pivot: airquality_pivot_reset\n",
    "airquality_pivot_reset = ____\n",
    "\n",
    "# Print the new index of airquality_pivot_reset\n",
    "print(____)\n",
    "\n",
    "# Print the head of airquality_pivot_reset\n",
    "print(____)\n"
   ]
  }
 ],
 "metadata": {
  "kernelspec": {
   "display_name": "Python 3",
   "language": "python",
   "name": "python3"
  },
  "language_info": {
   "codemirror_mode": {
    "name": "ipython",
    "version": 3
   },
   "file_extension": ".py",
   "mimetype": "text/x-python",
   "name": "python",
   "nbconvert_exporter": "python",
   "pygments_lexer": "ipython3",
   "version": "3.7.5"
  }
 },
 "nbformat": 4,
 "nbformat_minor": 4
}
