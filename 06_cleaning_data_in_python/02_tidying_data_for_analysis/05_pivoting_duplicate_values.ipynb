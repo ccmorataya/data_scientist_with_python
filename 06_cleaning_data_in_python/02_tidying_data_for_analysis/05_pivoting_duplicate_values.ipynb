{
 "cells": [
  {
   "cell_type": "markdown",
   "metadata": {},
   "source": [
    "---\n",
    "# Exercise\n",
    "---"
   ]
  },
  {
   "cell_type": "markdown",
   "metadata": {},
   "source": [
    "<h1 class=\"exercise--title\">Pivoting duplicate values</h1>\n",
    "<p>So far, you've used the <code>.pivot_table()</code> method when there are multiple <code>index</code> values you want to hold constant during a pivot. In the video, Dan showed you how you can also use pivot tables to deal with duplicate values by providing an aggregation function through the <code>aggfunc</code> parameter. Here, you're going to combine both these uses of pivot tables.</p>\n",
    "<p>Let's say your data collection method accidentally duplicated your dataset. Such a dataset, in which each row is duplicated, has been pre-loaded as <code>airquality_dup</code>. In addition, the <code>airquality_melt</code> DataFrame from the previous exercise has been pre-loaded. Explore their shapes in the IPython Shell by accessing their <code>.shape</code> attributes to confirm the duplicate rows present in <code>airquality_dup</code>.</p>\n",
    "<p>You'll see that by using <code>.pivot_table()</code> and the <code>aggfunc</code> parameter, you can not only reshape your data, but also remove duplicates. Finally, you can then flatten the columns of the pivoted DataFrame using <code>.reset_index()</code>.</p>\n",
    "<p>NumPy and pandas have been imported as <code>np</code> and <code>pd</code> respectively.</p>"
   ]
  },
  {
   "cell_type": "markdown",
   "metadata": {},
   "source": [
    "---\n",
    "### Instructions `100xp`\n",
    "---"
   ]
  },
  {
   "cell_type": "markdown",
   "metadata": {},
   "source": [
    "<ul>\n",
    "    <li>Pivot <code>airquality_dup</code> by using <code>.pivot_table()</code> with the rows indexed by <code>'Month'</code> and <code>'Day'</code>, the columns indexed by <code>'measurement'</code>, and the values populated with <code>'reading'</code>. Use <code>np.mean</code> for the aggregation function. </li>\n",
    "    <li>Print the head of <code>airquality_pivot</code>.</li>\n",
    "    <li>Flatten <code>airquality_pivot</code> by resetting its index.</li>\n",
    "    <li>Print the head of <code>airquality_pivot</code> and then the original <code>airquality</code> DataFrame to compare their structure.</li>\n",
    "</ul>"
   ]
  },
  {
   "cell_type": "markdown",
   "metadata": {},
   "source": [
    "---"
   ]
  },
  {
   "cell_type": "code",
   "execution_count": null,
   "metadata": {},
   "outputs": [],
   "source": [
    "# script.py\n",
    "\n",
    "# Pivot table the airquality_dup: airquality_pivot\n",
    "airquality_pivot = ____(index=[____, ____], columns=____, values=____, aggfunc=____)\n",
    "\n",
    "# Print the head of airquality_pivot before reset_index\n",
    "print(____)\n",
    "\n",
    "# Reset the index of airquality_pivot\n",
    "airquality_pivot = ____\n",
    "\n",
    "# Print the head of airquality_pivot\n",
    "print(____)\n",
    "\n",
    "# Print the head of airquality\n",
    "print(____)\n"
   ]
  }
 ],
 "metadata": {
  "kernelspec": {
   "display_name": "Python 3",
   "language": "python",
   "name": "python3"
  },
  "language_info": {
   "codemirror_mode": {
    "name": "ipython",
    "version": 3
   },
   "file_extension": ".py",
   "mimetype": "text/x-python",
   "name": "python",
   "nbconvert_exporter": "python",
   "pygments_lexer": "ipython3",
   "version": "3.7.5"
  }
 },
 "nbformat": 4,
 "nbformat_minor": 4
}
