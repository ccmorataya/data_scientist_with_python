{
 "cells": [
  {
   "cell_type": "markdown",
   "metadata": {},
   "source": [
    "---\n",
    "# Exercise\n",
    "---"
   ]
  },
  {
   "cell_type": "markdown",
   "metadata": {},
   "source": [
    "<h1 class=\"exercise--title\">Splitting a column with .split() and .get()</h1>\n",
    "<p>Another common way <strong>multiple variables are stored in columns</strong> is with a delimiter. You'll learn how to deal with such cases in this exercise,\n",
    "using a <a href=\"https://data.humdata.org/dataset/ebola-cases-2014\" target=\"_blank\" rel=\"noopener noreferrer\">dataset consisting of Ebola cases and death counts by state and country</a>. It has been pre-loaded into a DataFrame as <code>ebola</code>.</p>\n",
    "<p>Print the columns of <code>ebola</code> in the IPython Shell using <code>ebola.columns</code>. Notice that the data has column names such as <code>Cases_Guinea</code> and <code>Deaths_Guinea</code>. Here,\n",
    "the underscore <code>_</code> serves as a delimiter between the first part (cases or deaths), and the second part (country).</p>\n",
    "<p>This time, you cannot directly slice the variable by position as in the previous exercise. You now need to use Python's built-in string method called <code>.split()</code>. By default,\n",
    "this method will split a string into parts separated by a space. However, in this case you want it to split by an underscore. You can do this on <code>'Cases_Guinea'</code>, for example,\n",
    "using <code>'Cases_Guinea'.split('_')</code>, which returns the list <code>['Cases', 'Guinea']</code>.</p>\n",
    "<p>The next challenge is to extract the first element of this list and assign it to a <code>type</code> variable, and the second element of the list to a <code>country</code> variable. You can accomplish this by accessing the <code>str</code> attribute of the column and using the <code>.get()</code> method to retrieve the <code>0</code> or <code>1</code> index, depending on the part you want.</p>"
   ]
  },
  {
   "cell_type": "markdown",
   "metadata": {},
   "source": [
    "---\n",
    "### Instructions `100xp`\n",
    "---"
   ]
  },
  {
   "cell_type": "markdown",
   "metadata": {},
   "source": [
    "<ul>\n",
    "    <li>Melt <code>ebola</code> using <code>'Date'</code> and <code>'Day'</code> as the <code>id_vars</code>, <code>'type_country'</code> as the <code>var_name</code>, and <code>'counts'</code> as the <code>value_name</code>.</li>\n",
    "    <li>Create a column called <code>'str_split'</code> by splitting the <code>'type_country'</code> column of <code>ebola_melt</code> on <code>'_'</code>. Note that you will first have to access the <code>str</code> attribute of <code>type_country</code> before you can use <code>.split()</code>.</li>\n",
    "    <li>Create a column called <code>'type'</code> by using the <code>.get()</code> method to retrieve index <code>0</code> of the <code>'str_split'</code> column of <code>ebola_melt</code>.</li>\n",
    "    <li>Create a column called <code>'country'</code> by using the <code>.get()</code> method to retrieve index <code>1</code> of the <code>'str_split'</code> column of <code>ebola_melt</code>.</li>\n",
    "    <li>Print the head of <code>ebola_melt</code>. This has been done for you, so hit 'Submit Answer' to view the results!</li>\n",
    "</ul>"
   ]
  },
  {
   "cell_type": "markdown",
   "metadata": {},
   "source": [
    "---"
   ]
  },
  {
   "cell_type": "code",
   "execution_count": null,
   "metadata": {},
   "outputs": [],
   "source": [
    "# script.py\n",
    "\n",
    "# Melt ebola: ebola_melt\n",
    "ebola_melt = pd.melt(ebola, id_vars=[____, ____], var_name=____, value_name=____)\n",
    "\n",
    "# Create the 'str_split' column\n",
    "ebola_melt['str_split'] = ____\n",
    "\n",
    "# Create the 'type' column\n",
    "ebola_melt['type'] = ____\n",
    "\n",
    "# Create the 'country' column\n",
    "ebola_melt['country'] = ____\n",
    "\n",
    "# Print the head of ebola_melt\n",
    "print(ebola_melt.head())\n"
   ]
  }
 ],
 "metadata": {
  "kernelspec": {
   "display_name": "Python 3",
   "language": "python",
   "name": "python3"
  },
  "language_info": {
   "codemirror_mode": {
    "name": "ipython",
    "version": 3
   },
   "file_extension": ".py",
   "mimetype": "text/x-python",
   "name": "python",
   "nbconvert_exporter": "python",
   "pygments_lexer": "ipython3",
   "version": "3.7.5"
  }
 },
 "nbformat": 4,
 "nbformat_minor": 4
}
