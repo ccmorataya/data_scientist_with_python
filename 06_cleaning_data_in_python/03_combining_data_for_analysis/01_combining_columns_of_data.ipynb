{
 "cells": [
  {
   "cell_type": "markdown",
   "metadata": {},
   "source": [
    "---\n",
    "# Exercise\n",
    "---"
   ]
  },
  {
   "cell_type": "markdown",
   "metadata": {},
   "source": [
    "<h1 class=\"exercise--title\">Combining columns of data</h1>\n",
    "<p>Think of column-wise concatenation of data as stitching data together from the sides instead of the top and bottom.\n",
    "To perform this action, you use the same <code>pd.concat()</code> function, but this time with the keyword argument <code>axis=1</code>. The default, <code>axis=0</code>, is for a row-wise concatenation.</p>\n",
    "ou'll return to the <a href=\"https://data.humdata.org/dataset/ebola-cases-2014\" target=\"_blank\" rel=\"noopener noreferrer\">Ebola dataset</a> you worked with briefly in the last chapter. It has been pre-loaded into\n",
    "a DataFrame called <code>ebola_melt</code>. In this DataFrame, the status and country of a patient is contained in a single column.\n",
    "This column has been parsed into a new DataFrame, <code>status_country</code>, where there are separate columns for status and country. </p>\n",
    "<p>Explore the <code>ebola_melt</code> and <code>status_country</code> DataFrames in the IPython Shell. Your job is to concatenate them column-wise in order to obtain a final, clean DataFrame.</p>"
   ]
  },
  {
   "cell_type": "markdown",
   "metadata": {},
   "source": [
    "---\n",
    "### Instructions `100xp`\n",
    "---"
   ]
  },
  {
   "cell_type": "markdown",
   "metadata": {},
   "source": [
    "<ul>\n",
    "    <li>Concatenate <code>ebola_melt</code> and <code>status_country</code> column-wise into a single DataFrame called <code>ebola_tidy</code>. Be sure to specify <code>axis=1</code> and to pass the two DataFrames in as a list.</li>\n",
    "    <li>Print the shape and then the head of the concatenated DataFrame, <code>ebola_tidy</code>.</li>\n",
    "</ul>"
   ]
  },
  {
   "cell_type": "markdown",
   "metadata": {},
   "source": [
    "---"
   ]
  },
  {
   "cell_type": "code",
   "execution_count": null,
   "metadata": {},
   "outputs": [],
   "source": [
    "# script.py\n",
    "\n",
    "# Concatenate ebola_melt and status_country column-wise: ebola_tidy\n",
    "ebola_tidy = ____\n",
    "\n",
    "# Print the shape of ebola_tidy\n",
    "print(____)\n",
    "\n",
    "# Print the head of ebola_tidy\n",
    "print(____)\n"
   ]
  }
 ],
 "metadata": {
  "kernelspec": {
   "display_name": "Python 3",
   "language": "python",
   "name": "python3"
  },
  "language_info": {
   "codemirror_mode": {
    "name": "ipython",
    "version": 3
   },
   "file_extension": ".py",
   "mimetype": "text/x-python",
   "name": "python",
   "nbconvert_exporter": "python",
   "pygments_lexer": "ipython3",
   "version": "3.7.5"
  }
 },
 "nbformat": 4,
 "nbformat_minor": 4
}
