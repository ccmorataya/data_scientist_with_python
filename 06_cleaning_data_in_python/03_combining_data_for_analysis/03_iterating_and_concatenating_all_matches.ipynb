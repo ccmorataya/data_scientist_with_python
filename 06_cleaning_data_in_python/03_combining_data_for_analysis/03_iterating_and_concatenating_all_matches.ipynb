{
 "cells": [
  {
   "cell_type": "markdown",
   "metadata": {},
   "source": [
    "---\n",
    "# Exercise\n",
    "---"
   ]
  },
  {
   "cell_type": "markdown",
   "metadata": {},
   "source": [
    "<h1 class=\"exercise--title\">Iterating and concatenating all matches</h1>\n",
    "<p>Now that you have a list of filenames to load,\n",
    "you can load all the files into a list of DataFrames that can then be concatenated.</p>\n",
    "<p>You'll start with an empty list called <code>frames</code>. Your job is to use a <code>for</code> loop\n",
    "to:</p>\n",
    "<ol>\n",
    "    <li>iterate through each of the filenames</li>\n",
    "    <li>read each filename into a DataFrame, and then</li>\n",
    "    <li>append it to the <code>frames</code> list.</li>\n",
    "</ol>\n",
    "<p>You can then concatenate this list of DataFrames using <code>pd.concat()</code>. Go for it!</p>"
   ]
  },
  {
   "cell_type": "markdown",
   "metadata": {},
   "source": [
    "---\n",
    "### Instructions `100xp`\n",
    "---"
   ]
  },
  {
   "cell_type": "markdown",
   "metadata": {},
   "source": [
    "<ul>\n",
    "    <li>Write a <code>for</code> loop to iterate through <code>csv_files</code>:<ul>\n",
    "        <li>In each iteration of the loop, read <code>csv</code> into a DataFrame called <code>df</code>.</li>\n",
    "        <li>After creating <code>df</code>, append it to the list <code>frames</code> using the <code>.append()</code> method.</li></ul></li>\n",
    "    <li>Concatenate <code>frames</code> into a single DataFrame called <code>uber</code>.</li>\n",
    "    <li>Hit 'Submit Answer' to see the head and shape of the concatenated DataFrame!</li>\n",
    "</ul>"
   ]
  },
  {
   "cell_type": "markdown",
   "metadata": {},
   "source": [
    "---"
   ]
  },
  {
   "cell_type": "code",
   "execution_count": null,
   "metadata": {},
   "outputs": [],
   "source": [
    "# script.py\n",
    "\n",
    "# Create an empty list: frames\n",
    "frames = []\n",
    "\n",
    "#  Iterate over csv_files\n",
    "for csv in ____:\n",
    "\n",
    "    #  Read csv into a DataFrame: df\n",
    "    df = ____\n",
    "    \n",
    "    # Append df to frames\n",
    "    ____.____\n",
    "\n",
    "# Concatenate frames into a single DataFrame: uber\n",
    "uber = ____\n",
    "\n",
    "# Print the shape of uber\n",
    "print(uber.shape)\n",
    "\n",
    "# Print the head of uber\n",
    "print(uber.head())\n"
   ]
  }
 ],
 "metadata": {
  "kernelspec": {
   "display_name": "Python 3",
   "language": "python",
   "name": "python3"
  },
  "language_info": {
   "codemirror_mode": {
    "name": "ipython",
    "version": 3
   },
   "file_extension": ".py",
   "mimetype": "text/x-python",
   "name": "python",
   "nbconvert_exporter": "python",
   "pygments_lexer": "ipython3",
   "version": "3.7.5"
  }
 },
 "nbformat": 4,
 "nbformat_minor": 4
}
