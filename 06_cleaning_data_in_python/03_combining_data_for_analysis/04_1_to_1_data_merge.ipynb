{
 "cells": [
  {
   "cell_type": "markdown",
   "metadata": {},
   "source": [
    "---\n",
    "# Exercise\n",
    "---"
   ]
  },
  {
   "cell_type": "markdown",
   "metadata": {},
   "source": [
    "<h1 class=\"exercise--title\">1-to-1 data merge</h1>\n",
    "<p>Merging data allows you to combine disparate datasets into a single dataset to do more complex analysis.</p>\n",
    "<p>Here, you'll be using survey data that contains readings that William Dyer, Frank Pabodie, and Valentina Roerich took in the late 1920s and 1930s while they were on an expedition towards Antarctica.\n",
    "The dataset was taken from a sqlite database from the <a href=\"http://swcarpentry.github.io/sql-novice-survey/\" target=\"_blank\" rel=\"noopener noreferrer\">Software Carpentry SQL lesson</a>. </p>\n",
    "<p>Two DataFrames have been pre-loaded: <code>site</code> and <code>visited</code>. Explore them in the IPython Shell and take note of their structure and column names. Your task is to perform a 1-to-1 merge of these two DataFrames using\n",
    "the <code>'name'</code> column of <code>site</code> and the <code>'site'</code> column of <code>visited</code>.</p>"
   ]
  },
  {
   "cell_type": "markdown",
   "metadata": {},
   "source": [
    "---\n",
    "### Instructions `100xp`\n",
    "---"
   ]
  },
  {
   "cell_type": "markdown",
   "metadata": {},
   "source": [
    "<ul>\n",
    "    <li>Merge the <code>site</code> and <code>visited</code> DataFrames on the <code>'name'</code> column of <code>site</code> and <code>'site'</code> column of <code>visited</code>.</li>\n",
    "    <li>Print the merged DataFrame <code>o2o</code>.</li>\n",
    "</ul>"
   ]
  },
  {
   "cell_type": "markdown",
   "metadata": {},
   "source": [
    "---"
   ]
  },
  {
   "cell_type": "code",
   "execution_count": null,
   "metadata": {},
   "outputs": [],
   "source": [
    "# script.py\n",
    "\n",
    "# Merge the DataFrames: o2o\n",
    "o2o = ____(left=____, right=____, left_on=____, right_on=____)\n",
    "\n",
    "# Print o2o\n",
    "print(____)\n"
   ]
  }
 ],
 "metadata": {
  "kernelspec": {
   "display_name": "Python 3",
   "language": "python",
   "name": "python3"
  },
  "language_info": {
   "codemirror_mode": {
    "name": "ipython",
    "version": 3
   },
   "file_extension": ".py",
   "mimetype": "text/x-python",
   "name": "python",
   "nbconvert_exporter": "python",
   "pygments_lexer": "ipython3",
   "version": "3.7.5"
  }
 },
 "nbformat": 4,
 "nbformat_minor": 4
}
