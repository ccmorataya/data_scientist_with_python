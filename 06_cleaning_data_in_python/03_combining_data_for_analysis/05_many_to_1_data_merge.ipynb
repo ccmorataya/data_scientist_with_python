{
 "cells": [
  {
   "cell_type": "markdown",
   "metadata": {},
   "source": [
    "---\n",
    "# Exercise\n",
    "---"
   ]
  },
  {
   "cell_type": "markdown",
   "metadata": {},
   "source": [
    "<h1 class=\"exercise--title\">Many-to-1 data merge</h1>\n",
    "<p>In a many-to-one (or one-to-many) merge, one of the values will be duplicated and recycled in the output.\n",
    "That is, one of the keys in the merge is not unique. </p>\n",
    "<p>Here, the two DataFrames <code>site</code> and <code>visited</code> have been pre-loaded once again.\n",
    "Note that this time, <code>visited</code> has multiple entries for the <code>site</code> column. Confirm this by exploring it in the IPython Shell.</p>\n",
    "<p>The <code>.merge()</code> method call is the same as the 1-to-1 merge from the previous exercise, but the data and output will be different.</p>"
   ]
  },
  {
   "cell_type": "markdown",
   "metadata": {},
   "source": [
    "---\n",
    "### Instructions `100xp`\n",
    "---"
   ]
  },
  {
   "cell_type": "markdown",
   "metadata": {},
   "source": [
    "<ul>\n",
    "    <li>Merge the <code>site</code> and <code>visited</code> DataFrames on the <code>'name'</code> column of <code>site</code> and <code>'site'</code> column of <code>visited</code>, exactly as you did in the previous exercise.</li>\n",
    "    <li>Print the merged DataFrame and then hit 'Submit Answer' to see the different output produced by this merge!</li>\n",
    "</ul>"
   ]
  },
  {
   "cell_type": "markdown",
   "metadata": {},
   "source": [
    "---"
   ]
  },
  {
   "cell_type": "code",
   "execution_count": null,
   "metadata": {},
   "outputs": [],
   "source": [
    "# script.py\n",
    "\n",
    "# Merge the DataFrames: m2o\n",
    "m2o = ____\n",
    "\n",
    "# Print m2o\n",
    "print(____)\n"
   ]
  }
 ],
 "metadata": {
  "kernelspec": {
   "display_name": "Python 3",
   "language": "python",
   "name": "python3"
  },
  "language_info": {
   "codemirror_mode": {
    "name": "ipython",
    "version": 3
   },
   "file_extension": ".py",
   "mimetype": "text/x-python",
   "name": "python",
   "nbconvert_exporter": "python",
   "pygments_lexer": "ipython3",
   "version": "3.7.5"
  }
 },
 "nbformat": 4,
 "nbformat_minor": 4
}
