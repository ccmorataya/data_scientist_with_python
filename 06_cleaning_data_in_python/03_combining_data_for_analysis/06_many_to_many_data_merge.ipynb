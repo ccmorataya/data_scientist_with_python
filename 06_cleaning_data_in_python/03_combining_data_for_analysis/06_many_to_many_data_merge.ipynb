{
 "cells": [
  {
   "cell_type": "markdown",
   "metadata": {},
   "source": [
    "---\n",
    "# Exercise\n",
    "---"
   ]
  },
  {
   "cell_type": "markdown",
   "metadata": {},
   "source": [
    "<h1 class=\"exercise--title\">Many-to-many data merge</h1>\n",
    "<p>The final merging scenario occurs when both DataFrames do not have unique keys for a merge.\n",
    "What happens here is that for each duplicated key, every pairwise combination will be created.</p>\n",
    "<p>Two example DataFrames that share common key values have been pre-loaded: <code>df1</code> and <code>df2</code>. Another DataFrame <code>df3</code>,\n",
    "which is the result of <code>df1</code> merged with <code>df2</code>, has been pre-loaded. All three DataFrames have been\n",
    "printed - look at the output and notice how pairwise combinations have been created. This example is to help you\n",
    "develop your intuition for many-to-many merges.</p>\n",
    "<p>Here, you'll work with the <code>site</code> and <code>visited</code> DataFrames from before, and a new <code>survey</code> DataFrame. Your task\n",
    "is to merge <code>site</code> and <code>visited</code> as you did in the earlier exercises. You will then merge this merged DataFrame with <code>survey</code>.</p>\n",
    "<p>Begin by exploring the <code>site</code>, <code>visited</code>, and <code>survey</code> DataFrames in the IPython Shell.</p>"
   ]
  },
  {
   "cell_type": "markdown",
   "metadata": {},
   "source": [
    "---\n",
    "### Instructions `100xp`\n",
    "---"
   ]
  },
  {
   "cell_type": "markdown",
   "metadata": {},
   "source": [
    "<ul>\n",
    "    <li>Merge the <code>site</code> and <code>visited</code> DataFrames on the <code>'name'</code> column of <code>site</code> and <code>'site'</code> column of <code>visited</code>, exactly as you did in the previous two exercises. Save the result as <code>m2m</code>.</li>\n",
    "    <li>Merge the <code>m2m</code> and <code>survey</code> DataFrames on the <code>'ident'</code> column of <code>m2m</code> and <code>'taken'</code> column of <code>survey</code>.</li>\n",
    "    <li>Hit 'Submit Answer' to print the first 20 lines of the merged DataFrame!</li>\n",
    "</ul>"
   ]
  },
  {
   "cell_type": "markdown",
   "metadata": {},
   "source": [
    "---"
   ]
  },
  {
   "cell_type": "code",
   "execution_count": null,
   "metadata": {},
   "outputs": [],
   "source": [
    "# script.py\n",
    "\n",
    "# Merge site and visited: m2m\n",
    "m2m = ____(left=____, right=____, left_on=____, right_on=____)\n",
    "\n",
    "# Merge m2m and survey: m2m\n",
    "m2m = ____(left=____, right=____, left_on=____, right_on=____)\n",
    "\n",
    "# Print the first 20 lines of m2m\n",
    "print(m2m.head(20))\n"
   ]
  }
 ],
 "metadata": {
  "kernelspec": {
   "display_name": "Python 3",
   "language": "python",
   "name": "python3"
  },
  "language_info": {
   "codemirror_mode": {
    "name": "ipython",
    "version": 3
   },
   "file_extension": ".py",
   "mimetype": "text/x-python",
   "name": "python",
   "nbconvert_exporter": "python",
   "pygments_lexer": "ipython3",
   "version": "3.7.5"
  }
 },
 "nbformat": 4,
 "nbformat_minor": 4
}
