{
 "cells": [
  {
   "cell_type": "markdown",
   "metadata": {},
   "source": [
    "---\n",
    "# Exercise\n",
    "---"
   ]
  },
  {
   "cell_type": "markdown",
   "metadata": {},
   "source": [
    "<h1 class=\"exercise--title\">Converting data types</h1>\n",
    "<p>In this exercise, you'll see how ensuring all categorical variables in a DataFrame are of type <code>category</code> reduces memory usage.</p>\n",
    "<p>The <a href=\"https://github.com/mwaskom/seaborn-data/blob/master/tips.csv\" target=\"_blank\" rel=\"noopener noreferrer\">tips dataset</a> has been loaded into a DataFrame called <code>tips</code>. This data contains information about how much a customer tipped, whether the customer was male or female, a smoker or not, etc. </p>\n",
    "<p>Look at the output of <code>tips.info()</code> in the IPython Shell. You'll note that two columns that should be categorical - <code>sex</code> and <code>smoker</code> - are instead of type <code>object</code>, which is pandas' way of storing arbitrary strings. Your job is to convert these two columns to type <code>category</code> and note the reduced memory usage.</p>"
   ]
  },
  {
   "cell_type": "markdown",
   "metadata": {},
   "source": [
    "---\n",
    "### Instructions `100xp`\n",
    "---"
   ]
  },
  {
   "cell_type": "markdown",
   "metadata": {},
   "source": [
    "<ul>\n",
    "    <li>Convert the <code>sex</code> column of the <code>tips</code> DataFrame to type <code>'category'</code> using the <code>.astype()</code> method.</li>\n",
    "    <li>Convert the <code>smoker</code> column of the <code>tips</code> DataFrame.</li>\n",
    "    <li>Print the memory usage of <code>tips</code> after converting the data types of the columns. Use the <code>.info()</code> method to do this.</li>\n",
    "</ul>"
   ]
  },
  {
   "cell_type": "markdown",
   "metadata": {},
   "source": [
    "---"
   ]
  },
  {
   "cell_type": "code",
   "execution_count": null,
   "metadata": {},
   "outputs": [],
   "source": [
    "# script.py\n",
    "\n",
    "# Convert the sex column to type 'category'\n",
    "tips.sex = tips.sex.____(____)\n",
    "\n",
    "# Convert the smoker column to type 'category'\n",
    "tips.smoker = ____\n",
    "\n",
    "# Print the info of tips\n",
    "print(____)\n"
   ]
  }
 ],
 "metadata": {
  "kernelspec": {
   "display_name": "Python 3",
   "language": "python",
   "name": "python3"
  },
  "language_info": {
   "codemirror_mode": {
    "name": "ipython",
    "version": 3
   },
   "file_extension": ".py",
   "mimetype": "text/x-python",
   "name": "python",
   "nbconvert_exporter": "python",
   "pygments_lexer": "ipython3",
   "version": "3.7.5"
  }
 },
 "nbformat": 4,
 "nbformat_minor": 4
}
