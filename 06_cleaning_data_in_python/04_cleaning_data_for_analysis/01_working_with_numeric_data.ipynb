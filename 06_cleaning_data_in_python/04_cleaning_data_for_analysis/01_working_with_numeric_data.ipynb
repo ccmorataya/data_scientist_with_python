{
 "cells": [
  {
   "cell_type": "markdown",
   "metadata": {},
   "source": [
    "---\n",
    "# Exercise\n",
    "---"
   ]
  },
  {
   "cell_type": "markdown",
   "metadata": {},
   "source": [
    "<h1 class=\"exercise--title\">Working with numeric data</h1>\n",
    "<p>If you expect the data type of a column to be numeric (<code>int</code> or <code>float</code>), but instead it is of type <code>object</code>,\n",
    "this typically means that there is a non numeric value in the column, which also signifies bad data.</p>\n",
    "<p>You can use the <code>pd.to_numeric()</code> function to convert a column into a numeric data type. If the function\n",
    "raises an error, you can be sure that there is a bad value within the column. You can either use the techniques\n",
    "you learned in Chapter 1 to do some exploratory data analysis and find the bad value, or you can choose to ignore\n",
    "or <code>coerce</code> the value into a missing value, <code>NaN</code>.</p>\n",
    "<p>A modified version of the tips dataset has been pre-loaded into a DataFrame called <code>tips</code>. For instructional purposes, it has been pre-processed to introduce some 'bad' data for you to clean. Use the <code>.info()</code> method to explore this. You'll note that the <code>total_bill</code> and <code>tip</code> columns, which should be numeric, are instead of type <code>object</code>. Your job is to fix this.</p>"
   ]
  },
  {
   "cell_type": "markdown",
   "metadata": {},
   "source": [
    "---\n",
    "### Instructions `100xp`\n",
    "---"
   ]
  },
  {
   "cell_type": "markdown",
   "metadata": {},
   "source": [
    "<ul>\n",
    "    <li>Use <code>pd.to_numeric()</code> to convert the <code>'total_bill'</code> column of <code>tips</code> to a numeric data type. Coerce the errors to <code>NaN</code> by specifying the keyword argument <code>errors='coerce'</code>.</li>\n",
    "    <li>Convert the <code>'tip'</code> column of <code>'tips'</code> to a numeric data type exactly as you did for the <code>'total_bill'</code> column.</li>\n",
    "    <li>Print the <code>info</code> of <code>tips</code> to confirm that the data types of <code>'total_bill'</code> and <code>'tips'</code> are numeric.</li>\n",
    "</ul>"
   ]
  },
  {
   "cell_type": "markdown",
   "metadata": {},
   "source": [
    "---"
   ]
  },
  {
   "cell_type": "code",
   "execution_count": null,
   "metadata": {},
   "outputs": [],
   "source": [
    "# script.py\n",
    "\n",
    "# Convert 'total_bill' to a numeric dtype\n",
    "tips['total_bill'] = ____(tips[____], errors=____)\n",
    "\n",
    "# Convert 'tip' to a numeric dtype\n",
    "tips['tip'] = ____\n",
    "\n",
    "# Print the info of tips\n",
    "print(____)\n"
   ]
  }
 ],
 "metadata": {
  "kernelspec": {
   "display_name": "Python 3",
   "language": "python",
   "name": "python3"
  },
  "language_info": {
   "codemirror_mode": {
    "name": "ipython",
    "version": 3
   },
   "file_extension": ".py",
   "mimetype": "text/x-python",
   "name": "python",
   "nbconvert_exporter": "python",
   "pygments_lexer": "ipython3",
   "version": "3.7.5"
  }
 },
 "nbformat": 4,
 "nbformat_minor": 4
}
