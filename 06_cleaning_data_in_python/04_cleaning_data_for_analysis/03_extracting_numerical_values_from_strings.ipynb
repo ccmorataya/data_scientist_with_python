{
 "cells": [
  {
   "cell_type": "markdown",
   "metadata": {},
   "source": [
    "---\n",
    "# Exercise\n",
    "---"
   ]
  },
  {
   "cell_type": "markdown",
   "metadata": {},
   "source": [
    "<h1 class=\"exercise--title\">Extracting numerical values from strings</h1>\n",
    "<p>Extracting numbers from strings is a common task, particularly when working with unstructured data or log files.</p>\n",
    "<p>Say you have the following string: <code>'the recipe calls for 6 strawberries and 2 bananas'</code>.</p>\n",
    "<p>It would be useful to extract the <code>6</code> and the <code>2</code> from this string to be saved for later use when comparing strawberry to banana ratios.</p>\n",
    "<p>When using a regular expression to extract multiple numbers (or multiple pattern matches, to be exact), you can use the <code>re.findall()</code> function. Dan did not discuss this in the video, but it is straightforward to use: You pass in a pattern and a string to <code>re.findall()</code>, and it will return a list of the matches.</p>"
   ]
  },
  {
   "cell_type": "markdown",
   "metadata": {},
   "source": [
    "---\n",
    "### Instructions `100xp`\n",
    "---"
   ]
  },
  {
   "cell_type": "markdown",
   "metadata": {},
   "source": [
    "<ul>\n",
    "    <li>Import <code>re</code>.</li>\n",
    "    <li>Write a pattern that will find all the numbers in the following string: <code>'the recipe calls for 10 strawberries and 1 banana'</code>. To do this:<ul>\n",
    "        <li>Use the <code>re.findall()</code> function and pass it two arguments: the pattern, followed by the string.</li>\n",
    "        <li><code>\\d</code> is the pattern required to find digits. This should be followed with a <code>+</code> so that the previous element is matched one or more times. This ensures that <code>10</code> is viewed as one number and not as <code>1</code> and <code>0</code>.</li></ul></li>\n",
    "    <li>Print the matches to confirm that your regular expression found the values <code>10</code> and <code>1</code>.</li>\n",
    "</ul>"
   ]
  },
  {
   "cell_type": "markdown",
   "metadata": {},
   "source": [
    "---"
   ]
  },
  {
   "cell_type": "code",
   "execution_count": null,
   "metadata": {},
   "outputs": [],
   "source": [
    "# script.py\n",
    "\n",
    "# Import the regular expression module\n",
    "____\n",
    "\n",
    "# Find the numeric values: matches\n",
    "matches = re.findall('____', 'the recipe calls for 10 strawberries and 1 banana')\n",
    "\n",
    "# Print the matches\n",
    "print(____)\n"
   ]
  }
 ],
 "metadata": {
  "kernelspec": {
   "display_name": "Python 3",
   "language": "python",
   "name": "python3"
  },
  "language_info": {
   "codemirror_mode": {
    "name": "ipython",
    "version": 3
   },
   "file_extension": ".py",
   "mimetype": "text/x-python",
   "name": "python",
   "nbconvert_exporter": "python",
   "pygments_lexer": "ipython3",
   "version": "3.7.5"
  }
 },
 "nbformat": 4,
 "nbformat_minor": 4
}
