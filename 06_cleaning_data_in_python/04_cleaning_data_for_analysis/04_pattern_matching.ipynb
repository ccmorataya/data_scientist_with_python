{
 "cells": [
  {
   "cell_type": "markdown",
   "metadata": {},
   "source": [
    "---\n",
    "# Exercise\n",
    "---"
   ]
  },
  {
   "cell_type": "markdown",
   "metadata": {},
   "source": [
    "<h1 class=\"exercise--title\">Pattern matching</h1>\n",
    "<p>In this exercise, you'll continue practicing your regular expression skills. For each provided string, your job is\n",
    "to write the appropriate pattern to match it.</p>"
   ]
  },
  {
   "cell_type": "markdown",
   "metadata": {},
   "source": [
    "---\n",
    "### Instructions `100xp`\n",
    "---"
   ]
  },
  {
   "cell_type": "markdown",
   "metadata": {},
   "source": [
    "<ul>\n",
    "    <li>Write patterns to match:<ul>\n",
    "        <li>A telephone number of the format <code>xxx-xxx-xxxx</code>. You already did this in a previous exercise.</li>\n",
    "        <li>A string of the format: A dollar sign, an arbitrary number of digits, a decimal point, 2 digits.<ul>\n",
    "            <li>Use <code>\\$</code> to match the dollar sign, <code>\\d*</code> to match an arbitrary number of digits, <code>\\.</code> to match the decimal point, and <code>\\d{x}</code> to match <code>x</code> number of digits.</li></ul></li>\n",
    "        <li>A capital letter, followed by an arbitrary number of alphanumeric characters.<ul>\n",
    "            <li>Use <code>[A-Z]</code> to match any capital letter followed by <code>\\w*</code> to match an arbitrary number of alphanumeric characters.</li></ul></li></ul></li>\n",
    "</ul>"
   ]
  },
  {
   "cell_type": "markdown",
   "metadata": {},
   "source": [
    "---"
   ]
  },
  {
   "cell_type": "code",
   "execution_count": null,
   "metadata": {},
   "outputs": [],
   "source": [
    "# script.py\n",
    "\n",
    "# Write the first pattern\n",
    "pattern1 = bool(re.match(pattern='____', string='123-456-7890'))\n",
    "print(pattern1)\n",
    "\n",
    "# Write the second pattern\n",
    "pattern2 = bool(re.match(pattern='____', string='$123.45'))\n",
    "print(pattern2)\n",
    "\n",
    "# Write the third pattern\n",
    "pattern3 = bool(re.match(pattern='____', string='Australia'))\n",
    "print(pattern3)\n"
   ]
  }
 ],
 "metadata": {
  "kernelspec": {
   "display_name": "Python 3",
   "language": "python",
   "name": "python3"
  },
  "language_info": {
   "codemirror_mode": {
    "name": "ipython",
    "version": 3
   },
   "file_extension": ".py",
   "mimetype": "text/x-python",
   "name": "python",
   "nbconvert_exporter": "python",
   "pygments_lexer": "ipython3",
   "version": "3.7.5"
  }
 },
 "nbformat": 4,
 "nbformat_minor": 4
}
