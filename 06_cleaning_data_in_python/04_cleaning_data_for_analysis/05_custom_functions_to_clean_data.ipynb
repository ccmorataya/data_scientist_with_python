{
 "cells": [
  {
   "cell_type": "markdown",
   "metadata": {},
   "source": [
    "---\n",
    "# Exercise\n",
    "---"
   ]
  },
  {
   "cell_type": "markdown",
   "metadata": {},
   "source": [
    "<h1 class=\"exercise--title\">Custom functions to clean data</h1>\n",
    "<p>You'll now practice writing functions to clean data. </p>\n",
    "<p>The tips dataset has been pre-loaded into a DataFrame called <code>tips</code>. It has a <code>'sex'</code> column that contains the values <code>'Male'</code> or <code>'Female'</code>. Your job is to write a function that will recode <code>'Female'</code> to <code>0</code>, <code>'Male'</code> to <code>1</code>, and return <code>np.nan</code> for all entries of <code>'sex'</code> that are neither <code>'Female'</code> nor <code>'Male'</code>. </p>\n",
    "<p>Recoding variables like this is a common data cleaning task. Functions provide a mechanism for you to abstract away complex bits of code as well as reuse code. This makes your code more readable and less error prone.</p>\n",
    "<p>As Dan showed you in the videos, you can use the <code>.apply()</code> method to <em>apply</em> a function across entire rows or columns of DataFrames. However, note that each column of a DataFrame is a pandas Series. Functions can also be applied across Series. Here, you will apply your function over the <code>'sex'</code> column.</p>"
   ]
  },
  {
   "cell_type": "markdown",
   "metadata": {},
   "source": [
    "---\n",
    "### Instructions `100xp`\n",
    "---"
   ]
  },
  {
   "cell_type": "markdown",
   "metadata": {},
   "source": [
    "<ul>\n",
    "    <li>Define a function named <code>recode_gender()</code> that has one parameter: <code>gender</code>.<ul>\n",
    "        <li>If <code>gender</code> equals <code>'Female'</code>, return <code>0</code>.</li>\n",
    "        <li>Else, if <code>gender</code> equals <code>'Male'</code>, return <code>1</code>.</li>\n",
    "        <li>If <code>gender</code> does not equal <code>'Male'</code> or <code>'Female'</code>, return <code>np.nan</code>. NumPy has been pre-imported for you.</li></ul></li>\n",
    "    <li>Apply your <code>recode_gender()</code> function over <code>tips.sex</code> using the <code>.apply()</code> method to create a new column: <code>'recode'</code>. Note that when passing in a function inside the <code>.apply()</code> method, you don't need to specify the parentheses after the function name.</li>\n",
    "    <li>Hit 'Submit Answer' and take note of the new <code>'recode'</code> column in the <code>tips</code> DataFrame!</li>\n",
    "</ul>"
   ]
  },
  {
   "cell_type": "markdown",
   "metadata": {},
   "source": [
    "---"
   ]
  },
  {
   "cell_type": "code",
   "execution_count": null,
   "metadata": {},
   "outputs": [],
   "source": [
    "# script.py\n",
    "\n",
    "# Define recode_gender()\n",
    "def ____:\n",
    "\n",
    "    # Return 0 if gender is 'Female'\n",
    "    if ____ == ____:\n",
    "        return ____\n",
    "    \n",
    "    # Return 1 if gender is 'Male'    \n",
    "    elif ____ == ____:\n",
    "        return ____\n",
    "    \n",
    "    # Return np.nan    \n",
    "    else:\n",
    "        return ____\n",
    "\n",
    "# Apply the function to the sex column\n",
    "tips['recode'] = ____\n",
    "\n",
    "# Print the first five rows of tips\n",
    "print(tips.head())\n"
   ]
  }
 ],
 "metadata": {
  "kernelspec": {
   "display_name": "Python 3",
   "language": "python",
   "name": "python3"
  },
  "language_info": {
   "codemirror_mode": {
    "name": "ipython",
    "version": 3
   },
   "file_extension": ".py",
   "mimetype": "text/x-python",
   "name": "python",
   "nbconvert_exporter": "python",
   "pygments_lexer": "ipython3",
   "version": "3.7.5"
  }
 },
 "nbformat": 4,
 "nbformat_minor": 4
}
