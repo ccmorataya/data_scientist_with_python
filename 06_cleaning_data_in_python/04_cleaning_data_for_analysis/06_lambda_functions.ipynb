{
 "cells": [
  {
   "cell_type": "markdown",
   "metadata": {},
   "source": [
    "---\n",
    "# Exercise\n",
    "---"
   ]
  },
  {
   "cell_type": "markdown",
   "metadata": {},
   "source": [
    "<h1 class=\"exercise--title\">Lambda functions</h1>\n",
    "<p>You'll now be introduced to a powerful Python feature that will help you clean your data more effectively: lambda functions. Instead of using the <code>def</code> syntax that you used in the previous exercise, lambda functions let you make simple, one-line functions. </p>\n",
    "<p>For example, here's a function that squares a variable used in an <code>.apply()</code> method:</p>\n",
    "\n",
    "``` python\n",
    "def my_square(x):\n",
    "return x ** 2\n",
    "\n",
    "df.apply(my_square)\n",
    "```\n",
    "\n",
    "<p>The equivalent code using a lambda function is:</p>\n",
    "\n",
    "``` python\n",
    "df.apply(lambda x: x ** 2)\n",
    "```\n",
    "\n",
    "<p>The lambda function takes one parameter - the variable <code>x</code>. The function itself just squares <code>x</code> and returns the result, which is whatever the one line of code evaluates to. In this way, lambda functions can make your code concise and Pythonic.</p>\n",
    "<p>The tips dataset has been pre-loaded into a DataFrame called <code>tips</code>. Your job is to clean its <code>'total_dollar'</code> column by removing the dollar sign. You'll do this using two different methods: With the <code>.replace()</code> method, and with regular expressions. The regular expression module <code>re</code> has been pre-imported.</p>"
   ]
  },
  {
   "cell_type": "markdown",
   "metadata": {},
   "source": [
    "---\n",
    "### Instructions `100xp`\n",
    "---"
   ]
  },
  {
   "cell_type": "markdown",
   "metadata": {},
   "source": [
    "<ul>\n",
    "    <li>Use the <code>.replace()</code> method inside a lambda function to remove the dollar sign from the <code>'total_dollar'</code> column of <code>tips</code>.<ul>\n",
    "            <li>You need to specify two arguments to the <code>.replace()</code> method: The string to be replaced (<code>'$'</code>), and the string to replace it by (<code>''</code>).</li>\n",
    "            <li>Apply the lambda function over the <code>'total_dollar'</code> column of <code>tips</code>.</li>\n",
    "        </ul>\n",
    "    </li>\n",
    "    <li>Use a regular expression to remove the dollar sign from the <code>'total_dollar'</code> column of <code>tips</code>.<ul>\n",
    "            <li>The pattern has been provided for you: It is the first argument of the <code>re.findall()</code> function.</li>\n",
    "            <li>Complete the rest of the lambda function and apply it over the <code>'total_dollar'</code> column of <code>tips</code>. Notice that because <code>re.findall()</code> returns a list, you have to slice it (e.g. using <code>[0]</code>) in order to access the actual value.</li>\n",
    "        </ul>\n",
    "    </li>\n",
    "    <li>Hit 'Submit Answer' to verify that you have removed the dollar sign from the column.</li>\n",
    "</ul>"
   ]
  },
  {
   "cell_type": "markdown",
   "metadata": {},
   "source": [
    "---"
   ]
  },
  {
   "cell_type": "code",
   "execution_count": null,
   "metadata": {},
   "outputs": [],
   "source": [
    "# script.py\n",
    "\n",
    "# Write the lambda function using replace\n",
    "tips['total_dollar_replace'] = tips.total_dollar.apply(____ x: x.____('$', ''))\n",
    "\n",
    "# Write the lambda function using regular expressions\n",
    "tips['total_dollar_re'] = tips.total_dollar.apply(____ ____: ____('\\d+\\.\\d+', x)[0])\n",
    "\n",
    "# Print the head of tips\n",
    "print(tips.head())\n"
   ]
  }
 ],
 "metadata": {
  "kernelspec": {
   "display_name": "Python 3",
   "language": "python",
   "name": "python3"
  },
  "language_info": {
   "codemirror_mode": {
    "name": "ipython",
    "version": 3
   },
   "file_extension": ".py",
   "mimetype": "text/x-python",
   "name": "python",
   "nbconvert_exporter": "python",
   "pygments_lexer": "ipython3",
   "version": "3.7.5"
  }
 },
 "nbformat": 4,
 "nbformat_minor": 4
}
