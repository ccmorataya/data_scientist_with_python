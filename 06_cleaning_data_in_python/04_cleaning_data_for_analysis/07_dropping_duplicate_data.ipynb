{
 "cells": [
  {
   "cell_type": "markdown",
   "metadata": {},
   "source": [
    "---\n",
    "# Exercise\n",
    "---"
   ]
  },
  {
   "cell_type": "markdown",
   "metadata": {},
   "source": [
    "<h1 class=\"exercise--title\">Dropping duplicate data</h1>\n",
    "<p>Duplicate data causes a variety of problems. From the point of view of performance,\n",
    "they use up unnecessary amounts of memory and cause unneeded calculations to be performed when processing data.\n",
    "In addition, they can also bias any analysis results.</p>\n",
    "<p>A dataset consisting of the performance of songs on the Billboard charts has been pre-loaded into a DataFrame called <code>billboard</code>. Check out its columns in the IPython Shell. Your job in this exercise is to subset this DataFrame and then drop all duplicate rows.</p>"
   ]
  },
  {
   "cell_type": "markdown",
   "metadata": {},
   "source": [
    "---\n",
    "### Instructions `100xp`\n",
    "---"
   ]
  },
  {
   "cell_type": "markdown",
   "metadata": {},
   "source": [
    "<ul>\n",
    "    <li>Create a new DataFrame called <code>tracks</code> that contains the following columns from <code>billboard</code>: <code>'year'</code>, <code>'artist'</code>, <code>'track'</code>, and <code>'time'</code>.</li>\n",
    "    <li>Print the <code>info</code> of <code>tracks</code>. This has been done for you.</li>\n",
    "    <li>Drop duplicate rows from <code>tracks</code> using the <code>.drop_duplicates()</code> method. Save the result to <code>tracks_no_duplicates</code>.</li>\n",
    "    <li>Print the <code>info</code> of <code>tracks_no_duplicates</code>. This has been done for you, so hit 'Submit Answer' to see the results!</li>\n",
    "</ul>"
   ]
  },
  {
   "cell_type": "markdown",
   "metadata": {},
   "source": [
    "---"
   ]
  },
  {
   "cell_type": "code",
   "execution_count": null,
   "metadata": {},
   "outputs": [],
   "source": [
    "# script.py\n",
    "\n",
    "# Create the new DataFrame: tracks\n",
    "tracks = billboard[[____]]\n",
    "\n",
    "# Print info of tracks\n",
    "print(tracks.info())\n",
    "\n",
    "# Drop the duplicates: tracks_no_duplicates\n",
    "tracks_no_duplicates = ____\n",
    "\n",
    "# Print info of tracks\n",
    "print(tracks_no_duplicates.info())\n"
   ]
  }
 ],
 "metadata": {
  "kernelspec": {
   "display_name": "Python 3",
   "language": "python",
   "name": "python3"
  },
  "language_info": {
   "codemirror_mode": {
    "name": "ipython",
    "version": 3
   },
   "file_extension": ".py",
   "mimetype": "text/x-python",
   "name": "python",
   "nbconvert_exporter": "python",
   "pygments_lexer": "ipython3",
   "version": "3.7.5"
  }
 },
 "nbformat": 4,
 "nbformat_minor": 4
}
