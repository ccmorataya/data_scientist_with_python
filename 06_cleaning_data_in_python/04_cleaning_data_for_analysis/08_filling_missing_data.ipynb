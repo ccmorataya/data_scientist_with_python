{
 "cells": [
  {
   "cell_type": "markdown",
   "metadata": {},
   "source": [
    "---\n",
    "# Exercise\n",
    "---"
   ]
  },
  {
   "cell_type": "markdown",
   "metadata": {},
   "source": [
    "<h1 class=\"exercise--title\">Filling missing data</h1>\n",
    "<p>Here, you'll return to the <code>airquality</code> dataset from Chapter 2. It has been pre-loaded into the DataFrame <code>airquality</code>, and it has\n",
    "missing values for you to practice filling in. Explore <code>airquality</code> in the IPython Shell to checkout which columns have missing values.</p>\n",
    "<p>It's rare to have a (real-world) dataset without any missing values, and it's\n",
    "important to deal with them because certain calculations cannot handle missing values while some calculations will, by default, skip over any missing values.</p>\n",
    "<p>Also, understanding how much missing data you have, and thinking about where it comes from is crucial\n",
    "to making unbiased interpretations of data.</p>"
   ]
  },
  {
   "cell_type": "markdown",
   "metadata": {},
   "source": [
    "---\n",
    "### Instructions `100xp`\n",
    "---"
   ]
  },
  {
   "cell_type": "markdown",
   "metadata": {},
   "source": [
    "<ul>\n",
    "    <li>Calculate the mean of the <code>Ozone</code> column of <code>airquality</code> using the <code>.mean()</code> method on <code>airquality.Ozone</code>.</li>\n",
    "    <li>Use the <code>.fillna()</code> method to replace all the missing values in the <code>Ozone</code> column of <code>airquality</code> with the mean, <code>oz_mean</code>.</li>\n",
    "    <li>Hit 'Submit Answer' to see the result of filling in the missing values!</li>\n",
    "</ul>"
   ]
  },
  {
   "cell_type": "markdown",
   "metadata": {},
   "source": [
    "---"
   ]
  },
  {
   "cell_type": "code",
   "execution_count": null,
   "metadata": {},
   "outputs": [],
   "source": [
    "# script.py\n",
    "\n",
    "# Calculate the mean of the Ozone column: oz_mean\n",
    "oz_mean = ____\n",
    "\n",
    "# Replace all the missing values in the Ozone column with the mean\n",
    "airquality['Ozone'] = ____\n",
    "\n",
    "# Print the info of airquality\n",
    "print(airquality.info())\n"
   ]
  }
 ],
 "metadata": {
  "kernelspec": {
   "display_name": "Python 3",
   "language": "python",
   "name": "python3"
  },
  "language_info": {
   "codemirror_mode": {
    "name": "ipython",
    "version": 3
   },
   "file_extension": ".py",
   "mimetype": "text/x-python",
   "name": "python",
   "nbconvert_exporter": "python",
   "pygments_lexer": "ipython3",
   "version": "3.7.5"
  }
 },
 "nbformat": 4,
 "nbformat_minor": 4
}
