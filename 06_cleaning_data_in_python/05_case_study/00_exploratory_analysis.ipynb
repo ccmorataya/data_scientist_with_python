{
 "cells": [
  {
   "cell_type": "markdown",
   "metadata": {},
   "source": [
    "---\n",
    "# Exercise\n",
    "---"
   ]
  },
  {
   "cell_type": "markdown",
   "metadata": {},
   "source": [
    "<h1 class=\"exercise--title\">Exploratory analysis</h1>\n",
    "<p>Whenever you obtain a new dataset, your first task should always be to do some exploratory analysis\n",
    "to get a better understanding of the data and diagnose it for any potential issues.</p>\n",
    "<p>The Gapminder data for the 19th century has been loaded into a DataFrame called <code>g1800s</code>. In the IPython Shell, use pandas methods such as <code>.head()</code>, <code>.info()</code>, and <code>.describe()</code>, and DataFrame attributes like <code>.columns</code> and <code>.shape</code> to explore it.</p>\n",
    "<p>Use the information that you acquire from your exploratory analysis to choose the <strong>true</strong> statement from the options provided below.</p>"
   ]
  },
  {
   "cell_type": "markdown",
   "metadata": {},
   "source": [
    "---\n",
    "### Instructions `50xp`\n",
    "---"
   ]
  },
  {
   "cell_type": "markdown",
   "metadata": {},
   "source": [
    "**<h5>Possible Answers</h5>**\n",
    "<input type=\"radio\"> The DataFrame has <code>259</code> rows and <code>100</code> columns.\\\n",
    "<input type=\"radio\"> The DataFrame has no missing values encoded as <code>NaN</code>.\\\n",
    "<input type=\"radio\"> 100 of the columns are of type <code>float64</code> and 1 column is of type <code>object</code>.\\\n",
    "<input type=\"radio\"> The DataFrame takes up <code>203.2+ KB</code> of memory."
   ]
  },
  {
   "cell_type": "markdown",
   "metadata": {},
   "source": [
    "---"
   ]
  },
  {
   "cell_type": "code",
   "execution_count": null,
   "metadata": {},
   "outputs": [],
   "source": [
    "# IPython Shell\n",
    "\n"
   ]
  }
 ],
 "metadata": {
  "kernelspec": {
   "display_name": "Python 3",
   "language": "python",
   "name": "python3"
  },
  "language_info": {
   "codemirror_mode": {
    "name": "ipython",
    "version": 3
   },
   "file_extension": ".py",
   "mimetype": "text/x-python",
   "name": "python",
   "nbconvert_exporter": "python",
   "pygments_lexer": "ipython3",
   "version": "3.7.5"
  }
 },
 "nbformat": 4,
 "nbformat_minor": 4
}
