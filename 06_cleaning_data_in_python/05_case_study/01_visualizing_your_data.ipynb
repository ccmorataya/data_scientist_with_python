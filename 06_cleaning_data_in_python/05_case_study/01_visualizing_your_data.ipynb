{
 "cells": [
  {
   "cell_type": "markdown",
   "metadata": {},
   "source": [
    "---\n",
    "# Exercise\n",
    "---"
   ]
  },
  {
   "cell_type": "markdown",
   "metadata": {},
   "source": [
    "<h1 class=\"exercise--title\">Visualizing your data</h1>\n",
    "<p>Since 1800, life expectancy around the globe has been steadily going up. You would expect the Gapminder data to confirm this. </p>\n",
    "<p>The DataFrame <code>g1800s</code> has been pre-loaded. Your job in this exercise is to create a scatter plot with life expectancy in <code>'1800'</code> on the x-axis and life expectancy in <code>'1899'</code> on the y-axis.</p>\n",
    "<p>Here, the goal is to visually check the data for insights as well as errors. When looking at the plot, pay attention to whether the scatter plot takes the form of a diagonal line, and which points fall below or above the diagonal line. This will inform how life expectancy in 1899 changed (or did not change) compared to 1800 for different countries. If points fall on a diagonal line, it means that life expectancy remained the same!</p>"
   ]
  },
  {
   "cell_type": "markdown",
   "metadata": {},
   "source": [
    "---\n",
    "### Instructions `100xp`\n",
    "---"
   ]
  },
  {
   "cell_type": "markdown",
   "metadata": {},
   "source": [
    "<ul>\n",
    "    <li>Import <code>matplotlib.pyplot</code> as <code>plt</code>.</li>\n",
    "    <li>Use the <code>.plot()</code> method on <code>g1800s</code> with <code>kind='scatter'</code> to create a scatter plot with <code>'1800'</code> on the x-axis and <code>'1899'</code> on the y-axis.</li>\n",
    "    <li>Display the plot.</li>\n",
    "</ul>"
   ]
  },
  {
   "cell_type": "markdown",
   "metadata": {},
   "source": [
    "---"
   ]
  },
  {
   "cell_type": "code",
   "execution_count": null,
   "metadata": {},
   "outputs": [],
   "source": [
    "# script.py\n",
    "\n",
    "# Import matplotlib.pyplot\n",
    "____\n",
    "\n",
    "# Create the scatter plot\n",
    "____(kind=____, x=____, y=____)\n",
    "\n",
    "# Specify axis labels\n",
    "plt.xlabel('Life Expectancy by Country in 1800')\n",
    "plt.ylabel('Life Expectancy by Country in 1899')\n",
    "\n",
    "# Specify axis limits\n",
    "plt.xlim(20, 55)\n",
    "plt.ylim(20, 55)\n",
    "\n",
    "# Display the plot\n",
    "____\n"
   ]
  }
 ],
 "metadata": {
  "kernelspec": {
   "display_name": "Python 3",
   "language": "python",
   "name": "python3"
  },
  "language_info": {
   "codemirror_mode": {
    "name": "ipython",
    "version": 3
   },
   "file_extension": ".py",
   "mimetype": "text/x-python",
   "name": "python",
   "nbconvert_exporter": "python",
   "pygments_lexer": "ipython3",
   "version": "3.7.5"
  }
 },
 "nbformat": 4,
 "nbformat_minor": 4
}
