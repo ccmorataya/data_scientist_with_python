{
 "cells": [
  {
   "cell_type": "markdown",
   "metadata": {},
   "source": [
    "---\n",
    "# Exercise\n",
    "---"
   ]
  },
  {
   "cell_type": "markdown",
   "metadata": {},
   "source": [
    "<h1 class=\"exercise--title\">Thinking about the question at hand</h1>\n",
    "<p>Since you are given life expectancy level data by country and year, you could ask questions about how much the average life expectancy changes over each year.</p>\n",
    "<p>Before continuing, however, it's important to make sure that the following assumptions about the data are true:</p>\n",
    "<ul>\n",
    "    <li><code>'Life expectancy'</code> is the first column (index <code>0</code>) of the DataFrame.</li>\n",
    "    <li>The other columns contain either null or numeric values.</li>\n",
    "    <li>The numeric values are all greater than or equal to 0.</li>\n",
    "    <li>There is only one instance of each country.</li>\n",
    "</ul>\n",
    "<p>You can write a function that you can apply over the entire DataFrame to verify some of these assumptions. Note that spending the time to write such a script will help you when working with other datasets as well.</p>"
   ]
  },
  {
   "cell_type": "markdown",
   "metadata": {},
   "source": [
    "---\n",
    "### Instructions `100xp`\n",
    "---"
   ]
  },
  {
   "cell_type": "markdown",
   "metadata": {},
   "source": [
    "<ul>\n",
    "    <li>Define a function called <code>check_null_or_valid()</code> that takes in one argument: <code>row_data</code>.</li>\n",
    "    <li>Inside the function, convert <code>no_na</code> to a numeric data type using <code>pd.to_numeric()</code>.</li>\n",
    "    <li>Write an <code>assert</code> statement to make sure the first column (index <code>0</code>) of the <code>g1800s</code> DataFrame is <code>'Life expectancy'</code>.</li>\n",
    "    <li>Write an <code>assert</code> statement to test that all the values are valid for the <code>g1800s</code> DataFrame. Use the <code>check_null_or_valid()</code> function placed inside the <code>.apply()</code> method for this. <ul>\n",
    "            <li>Note that because you're applying it over the entire DataFrame, and not just one column, you'll have to chain the <code>.all()</code> method twice.</li>\n",
    "            <li>Remember that you <strong>don't</strong> have to use <code>()</code> for functions placed inside <code>.apply()</code>.</li>\n",
    "        </ul>\n",
    "    </li>\n",
    "    <li>Write an <code>assert</code> statement to make sure that each country occurs only once in the data. Use the <code>.value_counts()</code> method on the <code>'Life expectancy'</code> column for this. Specifically, index <code>0</code> of <code>.value_counts()</code> will contain the most frequently occurring value. If this is equal to <code>1</code> for the <code>'Life expectancy'</code> column, then you can be certain that no country appears more than once in the data.</li>\n",
    "</ul>"
   ]
  },
  {
   "cell_type": "markdown",
   "metadata": {},
   "source": [
    "---"
   ]
  },
  {
   "cell_type": "code",
   "execution_count": null,
   "metadata": {},
   "outputs": [],
   "source": [
    "# script.py\n",
    "\n",
    "def check_null_or_valid(row_data):\n",
    "    \"\"\"Function that takes a row of data,\n",
    "    drops all missing values,\n",
    "    and checks if all remaining values are greater than or equal to 0\n",
    "    \"\"\"\n",
    "    no_na = row_data.dropna()\n",
    "    numeric = ____\n",
    "    ge0 = numeric >= 0\n",
    "    return ge0\n",
    "\n",
    "# Check whether the first column is 'Life expectancy'\n",
    "____ g1800s.columns[____] == ____\n",
    "\n",
    "# Check whether the values in the row are valid\n",
    "____ g1800s.iloc[:, 1:].apply(____, axis=1).all().all()\n",
    "\n",
    "# Check that there is only one instance of each country\n",
    "____ g1800s['____'].value_counts()[0] == ____\n"
   ]
  }
 ],
 "metadata": {
  "kernelspec": {
   "display_name": "Python 3",
   "language": "python",
   "name": "python3"
  },
  "language_info": {
   "codemirror_mode": {
    "name": "ipython",
    "version": 3
   },
   "file_extension": ".py",
   "mimetype": "text/x-python",
   "name": "python",
   "nbconvert_exporter": "python",
   "pygments_lexer": "ipython3",
   "version": "3.7.5"
  }
 },
 "nbformat": 4,
 "nbformat_minor": 4
}
