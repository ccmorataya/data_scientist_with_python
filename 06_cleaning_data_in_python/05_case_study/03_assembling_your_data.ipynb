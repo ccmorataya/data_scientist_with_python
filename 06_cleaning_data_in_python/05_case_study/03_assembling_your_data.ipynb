{
 "cells": [
  {
   "cell_type": "markdown",
   "metadata": {},
   "source": [
    "---\n",
    "# Exercise\n",
    "---"
   ]
  },
  {
   "cell_type": "markdown",
   "metadata": {},
   "source": [
    "<h1 class=\"exercise--title\">Assembling your data</h1>\n",
    "<p>Here, three DataFrames have been pre-loaded: <code>g1800s</code>, <code>g1900s</code>, and <code>g2000s</code>. These contain the Gapminder life expectancy data for, respectively, the 19th century, the 20th century, and the 21st century.</p>\n",
    "<p>Your task in this exercise is to concatenate them into a single DataFrame called <code>gapminder</code>. This is a column-wise concatenation, similar to how you concatenated the Ebola dataset with information about patients in Chapter 3.</p>"
   ]
  },
  {
   "cell_type": "markdown",
   "metadata": {},
   "source": [
    "---\n",
    "### Instructions `100xp`\n",
    "---"
   ]
  },
  {
   "cell_type": "markdown",
   "metadata": {},
   "source": [
    "<ul>\n",
    "    <li>Use <code>pd.concat()</code> to concatenate <code>g1800s</code>, <code>g1900s</code>, and <code>g2000s</code> along the column axis into one DataFrame called <code>gapminder</code>. Make sure you pass DataFrames to <code>pd.concat()</code> in the form of a list.</li>\n",
    "    <li>Print the shape and the head of the concatenated DataFrame.</li>\n",
    "</ul>"
   ]
  },
  {
   "cell_type": "markdown",
   "metadata": {},
   "source": [
    "---"
   ]
  },
  {
   "cell_type": "code",
   "execution_count": null,
   "metadata": {},
   "outputs": [],
   "source": [
    "# script.py\n",
    "\n",
    "# Concatenate the DataFrames column-wise\n",
    "gapminder = ____\n",
    "\n",
    "# Print the shape of gapminder\n",
    "print(____)\n",
    "\n",
    "# Print the head of gapminder\n",
    "print(____)\n"
   ]
  }
 ],
 "metadata": {
  "kernelspec": {
   "display_name": "Python 3",
   "language": "python",
   "name": "python3"
  },
  "language_info": {
   "codemirror_mode": {
    "name": "ipython",
    "version": 3
   },
   "file_extension": ".py",
   "mimetype": "text/x-python",
   "name": "python",
   "nbconvert_exporter": "python",
   "pygments_lexer": "ipython3",
   "version": "3.7.5"
  }
 },
 "nbformat": 4,
 "nbformat_minor": 4
}
