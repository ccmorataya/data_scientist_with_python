{
 "cells": [
  {
   "cell_type": "markdown",
   "metadata": {},
   "source": [
    "---\n",
    "# Exercise\n",
    "---"
   ]
  },
  {
   "cell_type": "markdown",
   "metadata": {},
   "source": [
    "<h1 class=\"exercise--title\">Reshaping your data</h1>\n",
    "<p>Now that you have all the data combined into a single DataFrame, the next step is to reshape it into a <em>tidy</em> data format.</p>\n",
    "<p>Currently, the gapminder DataFrame has a separate column for each year. What you want instead is a single column that contains the year, and a single column that represents the average life expectancy for each year and country. By having year in its own column, you can use it as a predictor variable in a later analysis.</p>\n",
    "<p>You can convert the DataFrame into the desired tidy format by <em>melting</em> it.</p>"
   ]
  },
  {
   "cell_type": "markdown",
   "metadata": {},
   "source": [
    "---\n",
    "### Instructions `100xp`\n",
    "---"
   ]
  },
  {
   "cell_type": "markdown",
   "metadata": {},
   "source": [
    "<ul>\n",
    "    <li>Reshape <code>gapminder</code> by melting it. Keep <code>'Life expectancy'</code> fixed by specifying it as an argument to the <code>id_vars</code> parameter.</li>\n",
    "    <li>Rename the three columns of the melted DataFrame to <code>'country'</code>, <code>'year'</code>, and <code>'life_expectancy'</code> by passing them in as a list to <code>gapminder_melt.columns</code>.</li>\n",
    "    <li>Print the head of the melted DataFrame.</li>\n",
    "</ul>"
   ]
  },
  {
   "cell_type": "markdown",
   "metadata": {},
   "source": [
    "---"
   ]
  },
  {
   "cell_type": "code",
   "execution_count": null,
   "metadata": {},
   "outputs": [],
   "source": [
    "# script.py\n",
    "\n",
    "import pandas as pd\n",
    "\n",
    "# Melt gapminder: gapminder_melt\n",
    "gapminder_melt = ____\n",
    "\n",
    "# Rename the columns\n",
    "gapminder_melt.columns = ____\n",
    "\n",
    "# Print the head of gapminder_melt\n",
    "print(____)\n",
    "\n"
   ]
  }
 ],
 "metadata": {
  "kernelspec": {
   "display_name": "Python 3",
   "language": "python",
   "name": "python3"
  },
  "language_info": {
   "codemirror_mode": {
    "name": "ipython",
    "version": 3
   },
   "file_extension": ".py",
   "mimetype": "text/x-python",
   "name": "python",
   "nbconvert_exporter": "python",
   "pygments_lexer": "ipython3",
   "version": "3.7.5"
  }
 },
 "nbformat": 4,
 "nbformat_minor": 4
}
