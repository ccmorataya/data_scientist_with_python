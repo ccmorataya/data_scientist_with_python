{
 "cells": [
  {
   "cell_type": "markdown",
   "metadata": {},
   "source": [
    "---\n",
    "# Exercise\n",
    "---"
   ]
  },
  {
   "cell_type": "markdown",
   "metadata": {},
   "source": [
    "<h1 class=\"exercise--title\">Checking the data types</h1>\n",
    "<p>Now that your data are in the proper shape, you need to ensure that the columns are of the proper data type. That is, you need to ensure\n",
    "that <code>country</code> is of type <code>object</code>, <code>year</code> is of type <code>int64</code>, and <code>life_expectancy</code> is of type <code>float64</code>.</p>\n",
    "<p>The tidy DataFrame has been pre-loaded as <code>gapminder</code>. Explore it in the IPython Shell using the <code>.info()</code> method. Notice that\n",
    "the column <code>'year'</code> is of type <code>object</code>. This is incorrect, so you'll need to use the <code>pd.to_numeric()</code> function to convert it to a numeric data type.</p>\n",
    "<p>NumPy and pandas have been pre-imported as <code>np</code> and <code>pd</code>.</p>"
   ]
  },
  {
   "cell_type": "markdown",
   "metadata": {},
   "source": [
    "---\n",
    "### Instructions `100xp`\n",
    "---"
   ]
  },
  {
   "cell_type": "markdown",
   "metadata": {},
   "source": [
    "<ul>\n",
    "    <li>Convert the <code>year</code> column of <code>gapminder</code> using <code>pd.to_numeric()</code>.</li>\n",
    "    <li>Assert that the <code>country</code> column is of type <code>np.object</code>. This has been done for you.</li>\n",
    "    <li>Assert that the <code>year</code> column is of type <code>np.int64</code>.</li>\n",
    "    <li>Assert that the <code>life_expectancy</code> column is of type <code>np.float64</code>.</li>\n",
    "</ul>"
   ]
  },
  {
   "cell_type": "markdown",
   "metadata": {},
   "source": [
    "---"
   ]
  },
  {
   "cell_type": "code",
   "execution_count": null,
   "metadata": {},
   "outputs": [],
   "source": [
    "# script.py\n",
    "\n",
    "# Convert the year column to numeric\n",
    "gapminder.year = ____\n",
    "\n",
    "# Test if country is of type object\n",
    "assert gapminder.country.dtypes == np.object\n",
    "\n",
    "# Test if year is of type int64\n",
    "____\n",
    "\n",
    "# Test if life_expectancy is of type float64\n",
    "____\n"
   ]
  }
 ],
 "metadata": {
  "kernelspec": {
   "display_name": "Python 3",
   "language": "python",
   "name": "python3"
  },
  "language_info": {
   "codemirror_mode": {
    "name": "ipython",
    "version": 3
   },
   "file_extension": ".py",
   "mimetype": "text/x-python",
   "name": "python",
   "nbconvert_exporter": "python",
   "pygments_lexer": "ipython3",
   "version": "3.7.5"
  }
 },
 "nbformat": 4,
 "nbformat_minor": 4
}
