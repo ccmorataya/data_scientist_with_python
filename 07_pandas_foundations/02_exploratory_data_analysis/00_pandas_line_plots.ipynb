{
 "cells": [
  {
   "cell_type": "markdown",
   "metadata": {},
   "source": [
    "---\n",
    "# Exercise\n",
    "---"
   ]
  },
  {
   "cell_type": "markdown",
   "metadata": {},
   "source": [
    "<h1 class=\"exercise--title\">pandas line plots</h1>\n",
    "<p>In the previous chapter, you saw that the <code>.plot()</code> method will place the Index values on the\n",
    "x-axis by default. In this exercise, you'll practice making line plots with specific columns on the x\n",
    "and y axes.</p>\n",
    "<p>You will work with a dataset consisting of monthly stock prices in 2015 for AAPL, GOOG, and IBM.\n",
    "The stock prices were obtained from <a href=\"http://finance.yahoo.com/\" target=\"_blank\" rel=\"noopener noreferrer\">Yahoo Finance</a>. Your job is to plot the\n",
    "<code>'Month'</code> column on the x-axis and the AAPL and IBM prices on the y-axis using a list of column names.</p>\n",
    "<p>All necessary modules have been imported for you, and the DataFrame is available in the workspace as <code>df</code>. Explore it using methods\n",
    "such as <code>.head()</code>, <code>.info()</code>, and <code>.describe()</code> to see the column names.</p>"
   ]
  },
  {
   "cell_type": "markdown",
   "metadata": {},
   "source": [
    "---\n",
    "### Instructions `100xp`\n",
    "---"
   ]
  },
  {
   "cell_type": "markdown",
   "metadata": {},
   "source": [
    "<ul>\n",
    "    <li>Create a list of y-axis column names called <code>y_columns</code> consisting of <code>'AAPL'</code> and <code>'IBM'</code>.</li>\n",
    "    <li>Generate a line plot with <code>x='Month'</code> and <code>y=y_columns</code> as inputs.</li>\n",
    "    <li>Give the plot a title of <code>'Monthly stock prices'</code>.</li>\n",
    "    <li>Specify the y-axis label.</li>\n",
    "    <li>Display the plot.</li>\n",
    "</ul>"
   ]
  },
  {
   "cell_type": "markdown",
   "metadata": {},
   "source": [
    "---"
   ]
  },
  {
   "cell_type": "code",
   "execution_count": null,
   "metadata": {},
   "outputs": [],
   "source": [
    "# script.py\n",
    "\n",
    "# Create a list of y-axis column names: y_columns\n",
    "y_columns = ____\n",
    "\n",
    "# Generate a line plot\n",
    "df.plot(x=____, y=____)\n",
    "\n",
    "# Add the title\n",
    "plt.____('Monthly stock prices')\n",
    "\n",
    "# Add the y-axis label\n",
    "plt.____('Price ($US)')\n",
    "\n",
    "# Display the plot\n",
    "plt.____()"
   ]
  }
 ],
 "metadata": {
  "kernelspec": {
   "display_name": "Python 3",
   "language": "python",
   "name": "python3"
  },
  "language_info": {
   "codemirror_mode": {
    "name": "ipython",
    "version": 3
   },
   "file_extension": ".py",
   "mimetype": "text/x-python",
   "name": "python",
   "nbconvert_exporter": "python",
   "pygments_lexer": "ipython3",
   "version": "3.7.5"
  }
 },
 "nbformat": 4,
 "nbformat_minor": 4
}
