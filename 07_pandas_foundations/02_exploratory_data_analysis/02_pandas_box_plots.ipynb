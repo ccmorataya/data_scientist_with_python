{
 "cells": [
  {
   "cell_type": "markdown",
   "metadata": {},
   "source": [
    "---\n",
    "# Exercise\n",
    "---"
   ]
  },
  {
   "cell_type": "markdown",
   "metadata": {},
   "source": [
    "<h1 class=\"exercise--title\">pandas box plots</h1>\n",
    "<p>While pandas can plot multiple columns of data in a single figure, making plots that share the same x and\n",
    "y axes, there are cases where two columns cannot be plotted together because their units do not match. The\n",
    "<code>.plot()</code> method can generate subplots for each column being plotted. Here, each plot will be\n",
    "scaled independently.</p>\n",
    "<p>In this exercise your job is to generate box plots for fuel efficiency (mpg) and weight from the automobiles\n",
    "data set. To do this in a single figure, you'll specify <code>subplots=True</code> inside <code>.plot()</code> to generate two separate plots. </p>\n",
    "<p>All necessary modules have been imported and the automobiles dataset is available in the workspace as <code>df</code>.</p>"
   ]
  },
  {
   "cell_type": "markdown",
   "metadata": {},
   "source": [
    "---\n",
    "### Instructions `100xp`\n",
    "---"
   ]
  },
  {
   "cell_type": "markdown",
   "metadata": {},
   "source": [
    "<ul>\n",
    "    <li>Make a list called <code>cols</code> of the column names to be plotted: <code>'weight'</code> and <code>'mpg'</code>.</li>\n",
    "    <li>Call plot on <code>df[cols]</code> to generate a box plot of the two columns in a single figure. To do this, specify <code>subplots=True</code>.</li>\n",
    "</ul>"
   ]
  },
  {
   "cell_type": "markdown",
   "metadata": {},
   "source": [
    "---"
   ]
  },
  {
   "cell_type": "code",
   "execution_count": null,
   "metadata": {},
   "outputs": [],
   "source": [
    "# script.py\n",
    "\n",
    "# Make a list of the column names to be plotted: cols\n",
    "cols = ____\n",
    "\n",
    "# Generate the box plots\n",
    "____\n",
    "\n",
    "# Display the plot\n",
    "plt.show()"
   ]
  }
 ],
 "metadata": {
  "kernelspec": {
   "display_name": "Python 3",
   "language": "python",
   "name": "python3"
  },
  "language_info": {
   "codemirror_mode": {
    "name": "ipython",
    "version": 3
   },
   "file_extension": ".py",
   "mimetype": "text/x-python",
   "name": "python",
   "nbconvert_exporter": "python",
   "pygments_lexer": "ipython3",
   "version": "3.7.5"
  }
 },
 "nbformat": 4,
 "nbformat_minor": 4
}
