{
 "cells": [
  {
   "cell_type": "markdown",
   "metadata": {},
   "source": [
    "---\n",
    "# Exercise\n",
    "---"
   ]
  },
  {
   "cell_type": "markdown",
   "metadata": {},
   "source": [
    "<h1 class=\"exercise--title\">Bachelor's degrees awarded to women</h1>\n",
    "<p>In this exercise, you will investigate statistics of the percentage of Bachelor's degrees awarded to women from 1970 to 2011. Data is recorded every year for 17 different fields. This data set was obtained from the <a href=\"http://nces.ed.gov/programs/digest/2013menu_tables.asp\" target=\"_blank\" rel=\"noopener noreferrer\">Digest of Education Statistics</a>.</p>\n",
    "<p>Your job is to compute the minimum and maximum values of the <code>'Engineering'</code> column and generate a line plot of the mean value of all 17 academic fields per year. To perform this step, you'll use the <code>.mean()</code> method with the keyword argument <code>axis='columns'</code>. This computes the mean <em>across</em> all columns per row.</p>\n",
    "<p>The DataFrame has been pre-loaded for you as <code>df</code> with the index set to <code>'Year'</code>.</p>"
   ]
  },
  {
   "cell_type": "markdown",
   "metadata": {},
   "source": [
    "---\n",
    "### Instructions `100xp`\n",
    "---"
   ]
  },
  {
   "cell_type": "markdown",
   "metadata": {},
   "source": [
    "<ul>\n",
    "    <li>Print the minimum value of the <code>'Engineering'</code> column.</li>\n",
    "    <li>Print the maximum value of the <code>'Engineering'</code> column.</li>\n",
    "    <li>Construct the mean percentage per year with <code>.mean(axis='columns')</code>. Assign the result to <code>mean</code>.</li>\n",
    "    <li>Plot the average percentage per year. Since <code>'Year'</code> is the index of <code>df</code>, it will appear on the x-axis of the plot. No keyword arguments are needed in your call to <code>.plot()</code>.</li>\n",
    "</ul>"
   ]
  },
  {
   "cell_type": "markdown",
   "metadata": {},
   "source": [
    "---"
   ]
  },
  {
   "cell_type": "code",
   "execution_count": null,
   "metadata": {},
   "outputs": [],
   "source": [
    "# script.py\n",
    "\n",
    "# Print the minimum value of the Engineering column\n",
    "print(____)\n",
    "\n",
    "# Print the maximum value of the Engineering column\n",
    "print(____)\n",
    "\n",
    "# Construct the mean percentage per year: mean\n",
    "mean = ____\n",
    "\n",
    "# Plot the average percentage per year\n",
    "____\n",
    "\n",
    "# Display the plot\n",
    "plt.show()"
   ]
  }
 ],
 "metadata": {
  "kernelspec": {
   "display_name": "Python 3",
   "language": "python",
   "name": "python3"
  },
  "language_info": {
   "codemirror_mode": {
    "name": "ipython",
    "version": 3
   },
   "file_extension": ".py",
   "mimetype": "text/x-python",
   "name": "python",
   "nbconvert_exporter": "python",
   "pygments_lexer": "ipython3",
   "version": "3.7.5"
  }
 },
 "nbformat": 4,
 "nbformat_minor": 4
}
