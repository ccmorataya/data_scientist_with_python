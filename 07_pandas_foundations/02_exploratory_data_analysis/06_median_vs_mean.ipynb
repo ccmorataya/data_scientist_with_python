{
 "cells": [
  {
   "cell_type": "markdown",
   "metadata": {},
   "source": [
    "---\n",
    "# Exercise\n",
    "---"
   ]
  },
  {
   "cell_type": "markdown",
   "metadata": {},
   "source": [
    "<h1 class=\"exercise--title\">Median vs mean</h1>\n",
    "<p>In many data sets, there can be large differences in the mean and median value due to the presence of outliers. </p>\n",
    "<p>In this exercise, you'll investigate the mean, median, and max fare prices paid by passengers on the Titanic and generate a box plot of the fare prices. This data set was obtained from <a href=\"http://biostat.mc.vanderbilt.edu/wiki/pub/Main/DataSets/titanic.html\" target=\"_blank\" rel=\"noopener noreferrer\">Vanderbilt University</a>. </p>\n",
    "<p>All necessary modules have been imported and the DataFrame is available in the workspace as <code>df</code>.</p>"
   ]
  },
  {
   "cell_type": "markdown",
   "metadata": {},
   "source": [
    "---\n",
    "### Instructions `100xp`\n",
    "---"
   ]
  },
  {
   "cell_type": "markdown",
   "metadata": {},
   "source": [
    "<ul>\n",
    "    <li>Print summary statistics of the <code>'fare'</code> column of <code>df</code> with <code>.describe()</code> and <code>print()</code>. Note: <code>df.fare</code> and <code>df['fare']</code> are equivalent.</li>\n",
    "    <li>Generate a box plot of the <code>'fare'</code> column.</li>\n",
    "</ul>"
   ]
  },
  {
   "cell_type": "markdown",
   "metadata": {},
   "source": [
    "---"
   ]
  },
  {
   "cell_type": "code",
   "execution_count": null,
   "metadata": {},
   "outputs": [],
   "source": [
    "# script.py\n",
    "\n",
    "# Print summary statistics of the fare column with .describe()\n",
    "print(____)\n",
    "\n",
    "# Generate a box plot of the fare column\n",
    "____\n",
    "\n",
    "# Show the plot\n",
    "plt.show()"
   ]
  }
 ],
 "metadata": {
  "kernelspec": {
   "display_name": "Python 3",
   "language": "python",
   "name": "python3"
  },
  "language_info": {
   "codemirror_mode": {
    "name": "ipython",
    "version": 3
   },
   "file_extension": ".py",
   "mimetype": "text/x-python",
   "name": "python",
   "nbconvert_exporter": "python",
   "pygments_lexer": "ipython3",
   "version": "3.7.5"
  }
 },
 "nbformat": 4,
 "nbformat_minor": 4
}
