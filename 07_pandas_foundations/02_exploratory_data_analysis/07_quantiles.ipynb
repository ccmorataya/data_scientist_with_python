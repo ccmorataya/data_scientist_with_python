{
 "cells": [
  {
   "cell_type": "markdown",
   "metadata": {},
   "source": [
    "---\n",
    "# Exercise\n",
    "---"
   ]
  },
  {
   "cell_type": "markdown",
   "metadata": {},
   "source": [
    "<h1 class=\"exercise--title\">Quantiles</h1>\n",
    "<p>In this exercise, you'll investigate the probabilities of life expectancy in countries around the world.\n",
    "This dataset contains life expectancy for persons born each year from 1800 to 2015. Since country names change\n",
    "or results are not reported, not every country has values. This dataset was obtained from <a href=\"https://docs.google.com/a/continuum.io/spreadsheets/d/1dgOdlUEq6_V55OHZCxz5BG_0uoghJTeA6f83br5peNs/pub?range=A1:D70&amp;gid=1&amp;output=html#\" target=\"_blank\" rel=\"noopener noreferrer\">Gapminder</a>.</p>\n",
    "<p>First, you will determine the number of countries reported in 2015. There are a total of 260 unique countries\n",
    "in the entire dataset. Then, you will compute the 5th and 95th percentiles of life expectancy over the entire dataset.\n",
    "Finally, you will make a box plot of life expectancy every 50 years from 1800 to 2000. Notice\n",
    "the large change in the distributions over this period.</p>\n",
    "<p>The dataset has been pre-loaded into a DataFrame called <code>df</code>.</p>"
   ]
  },
  {
   "cell_type": "markdown",
   "metadata": {},
   "source": [
    "---\n",
    "### Instructions `100xp`\n",
    "---"
   ]
  },
  {
   "cell_type": "markdown",
   "metadata": {},
   "source": [
    "<ul>\n",
    "    <li>Print the number of countries reported in 2015. To do this, use the <code>.count()</code> method on the <code>'2015'</code> column of <code>df</code>.</li>\n",
    "    <li>Print the 5th and 95th percentiles of <code>df</code>. To do this, use the <code>.quantile()</code> method with the list <code>[0.05, 0.95]</code>.</li>\n",
    "    <li>Generate a box plot using the list of columns provided in <code>years</code>. This has already been done for you, so click on 'Submit Answer' to view the result!</li>\n",
    "</ul>"
   ]
  },
  {
   "cell_type": "markdown",
   "metadata": {},
   "source": [
    "---"
   ]
  },
  {
   "cell_type": "code",
   "execution_count": null,
   "metadata": {},
   "outputs": [],
   "source": [
    "# script.py\n",
    "\n",
    "# Print the number of countries reported in 2015\n",
    "print(____)\n",
    "\n",
    "# Print the 5th and 95th percentiles\n",
    "print(____)\n",
    "\n",
    "# Generate a box plot\n",
    "years = ['1800','1850','1900','1950','2000']\n",
    "df[years].plot(kind='box')\n",
    "plt.show()"
   ]
  }
 ],
 "metadata": {
  "kernelspec": {
   "display_name": "Python 3",
   "language": "python",
   "name": "python3"
  },
  "language_info": {
   "codemirror_mode": {
    "name": "ipython",
    "version": 3
   },
   "file_extension": ".py",
   "mimetype": "text/x-python",
   "name": "python",
   "nbconvert_exporter": "python",
   "pygments_lexer": "ipython3",
   "version": "3.7.5"
  }
 },
 "nbformat": 4,
 "nbformat_minor": 4
}
