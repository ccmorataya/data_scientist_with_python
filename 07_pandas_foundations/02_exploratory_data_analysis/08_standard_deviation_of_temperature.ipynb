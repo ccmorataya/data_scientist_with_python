{
 "cells": [
  {
   "cell_type": "markdown",
   "metadata": {},
   "source": [
    "---\n",
    "# Exercise\n",
    "---"
   ]
  },
  {
   "cell_type": "markdown",
   "metadata": {},
   "source": [
    "<h1 class=\"exercise--title\">Standard deviation of temperature</h1>\n",
    "<p>Let's use the mean and standard deviation to explore differences in temperature distributions\n",
    "in Pittsburgh in 2013. The data has been obtained from <a href=\"https://www.wunderground.com/history/\" target=\"_blank\" rel=\"noopener noreferrer\">Weather Underground</a>.</p>\n",
    "<p>In this exercise, you're going to compare the distribution of daily temperatures in January and March.\n",
    "You'll compute the mean and standard deviation for these two months.\n",
    "You will notice that while the mean values are similar, the standard deviations are quite\n",
    "different, meaning that one month had a larger fluctuation in temperature than the other.</p>\n",
    "<p>The DataFrames have been pre-loaded for you as <code>january</code>, which contains the January data, and <code>march</code>, which contains the March data.</p>"
   ]
  },
  {
   "cell_type": "markdown",
   "metadata": {},
   "source": [
    "---\n",
    "### Instructions `100xp`\n",
    "---"
   ]
  },
  {
   "cell_type": "markdown",
   "metadata": {},
   "source": [
    "<ul>\n",
    "<li>Compute and print the means of the January and March data using the <code>.mean()</code> method.</li>\n",
    "<li>Compute and print the standard deviations of the January and March data using the <code>.std()</code> method.</li>\n",
    "</ul>"
   ]
  },
  {
   "cell_type": "markdown",
   "metadata": {},
   "source": [
    "---"
   ]
  },
  {
   "cell_type": "code",
   "execution_count": null,
   "metadata": {},
   "outputs": [],
   "source": [
    "# script.py\n",
    "\n",
    "# Print the mean of the January and March data\n",
    "print(____, ____)\n",
    "\n",
    "# Print the standard deviation of the January and March data\n"
   ]
  }
 ],
 "metadata": {
  "kernelspec": {
   "display_name": "Python 3",
   "language": "python",
   "name": "python3"
  },
  "language_info": {
   "codemirror_mode": {
    "name": "ipython",
    "version": 3
   },
   "file_extension": ".py",
   "mimetype": "text/x-python",
   "name": "python",
   "nbconvert_exporter": "python",
   "pygments_lexer": "ipython3",
   "version": "3.7.5"
  }
 },
 "nbformat": 4,
 "nbformat_minor": 4
}
