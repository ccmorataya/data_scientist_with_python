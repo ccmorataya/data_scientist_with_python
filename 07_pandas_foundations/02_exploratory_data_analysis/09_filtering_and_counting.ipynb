{
 "cells": [
  {
   "cell_type": "markdown",
   "metadata": {},
   "source": [
    "---\n",
    "# Exercise\n",
    "---"
   ]
  },
  {
   "cell_type": "markdown",
   "metadata": {},
   "source": [
    "<h1 class=\"exercise--title\">Filtering and counting</h1>\n",
    "<p>How many automobiles were manufactured in Asia in the automobile dataset? The DataFrame has been\n",
    "provided for you as <code>df</code>. Use filtering and the <code>.count()</code> member method to determine the number of rows\n",
    "where the <code>'origin'</code> column has the value <code>'Asia'</code>.</p>\n",
    "<p>As an example, you can extract the rows that contain <code>'US'</code> as the country of origin using <code>df[df['origin'] == 'US']</code>.</p>"
   ]
  },
  {
   "cell_type": "markdown",
   "metadata": {},
   "source": [
    "---\n",
    "### Instructions `100xp`\n",
    "---"
   ]
  },
  {
   "cell_type": "markdown",
   "metadata": {},
   "source": [
    "**<h5>Possible Answers</h5>**\n",
    "<input type=\"radio\"> 68\\\n",
    "<input type=\"radio\"> 79\\\n",
    "<input type=\"radio\"> 245\\\n",
    "<input type=\"radio\"> 392"
   ]
  },
  {
   "cell_type": "markdown",
   "metadata": {},
   "source": [
    "---"
   ]
  },
  {
   "cell_type": "code",
   "execution_count": null,
   "metadata": {},
   "outputs": [],
   "source": [
    "# IPython Shell\n",
    "\n"
   ]
  }
 ],
 "metadata": {
  "kernelspec": {
   "display_name": "Python 3",
   "language": "python",
   "name": "python3"
  },
  "language_info": {
   "codemirror_mode": {
    "name": "ipython",
    "version": 3
   },
   "file_extension": ".py",
   "mimetype": "text/x-python",
   "name": "python",
   "nbconvert_exporter": "python",
   "pygments_lexer": "ipython3",
   "version": "3.7.5"
  }
 },
 "nbformat": 4,
 "nbformat_minor": 4
}
