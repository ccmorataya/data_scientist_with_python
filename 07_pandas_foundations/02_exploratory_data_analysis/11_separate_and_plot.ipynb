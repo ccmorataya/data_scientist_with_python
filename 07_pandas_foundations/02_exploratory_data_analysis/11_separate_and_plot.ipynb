{
 "cells": [
  {
   "cell_type": "markdown",
   "metadata": {},
   "source": [
    "---\n",
    "# Exercise\n",
    "---"
   ]
  },
  {
   "cell_type": "markdown",
   "metadata": {},
   "source": [
    "<h1 class=\"exercise--title\">Separate and plot</h1>\n",
    "<p>Population filtering can be used alongside plotting to quickly determine differences in distributions\n",
    "between the sub-populations. You'll work with the Titanic dataset.</p>\n",
    "<p>There were three passenger classes on the Titanic, and passengers in each class paid a different fare price.\n",
    "In this exercise, you'll investigate the differences in these fare prices.</p>\n",
    "<p>Your job is to use Boolean filtering and generate box plots of the fare prices for each of the three passenger classes.\n",
    "The fare prices are contained in the <code>'fare'</code> column and passenger class information is contained in the <code>'pclass'</code> column.</p>\n",
    "<p>When you're done, notice the portions of the box plots that differ and those that are similar.</p>\n",
    "<p>The DataFrame has been pre-loaded for you as <code>titanic</code>.</p>"
   ]
  },
  {
   "cell_type": "markdown",
   "metadata": {},
   "source": [
    "---\n",
    "### Instructions `100xp`\n",
    "---"
   ]
  },
  {
   "cell_type": "markdown",
   "metadata": {},
   "source": [
    "<ul>\n",
    "    <li>Inside <code>plt.subplots()</code>, specify the <code>nrows</code> and <code>ncols</code> parameters so that there are 3 rows and 1 column.</li>\n",
    "    <li>Filter the rows where the <code>'pclass'</code> column has the values <code>1</code> and generate a box plot of the <code>'fare'</code> column.</li>\n",
    "    <li>Filter the rows where the <code>'pclass'</code> column has the values <code>2</code> and generate a box plot of the <code>'fare'</code> column.</li>\n",
    "    <li>Filter the rows where the <code>'pclass'</code> column has the values <code>3</code> and generate a box plot of the <code>'fare'</code> column.</li>\n",
    "</ul>"
   ]
  },
  {
   "cell_type": "markdown",
   "metadata": {},
   "source": [
    "---"
   ]
  },
  {
   "cell_type": "code",
   "execution_count": null,
   "metadata": {},
   "outputs": [],
   "source": [
    "# script.py\n",
    "\n",
    "# Display the box plots on 3 separate rows and 1 column\n",
    "fig, axes = plt.subplots(____=____, ____=____)\n",
    "\n",
    "# Generate a box plot of the fare prices for the First passenger class\n",
    "titanic.loc[titanic['pclass'] == ____].plot(ax=axes[0], ____='fare', ____='box')\n",
    "\n",
    "# Generate a box plot of the fare prices for the Second passenger class\n",
    "titanic.loc[____ == ____].plot(ax=axes[1], ____='fare', ____='box')\n",
    "\n",
    "# Generate a box plot of the fare prices for the Third passenger class\n",
    "titanic.loc[____ == ____].plot(ax=axes[2], ____='fare', ____='box')\n",
    "\n",
    "# Display the plot\n",
    "plt.show()"
   ]
  }
 ],
 "metadata": {
  "kernelspec": {
   "display_name": "Python 3",
   "language": "python",
   "name": "python3"
  },
  "language_info": {
   "codemirror_mode": {
    "name": "ipython",
    "version": 3
   },
   "file_extension": ".py",
   "mimetype": "text/x-python",
   "name": "python",
   "nbconvert_exporter": "python",
   "pygments_lexer": "ipython3",
   "version": "3.7.5"
  }
 },
 "nbformat": 4,
 "nbformat_minor": 4
}
