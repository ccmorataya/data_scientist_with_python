{
 "cells": [
  {
   "cell_type": "markdown",
   "metadata": {},
   "source": [
    "---\n",
    "# Exercise\n",
    "---"
   ]
  },
  {
   "cell_type": "markdown",
   "metadata": {},
   "source": [
    "<h1 class=\"exercise--title\">Reading and slicing times</h1>\n",
    "<p>For this exercise, we have read in the same data file using three different approaches:</p>\n",
    "<ul>\n",
    "    <li>\n",
    "        <p><code>df1 = pd.read_csv(filename)</code></p>\n",
    "    </li>\n",
    "    <li>\n",
    "        <p><code>df2 = pd.read_csv(filename, parse_dates=['Date'])</code></p>\n",
    "    </li>\n",
    "    <li>\n",
    "        <p><code>df3 = pd.read_csv(filename, index_col='Date', parse_dates=True)</code></p>\n",
    "        <p>Use the <code>.head()</code> and <code>.info()</code> methods in the IPython Shell to inspect the DataFrames. Then, try to index each DataFrame with a datetime string. Which of the resulting DataFrames allows you to easily index and slice data by dates using, for example, <code>df1.loc['2010-Aug-01']</code>?</p>\n",
    "    </li>\n",
    "</ul>"
   ]
  },
  {
   "cell_type": "markdown",
   "metadata": {},
   "source": [
    "---\n",
    "### Instructions `100xp`\n",
    "---"
   ]
  },
  {
   "cell_type": "markdown",
   "metadata": {},
   "source": [
    "**<h5>Possible Answers</h5>**\n",
    "<input type=\"radio\"> <code>df1</code>.\\\n",
    "<input type=\"radio\"> <code>df1</code> and <code>df2</code>.\\\n",
    "<input type=\"radio\"> <code>df2</code>.\\\n",
    "<input type=\"radio\"> <code>df2</code> and <code>df3</code>.\\\n",
    "<input type=\"radio\"> <code>df3</code>."
   ]
  },
  {
   "cell_type": "markdown",
   "metadata": {},
   "source": [
    "---"
   ]
  },
  {
   "cell_type": "code",
   "execution_count": null,
   "metadata": {},
   "outputs": [],
   "source": [
    "# IPython Shell\n",
    "\n"
   ]
  }
 ],
 "metadata": {
  "kernelspec": {
   "display_name": "Python 3",
   "language": "python",
   "name": "python3"
  },
  "language_info": {
   "codemirror_mode": {
    "name": "ipython",
    "version": 3
   },
   "file_extension": ".py",
   "mimetype": "text/x-python",
   "name": "python",
   "nbconvert_exporter": "python",
   "pygments_lexer": "ipython3",
   "version": "3.7.5"
  }
 },
 "nbformat": 4,
 "nbformat_minor": 4
}
