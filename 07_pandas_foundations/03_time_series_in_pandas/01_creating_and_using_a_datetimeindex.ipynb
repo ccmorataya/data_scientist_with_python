{
 "cells": [
  {
   "cell_type": "markdown",
   "metadata": {},
   "source": [
    "---\n",
    "# Exercise\n",
    "---"
   ]
  },
  {
   "cell_type": "markdown",
   "metadata": {},
   "source": [
    "<h1 class=\"exercise--title\">Creating and using a DatetimeIndex</h1>\n",
    "<p>The pandas Index is a powerful way to handle time series data, so it is valuable to know how to build one yourself. Pandas provides the <code>pd.to_datetime()</code> function for just this task. For example, if passed the list of strings <code>['2015-01-01 091234','2015-01-01 091234']</code> and a <code>format</code> specification variable, such as <code>format='%Y-%m-%d %H%M%S</code>, pandas will parse the string into the proper datetime elements and build the datetime objects. </p>\n",
    "<p>In this exercise, a list of temperature data and a list of date strings has been pre-loaded for you as <code>temperature_list</code> and <code>date_list</code> respectively.\n",
    "Your job is to use the <code>.to_datetime()</code> method to build a DatetimeIndex out of the list of date strings, and to then use it along with the list of temperature data to build a pandas Series.</p>"
   ]
  },
  {
   "cell_type": "markdown",
   "metadata": {},
   "source": [
    "---\n",
    "### Instructions `100xp`\n",
    "---"
   ]
  },
  {
   "cell_type": "markdown",
   "metadata": {},
   "source": [
    "<ul>\n",
    "    <li>Prepare a format string, <code>time_format</code>, using <code>'%Y-%m-%d %H:%M'</code> as the desired format.</li>\n",
    "    <li>Convert <code>date_list</code> into a <code>datetime</code> object by using the <code>pd.to_datetime()</code> function. Specify the format string you defined above and assign the result to <code>my_datetimes</code>.</li>\n",
    "    <li>Construct a pandas Series called <code>time_series</code> using <code>pd.Series()</code> with <code>temperature_list</code> and <code>my_datetimes</code>. Set the <code>index</code> of the Series to be <code>my_datetimes</code>.</li>\n",
    "</ul>"
   ]
  },
  {
   "cell_type": "markdown",
   "metadata": {},
   "source": [
    "---"
   ]
  },
  {
   "cell_type": "code",
   "execution_count": null,
   "metadata": {},
   "outputs": [],
   "source": [
    "# script.py\n",
    "\n",
    "# Prepare a format string: time_format\n",
    "time_format = ____\n",
    "\n",
    "# Convert date_list into a datetime object: my_datetimes\n",
    "my_datetimes = ____(____, ____=____)  \n",
    "\n",
    "# Construct a pandas Series using temperature_list and my_datetimes: time_series\n",
    "time_series = ____(temperature_list, ____=my_datetimes)"
   ]
  }
 ],
 "metadata": {
  "kernelspec": {
   "display_name": "Python 3",
   "language": "python",
   "name": "python3"
  },
  "language_info": {
   "codemirror_mode": {
    "name": "ipython",
    "version": 3
   },
   "file_extension": ".py",
   "mimetype": "text/x-python",
   "name": "python",
   "nbconvert_exporter": "python",
   "pygments_lexer": "ipython3",
   "version": "3.7.5"
  }
 },
 "nbformat": 4,
 "nbformat_minor": 4
}
