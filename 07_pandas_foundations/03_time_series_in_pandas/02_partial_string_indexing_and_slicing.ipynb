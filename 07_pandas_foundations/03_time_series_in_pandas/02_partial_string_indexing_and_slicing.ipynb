{
 "cells": [
  {
   "cell_type": "markdown",
   "metadata": {},
   "source": [
    "---\n",
    "# Exercise\n",
    "---"
   ]
  },
  {
   "cell_type": "markdown",
   "metadata": {},
   "source": [
    "<h1 class=\"exercise--title\">Partial string indexing and slicing</h1>\n",
    "<p>Pandas time series support \"partial string\" indexing. What this means is that even when passed only a portion of the datetime, such as the date but not the time, pandas is remarkably good at doing what one would expect. Pandas datetime indexing also supports a wide variety of commonly used datetime string formats, even when mixed. </p>\n",
    "<p>In this exercise, a time series that contains hourly weather data has been pre-loaded for you. This data was read using the <code>parse_dates=True</code> option in <code>read_csv()</code> with <code>index_col=\"Dates\"</code> so that the Index is indeed a <code>DatetimeIndex</code>. </p>\n",
    "<p>All data from the <code>'Temperature'</code> column has been extracted into the variable <code>ts0</code>. Your job is to use a variety of natural date strings to extract one or more values from <code>ts0</code>.</p>\n",
    "<p>After you are done, you will have three new variables - <code>ts1</code>, <code>ts2</code>, and <code>ts3</code>. You can slice these further to extract only the first and last entries of each. Try doing this after your submission for more practice.</p>"
   ]
  },
  {
   "cell_type": "markdown",
   "metadata": {},
   "source": [
    "---\n",
    "### Instructions `100xp`\n",
    "---"
   ]
  },
  {
   "cell_type": "markdown",
   "metadata": {},
   "source": [
    "<ul>\n",
    "    <li>Extract data from <code>ts0</code> for a single hour - the hour from 9pm to 10pm on <code>2010-10-11</code>. Assign it to <code>ts1</code>.</li>\n",
    "    <li>Extract data from <code>ts0</code> for a single day - <code>July 4th, 2010</code> - and assign it to <code>ts2</code>.</li>\n",
    "    <li>Extract data from <code>ts0</code> for the second half of December 2010 - <code>12/15/2010</code> to <code>12/31/2010</code>. Assign it to <code>ts3</code>.</li>\n",
    "</ul>"
   ]
  },
  {
   "cell_type": "markdown",
   "metadata": {},
   "source": [
    "---"
   ]
  },
  {
   "cell_type": "code",
   "execution_count": null,
   "metadata": {},
   "outputs": [],
   "source": [
    "# script.py\n",
    "\n",
    "# Extract the hour from 9pm to 10pm on '2010-10-11': ts1\n",
    "ts1 = ts0.loc['2010-10-11 21:00:00':'____']\n",
    "\n",
    "# Extract '2010-07-04' from ts0: ts2\n",
    "ts2 = ____\n",
    "\n",
    "# Extract data from '2010-12-15' to '2010-12-31': ts3\n",
    "ts3 = ____\n"
   ]
  }
 ],
 "metadata": {
  "kernelspec": {
   "display_name": "Python 3",
   "language": "python",
   "name": "python3"
  },
  "language_info": {
   "codemirror_mode": {
    "name": "ipython",
    "version": 3
   },
   "file_extension": ".py",
   "mimetype": "text/x-python",
   "name": "python",
   "nbconvert_exporter": "python",
   "pygments_lexer": "ipython3",
   "version": "3.7.5"
  }
 },
 "nbformat": 4,
 "nbformat_minor": 4
}
