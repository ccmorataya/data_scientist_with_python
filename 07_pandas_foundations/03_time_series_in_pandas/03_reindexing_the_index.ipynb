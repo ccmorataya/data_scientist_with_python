{
 "cells": [
  {
   "cell_type": "markdown",
   "metadata": {},
   "source": [
    "---\n",
    "# Exercise\n",
    "---"
   ]
  },
  {
   "cell_type": "markdown",
   "metadata": {},
   "source": [
    "<h1 class=\"exercise--title\">Reindexing the Index</h1>\n",
    "<p>Reindexing is useful in preparation for adding or otherwise combining two time series data sets. To reindex the data, we provide a new index and ask pandas to try and match the old data to the new index. If data is unavailable for one of the new index dates or times, you must tell pandas how to fill it in. Otherwise, pandas will fill with <code>NaN</code> by default. </p>\n",
    "<p>In this exercise, two time series data sets containing daily data have been pre-loaded for you, each indexed by dates. The first, <code>ts1</code>, includes weekends, but the second, <code>ts2</code>, does not. The goal is to combine the two data sets in a sensible way. Your job is to reindex the second data set so that it has weekends as well, and then add it to the first. When you are done, it would be informative to inspect your results.</p>"
   ]
  },
  {
   "cell_type": "markdown",
   "metadata": {},
   "source": [
    "---\n",
    "### Instructions `100xp`\n",
    "---"
   ]
  },
  {
   "cell_type": "markdown",
   "metadata": {},
   "source": [
    "<ul>\n",
    "    <li>Create a new time series <code>ts3</code> by reindexing <code>ts2</code> with the index of <code>ts1</code>. To do this, call <code>.reindex()</code> on <code>ts2</code> and pass in the index of <code>ts1</code> (<code>ts1.index</code>).</li>\n",
    "    <li>Create another new time series, <code>ts4</code>, by calling the same <code>.reindex()</code> as above, but also specifiying a fill method, using the keyword argument <code>method=\"ffill\"</code> to forward-fill values.</li>\n",
    "    <li>Add <code>ts1 + ts2</code>. Assign the result to <code>sum12</code>.</li>\n",
    "    <li>Add <code>ts1 + ts3</code>. Assign the result to <code>sum13</code>.</li>\n",
    "    <li>Add <code>ts1 + ts4</code>, Assign the result to <code>sum14</code>.</li>\n",
    "</ul>"
   ]
  },
  {
   "cell_type": "markdown",
   "metadata": {},
   "source": [
    "---"
   ]
  },
  {
   "cell_type": "code",
   "execution_count": null,
   "metadata": {},
   "outputs": [],
   "source": [
    "# script.py\n",
    "\n",
    "# Reindex without fill method: ts3\n",
    "ts3 = ____\n",
    "\n",
    "# Reindex with fill method, using forward fill: ts4\n",
    "ts4 = ____\n",
    "\n",
    "# Combine ts1 + ts2: sum12\n",
    "sum12 = ____\n",
    "\n",
    "# Combine ts1 + ts3: sum13\n",
    "sum13 = ____\n",
    "\n",
    "# Combine ts1 + ts4: sum14\n",
    "sum14 = ____"
   ]
  }
 ],
 "metadata": {
  "kernelspec": {
   "display_name": "Python 3",
   "language": "python",
   "name": "python3"
  },
  "language_info": {
   "codemirror_mode": {
    "name": "ipython",
    "version": 3
   },
   "file_extension": ".py",
   "mimetype": "text/x-python",
   "name": "python",
   "nbconvert_exporter": "python",
   "pygments_lexer": "ipython3",
   "version": "3.7.5"
  }
 },
 "nbformat": 4,
 "nbformat_minor": 4
}
