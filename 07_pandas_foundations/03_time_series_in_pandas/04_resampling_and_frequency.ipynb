{
 "cells": [
  {
   "cell_type": "markdown",
   "metadata": {},
   "source": [
    "---\n",
    "# Exercise\n",
    "---"
   ]
  },
  {
   "cell_type": "markdown",
   "metadata": {},
   "source": [
    "<h1 class=\"exercise--title\">Resampling and frequency</h1>\n",
    "<p>Pandas provides methods for resampling time series data. When downsampling or upsampling, the syntax is similar, but the methods called are different. Both use the concept of 'method chaining' - <code>df.method1().method2().method3()</code> - to direct the output from one method call to the input of the next, and so on, as a sequence of operations, one feeding into the next. </p>\n",
    "<p>For example, if you have hourly data, and just need daily data, pandas will not guess how to throw out the 23 of 24 points. You must specify this in the method. One approach, for instance, could be to take the mean, as in <code>df.resample('D').mean()</code>. </p>\n",
    "<p>In this exercise, a data set containing hourly temperature data has been pre-loaded for you. Your job is to resample the data using a variety of aggregation methods to answer a few questions.</p>"
   ]
  },
  {
   "cell_type": "markdown",
   "metadata": {},
   "source": [
    "---\n",
    "### Instructions `100xp`\n",
    "---"
   ]
  },
  {
   "cell_type": "markdown",
   "metadata": {},
   "source": [
    "<ul>\n",
    "    <li>Downsample the <code>'Temperature'</code> column of <code>df</code> to 6 hour data using <code>.resample('6h')</code> and <code>.mean()</code>. Assign the result to <code>df1</code>.</li>\n",
    "    <li>Downsample the <code>'Temperature'</code> column of <code>df</code> to daily data using <code>.resample('D')</code> and then count the number of data points in each day with <code>.count()</code>. Assign the result <code>df2</code>.</li>\n",
    "</ul>"
   ]
  },
  {
   "cell_type": "markdown",
   "metadata": {},
   "source": [
    "---"
   ]
  },
  {
   "cell_type": "code",
   "execution_count": null,
   "metadata": {},
   "outputs": [],
   "source": [
    "# script.py\n",
    "\n",
    "# Downsample to 6 hour data and aggregate by mean: df1\n",
    "df1 = ____\n",
    "\n",
    "# Downsample to daily data and count the number of data points: df2\n",
    "df2 = ____"
   ]
  }
 ],
 "metadata": {
  "kernelspec": {
   "display_name": "Python 3",
   "language": "python",
   "name": "python3"
  },
  "language_info": {
   "codemirror_mode": {
    "name": "ipython",
    "version": 3
   },
   "file_extension": ".py",
   "mimetype": "text/x-python",
   "name": "python",
   "nbconvert_exporter": "python",
   "pygments_lexer": "ipython3",
   "version": "3.7.5"
  }
 },
 "nbformat": 4,
 "nbformat_minor": 4
}
