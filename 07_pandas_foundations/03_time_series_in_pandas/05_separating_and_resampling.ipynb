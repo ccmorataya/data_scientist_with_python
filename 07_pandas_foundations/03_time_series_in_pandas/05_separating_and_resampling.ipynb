{
 "cells": [
  {
   "cell_type": "markdown",
   "metadata": {},
   "source": [
    "---\n",
    "# Exercise\n",
    "---"
   ]
  },
  {
   "cell_type": "markdown",
   "metadata": {},
   "source": [
    "<h1 class=\"exercise--title\">Separating and resampling</h1>\n",
    "<p>With pandas, you can resample in different ways on different subsets of your data. For example, resampling different months of data with different aggregations. In this exercise, the data set containing hourly temperature data from the last exercise has been pre-loaded. </p>\n",
    "<p>Your job is to resample the data using a variety of aggregation methods. The DataFrame is available in the workspace as <code>df</code>. You will be working with the <code>'Temperature'</code> column.</p>"
   ]
  },
  {
   "cell_type": "markdown",
   "metadata": {},
   "source": [
    "---\n",
    "### Instructions `100xp`\n",
    "---"
   ]
  },
  {
   "cell_type": "markdown",
   "metadata": {},
   "source": [
    "<ul>\n",
    "    <li>Use partial string indexing to extract temperature data for August 2010 into <code>august</code>.</li>\n",
    "    <li>Use the temperature data for August and downsample to find the daily maximum temperatures. Store the result in <code>august_highs</code>.</li>\n",
    "    <li>Use partial string indexing to extract temperature data for February 2010 into <code>february</code>.</li>\n",
    "    <li>Use the temperature data for February and downsample to find the daily minimum temperatures. Store the result in <code>february_lows</code>.</li>\n",
    "</ul>"
   ]
  },
  {
   "cell_type": "markdown",
   "metadata": {},
   "source": [
    "---"
   ]
  },
  {
   "cell_type": "code",
   "execution_count": null,
   "metadata": {},
   "outputs": [],
   "source": [
    "# script.py\n",
    "\n",
    "# Extract temperature data for August: august\n",
    "august = ____\n",
    "\n",
    "# Downsample to obtain only the daily highest temperatures in August: august_highs\n",
    "august_highs = ____\n",
    "\n",
    "# Extract temperature data for February: february\n",
    "february = ____\n",
    "\n",
    "# Downsample to obtain the daily lowest temperatures in February: february_lows\n",
    "february_lows = ____"
   ]
  }
 ],
 "metadata": {
  "kernelspec": {
   "display_name": "Python 3",
   "language": "python",
   "name": "python3"
  },
  "language_info": {
   "codemirror_mode": {
    "name": "ipython",
    "version": 3
   },
   "file_extension": ".py",
   "mimetype": "text/x-python",
   "name": "python",
   "nbconvert_exporter": "python",
   "pygments_lexer": "ipython3",
   "version": "3.7.5"
  }
 },
 "nbformat": 4,
 "nbformat_minor": 4
}
