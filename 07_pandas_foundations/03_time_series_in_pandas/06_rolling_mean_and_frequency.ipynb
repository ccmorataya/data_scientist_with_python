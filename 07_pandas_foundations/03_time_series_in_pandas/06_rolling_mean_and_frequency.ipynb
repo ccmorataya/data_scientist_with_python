{
 "cells": [
  {
   "cell_type": "markdown",
   "metadata": {},
   "source": [
    "---\n",
    "# Exercise\n",
    "---"
   ]
  },
  {
   "cell_type": "markdown",
   "metadata": {},
   "source": [
    "<h1 class=\"exercise--title\">Rolling mean and frequency</h1>\n",
    "<p>In this exercise, some hourly weather data is pre-loaded for you. You will continue to practice resampling, this time using rolling means.</p>\n",
    "<p>Rolling means (or moving averages) are generally used to smooth out short-term fluctuations in time series data and highlight long-term trends. You can read more about them <a href=\"https://en.wikipedia.org/wiki/Moving_average\" target=\"_blank\" rel=\"noopener noreferrer\">here</a>. </p>\n",
    "<p>To use the <code>.rolling()</code> method, you must always use method chaining, first calling <code>.rolling()</code> and then chaining an aggregation method after it. For example, with a Series <code>hourly_data</code>, <code>hourly_data.rolling(window=24).mean()</code> would compute new values for each hourly point, based on a 24-hour window stretching out <strong>behind</strong> each point. The frequency of the output data is the same: it is still hourly. Such an operation is useful for smoothing time series data. </p>\n",
    "<p>Your job is to resample the data using the combination of <code>.rolling()</code> and <code>.mean()</code>. You will work with the same DataFrame <code>df</code> from the previous exercise.</p>"
   ]
  },
  {
   "cell_type": "markdown",
   "metadata": {},
   "source": [
    "---\n",
    "### Instructions `100xp`\n",
    "---"
   ]
  },
  {
   "cell_type": "markdown",
   "metadata": {},
   "source": [
    "<ul>\n",
    "    <li>Use partial string indexing to extract temperature data from August 1 2010 to August 15 2010. Assign to <code>unsmoothed</code>.</li>\n",
    "    <li>Use <code>.rolling()</code> with a 24 hour window to smooth the mean temperature data. Assign the result to <code>smoothed</code>.</li>\n",
    "    <li>Use a dictionary to create a new DataFrame <code>august</code> with the time series <code>smoothed</code> and <code>unsmoothed</code> as columns.</li>\n",
    "    <li>Plot both the columns of <code>august</code> as line plots using the <code>.plot()</code> method.</li>\n",
    "</ul>"
   ]
  },
  {
   "cell_type": "markdown",
   "metadata": {},
   "source": [
    "---"
   ]
  },
  {
   "cell_type": "code",
   "execution_count": null,
   "metadata": {},
   "outputs": [],
   "source": [
    "# script.py\n",
    "\n",
    "# Extract data from 2010-Aug-01 to 2010-Aug-15: unsmoothed\n",
    "unsmoothed = df['Temperature'][____:____]\n",
    "\n",
    "# Apply a rolling mean with a 24 hour window: smoothed\n",
    "smoothed = ____\n",
    "\n",
    "# Create a new DataFrame with columns smoothed and unsmoothed: august\n",
    "august = pd.DataFrame({'smoothed':____, 'unsmoothed':____})\n",
    "\n",
    "# Plot both smoothed and unsmoothed data using august.plot().\n",
    "____\n",
    "plt.show()"
   ]
  }
 ],
 "metadata": {
  "kernelspec": {
   "display_name": "Python 3",
   "language": "python",
   "name": "python3"
  },
  "language_info": {
   "codemirror_mode": {
    "name": "ipython",
    "version": 3
   },
   "file_extension": ".py",
   "mimetype": "text/x-python",
   "name": "python",
   "nbconvert_exporter": "python",
   "pygments_lexer": "ipython3",
   "version": "3.7.5"
  }
 },
 "nbformat": 4,
 "nbformat_minor": 4
}
