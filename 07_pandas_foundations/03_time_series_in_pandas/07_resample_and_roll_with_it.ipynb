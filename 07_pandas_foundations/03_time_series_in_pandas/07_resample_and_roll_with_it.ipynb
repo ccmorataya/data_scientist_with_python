{
 "cells": [
  {
   "cell_type": "markdown",
   "metadata": {},
   "source": [
    "---\n",
    "# Exercise\n",
    "---"
   ]
  },
  {
   "cell_type": "markdown",
   "metadata": {},
   "source": [
    "<div class=\"exercise--assignment exercise--typography\">\n",
    "    <h1 class=\"exercise--title\">Resample and roll with it</h1>\n",
    "    <div class=\"\">\n",
    "        <p>As of pandas version 0.18.0, the interface for applying rolling transformations to time series has become more consistent and flexible, and feels somewhat like a <code>groupby</code> (If you do not know what a <code>groupby</code> is, don't worry, you will learn about it in the next course!). </p>\n",
    "        <p>You can now flexibly chain together resampling and rolling operations. In this exercise, the same weather data from the previous exercises has been pre-loaded for you. Your job is to extract one month of data, resample to find the daily high temperatures, and then use a rolling and aggregation operation to smooth the data.</p>\n",
    "    </div>\n",
    "</div>"
   ]
  },
  {
   "cell_type": "markdown",
   "metadata": {},
   "source": [
    "---\n",
    "### Instructions `100xp`\n",
    "---"
   ]
  },
  {
   "cell_type": "markdown",
   "metadata": {},
   "source": [
    "<ul>\n",
    "    <li>Use partial string indexing to extract August 2010 temperature data, and assign to <code>august</code>.</li>\n",
    "    <li>Resample to daily frequency, saving the maximum daily temperatures, and assign the result to <code>daily_highs</code>.</li>\n",
    "    <li>As part of one long method chain, repeat the above resampling (or you can re-use <code>daily_highs</code>) and then combine it with <code>.rolling()</code> to apply a 7 day <code>.mean()</code> (with <code>window=7</code> inside <code>.rolling()</code>) so as to smooth the daily highs. Assign the result to <code>daily_highs_smoothed</code> and print the result.</li>\n",
    "</ul>"
   ]
  },
  {
   "cell_type": "markdown",
   "metadata": {},
   "source": [
    "---"
   ]
  },
  {
   "cell_type": "code",
   "execution_count": null,
   "metadata": {},
   "outputs": [],
   "source": [
    "# script.py\n",
    "\n",
    "# Extract the August 2010 data: august\n",
    "august = df['Temperature'][____]\n",
    "\n",
    "# Resample to daily data, aggregating by max: daily_highs\n",
    "daily_highs = ____\n",
    "\n",
    "# Use a rolling 7-day window with method chaining to smooth the daily high temperatures in August\n",
    "daily_highs_smoothed = ____\n",
    "print(____)"
   ]
  }
 ],
 "metadata": {
  "kernelspec": {
   "display_name": "Python 3",
   "language": "python",
   "name": "python3"
  },
  "language_info": {
   "codemirror_mode": {
    "name": "ipython",
    "version": 3
   },
   "file_extension": ".py",
   "mimetype": "text/x-python",
   "name": "python",
   "nbconvert_exporter": "python",
   "pygments_lexer": "ipython3",
   "version": "3.7.5"
  }
 },
 "nbformat": 4,
 "nbformat_minor": 4
}
