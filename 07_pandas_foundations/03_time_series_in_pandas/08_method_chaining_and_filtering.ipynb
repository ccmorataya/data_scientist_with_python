{
 "cells": [
  {
   "cell_type": "markdown",
   "metadata": {},
   "source": [
    "---\n",
    "# Exercise\n",
    "---"
   ]
  },
  {
   "cell_type": "markdown",
   "metadata": {},
   "source": [
    "<h1 class=\"exercise--title\">Method chaining and filtering</h1>\n",
    "<p>We've seen that pandas supports method chaining. This technique can be very powerful when cleaning and filtering data. </p>\n",
    "<p>In this exercise, a DataFrame containing flight departure data for a single airline and a single airport for the month of July 2015 has been pre-loaded. Your job is to use <code>.str()</code> filtering and method chaining to generate summary statistics on flight delays each day to Dallas.</p>"
   ]
  },
  {
   "cell_type": "markdown",
   "metadata": {},
   "source": [
    "---\n",
    "### Instructions `100xp`\n",
    "---"
   ]
  },
  {
   "cell_type": "markdown",
   "metadata": {},
   "source": [
    "<ul>\n",
    "    <li>Use <code>.str.strip()</code> to strip extra whitespace from <code>df.columns</code>. Assign the result back to <code>df.columns</code>.</li>\n",
    "    <li>In the <code>'Destination Airport'</code> column, extract all entries where Dallas (<code>'DAL'</code>) is the destination airport. Use <code>.str.contains('DAL')</code> for this and store the result in <code>dallas</code>.</li>\n",
    "    <li>Resample <code>dallas</code> such that you get the total number of departures each day. Store the result in <code>daily_departures</code>. </li>\n",
    "    <li>Generate summary statistics for daily Dallas departures using <code>.describe()</code>. Store the result in <code>stats</code>.</li>\n",
    "</ul>"
   ]
  },
  {
   "cell_type": "markdown",
   "metadata": {},
   "source": [
    "---"
   ]
  },
  {
   "cell_type": "code",
   "execution_count": null,
   "metadata": {},
   "outputs": [],
   "source": [
    "# script.py\n",
    "\n",
    "# Strip extra whitespace from the column names: df.columns\n",
    "df.columns = ____\n",
    "\n",
    "# Extract data for which the destination airport is Dallas: dallas\n",
    "dallas = df['Destination Airport'].____.____(____)\n",
    "\n",
    "# Compute the total number of Dallas departures each day: daily_departures\n",
    "daily_departures = ____\n",
    "\n",
    "# Generate the summary statistics for daily Dallas departures: stats\n",
    "stats = ____"
   ]
  }
 ],
 "metadata": {
  "kernelspec": {
   "display_name": "Python 3",
   "language": "python",
   "name": "python3"
  },
  "language_info": {
   "codemirror_mode": {
    "name": "ipython",
    "version": 3
   },
   "file_extension": ".py",
   "mimetype": "text/x-python",
   "name": "python",
   "nbconvert_exporter": "python",
   "pygments_lexer": "ipython3",
   "version": "3.7.5"
  }
 },
 "nbformat": 4,
 "nbformat_minor": 4
}
