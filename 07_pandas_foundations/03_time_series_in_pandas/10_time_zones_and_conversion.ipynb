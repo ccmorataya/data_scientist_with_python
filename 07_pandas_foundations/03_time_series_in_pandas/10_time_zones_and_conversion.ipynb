{
 "cells": [
  {
   "cell_type": "markdown",
   "metadata": {},
   "source": [
    "---\n",
    "# Exercise\n",
    "---"
   ]
  },
  {
   "cell_type": "markdown",
   "metadata": {},
   "source": [
    "<h1 class=\"exercise--title\">Time zones and conversion</h1>\n",
    "<p>Time zone handling with pandas typically assumes that you are handling the Index of the Series. In this exercise, you will learn how to handle timezones that are associated with datetimes in the column data, and not just the Index.</p>\n",
    "<p>You will work with the flight departure dataset again, and this time you will select Los Angeles (<code>'LAX'</code>) as the destination airport.</p>\n",
    "<p>Here we will use a <em>mask</em> to ensure that we only compute on data we actually want. To learn more about Boolean masks, click <a href=\"https://docs.scipy.org/doc/numpy/reference/maskedarray.generic.html\" target=\"_blank\" rel=\"noopener noreferrer\">here</a>!</p>"
   ]
  },
  {
   "cell_type": "markdown",
   "metadata": {},
   "source": [
    "---\n",
    "### Instructions `100xp`\n",
    "---"
   ]
  },
  {
   "cell_type": "markdown",
   "metadata": {},
   "source": [
    "<ul>\n",
    "    <li>Create a Boolean mask, <code>mask</code>, such that if the <code>'Destination Airport'</code> column of <code>df</code> equals <code>'LAX'</code>, the result is <code>True</code>, and otherwise, it is <code>False</code>.</li>\n",
    "    <li>Use the mask to filter for only the <code>LAX</code> rows. Assign the result to <code>la</code>.</li>\n",
    "    <li>Concatenate the two columns <code>la['Date (MM/DD/YYYY)']</code> and <code>la['Wheels-off Time']</code> with a <code>' '</code> space in between. Pass this to <code>pd.to_datetime()</code> to create a datetime array of all the times the LAX-bound flights left the ground.</li>\n",
    "    <li>Use <code>Series.dt.tz_localize()</code> to localize the time to <code>'US/Central'</code>.</li>\n",
    "    <li>Use the <code>.dt.tz_convert()</code> method to convert datetimes from <code>'US/Central'</code> to <code>'US/Pacific'</code>.</li>\n",
    "</ul>"
   ]
  },
  {
   "cell_type": "markdown",
   "metadata": {},
   "source": [
    "---"
   ]
  },
  {
   "cell_type": "code",
   "execution_count": null,
   "metadata": {},
   "outputs": [],
   "source": [
    "# script.py\n",
    "\n",
    "# Build a Boolean mask to filter for the 'LAX' departure flights: mask\n",
    "mask = df['Destination Airport'] == ____\n",
    "\n",
    "# Use the mask to subset the data: la\n",
    "la = df[____]\n",
    "\n",
    "# Combine two columns of data to create a datetime series: times_tz_none \n",
    "times_tz_none = pd.____( ____ + ' ' + ____ )\n",
    "\n",
    "# Localize the time to US/Central: times_tz_central\n",
    "times_tz_central = ____\n",
    "\n",
    "# Convert the datetimes from US/Central to US/Pacific\n",
    "times_tz_pacific = ____"
   ]
  }
 ],
 "metadata": {
  "kernelspec": {
   "display_name": "Python 3",
   "language": "python",
   "name": "python3"
  },
  "language_info": {
   "codemirror_mode": {
    "name": "ipython",
    "version": 3
   },
   "file_extension": ".py",
   "mimetype": "text/x-python",
   "name": "python",
   "nbconvert_exporter": "python",
   "pygments_lexer": "ipython3",
   "version": "3.7.5"
  }
 },
 "nbformat": 4,
 "nbformat_minor": 4
}
