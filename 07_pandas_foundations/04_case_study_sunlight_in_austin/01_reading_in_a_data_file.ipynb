{
 "cells": [
  {
   "cell_type": "markdown",
   "metadata": {},
   "source": [
    "---\n",
    "# Exercise\n",
    "---"
   ]
  },
  {
   "cell_type": "markdown",
   "metadata": {},
   "source": [
    "<h1 class=\"exercise--title\">Reading in a data file</h1>\n",
    "<p>Now that you have identified the method to use to read the data, let's try to read one file. The problem with real data such as this is that the files are almost never formatted in a convenient way. In this exercise, there are several problems to overcome in reading the file. First, there is no header, and thus the columns don't have labels. There is also no obvious index column, since none of the data columns contain a full date or time.</p>\n",
    "<p>Your job is to read the file into a DataFrame using the default arguments. After inspecting it, you will re-read the file specifying that there are no headers supplied. </p>\n",
    "<p>The CSV file has been provided for you as the variable <code>data_file</code>.</p>"
   ]
  },
  {
   "cell_type": "markdown",
   "metadata": {},
   "source": [
    "---\n",
    "### Instructions `100xp`\n",
    "---"
   ]
  },
  {
   "cell_type": "markdown",
   "metadata": {},
   "source": [
    "<ul>\n",
    "    <li>Import <code>pandas</code> as <code>pd</code>.</li>\n",
    "    <li>Read the file <code>data_file</code> into a DataFrame called <code>df</code>.</li>\n",
    "    <li>Print the output of <code>df.head()</code>. This has been done for you. Notice the formatting problems in <code>df</code>.</li>\n",
    "    <li>Re-read the data using specifying the keyword argument <code>header=None</code> and assign it to <code>df_headers</code>.</li>\n",
    "    <li>Print the output of <code>df_headers.head()</code>. This has already been done for you. Hit 'Submit Answer' and see how this resolves the formatting issues.</li>\n",
    "</ul>"
   ]
  },
  {
   "cell_type": "markdown",
   "metadata": {},
   "source": [
    "---"
   ]
  },
  {
   "cell_type": "code",
   "execution_count": null,
   "metadata": {},
   "outputs": [],
   "source": [
    "# script.py\n",
    "\n",
    "# Import pandas\n",
    "\n",
    "\n",
    "# Read in the data file: df\n",
    "df = pd.read_csv(____)\n",
    "\n",
    "# Print the output of df.head()\n",
    "print(df.head())\n",
    "\n",
    "# Read in the data file with header=None: df_headers\n",
    "df_headers = pd.read_csv(____, ____=None)\n",
    "\n",
    "# Print the output of df_headers.head()\n",
    "print(df_headers.head())"
   ]
  }
 ],
 "metadata": {
  "kernelspec": {
   "display_name": "Python 3",
   "language": "python",
   "name": "python3"
  },
  "language_info": {
   "codemirror_mode": {
    "name": "ipython",
    "version": 3
   },
   "file_extension": ".py",
   "mimetype": "text/x-python",
   "name": "python",
   "nbconvert_exporter": "python",
   "pygments_lexer": "ipython3",
   "version": "3.7.5"
  }
 },
 "nbformat": 4,
 "nbformat_minor": 4
}
