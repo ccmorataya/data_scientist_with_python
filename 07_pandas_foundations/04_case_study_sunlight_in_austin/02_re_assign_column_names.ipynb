{
 "cells": [
  {
   "cell_type": "markdown",
   "metadata": {},
   "source": [
    "---\n",
    "# Exercise\n",
    "---"
   ]
  },
  {
   "cell_type": "markdown",
   "metadata": {},
   "source": [
    "<h1 class=\"exercise--title\">Re-assigning column names</h1>\n",
    "<p>After the initial step of reading in the data, the next step is to clean and tidy it so that it is easier to work with.</p>\n",
    "<p>In this exercise, you will begin this cleaning process by re-assigning column names and dropping unnecessary columns.</p>\n",
    "<p>pandas has been imported in the workspace as <code>pd</code>, and the file <code>NOAA_QCLCD_2011_hourly_13904.txt</code> has been parsed and loaded into a DataFrame <code>df</code>. The comma separated string of column names, <code>column_labels</code>, and list of columns to drop, <code>list_to_drop</code>, have also been loaded for you.</p>"
   ]
  },
  {
   "cell_type": "markdown",
   "metadata": {},
   "source": [
    "---\n",
    "### Instructions `100xp`\n",
    "---"
   ]
  },
  {
   "cell_type": "markdown",
   "metadata": {},
   "source": [
    "<ul>\n",
    "    <li>Convert the comma separated string <code>column_labels</code> to a list of strings using <code>.split(',')</code>. Assign the result to <code>column_labels_list</code>.</li>\n",
    "    <li>Reassign <code>df.columns</code> using the list of strings <code>column_labels_list</code>.</li>\n",
    "    <li>Call <code>df.drop()</code> with <code>list_to_drop</code> and <code>axis='columns'</code>. Assign the result to <code>df_dropped</code>.</li>\n",
    "    <li>Print <code>df_dropped.head()</code> to examine the result. This has already been done for you.</li>\n",
    "</ul>"
   ]
  },
  {
   "cell_type": "markdown",
   "metadata": {},
   "source": [
    "---"
   ]
  },
  {
   "cell_type": "code",
   "execution_count": null,
   "metadata": {},
   "outputs": [],
   "source": [
    "# script.py\n",
    "\n",
    "# Split on the comma to create a list: column_labels_list\n",
    "column_labels_list = ____\n",
    "\n",
    "# Assign the new column labels to the DataFrame: df.columns\n",
    "____ = column_labels_list\n",
    "\n",
    "# Remove the appropriate columns: df_dropped\n",
    "df_dropped = ____\n",
    "\n",
    "# Print the output of df_dropped.head()\n",
    "print(df_dropped.head())"
   ]
  }
 ],
 "metadata": {
  "kernelspec": {
   "display_name": "Python 3",
   "language": "python",
   "name": "python3"
  },
  "language_info": {
   "codemirror_mode": {
    "name": "ipython",
    "version": 3
   },
   "file_extension": ".py",
   "mimetype": "text/x-python",
   "name": "python",
   "nbconvert_exporter": "python",
   "pygments_lexer": "ipython3",
   "version": "3.7.5"
  }
 },
 "nbformat": 4,
 "nbformat_minor": 4
}
