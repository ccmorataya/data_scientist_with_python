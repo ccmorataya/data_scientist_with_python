{
 "cells": [
  {
   "cell_type": "markdown",
   "metadata": {},
   "source": [
    "---\n",
    "# Exercise\n",
    "---"
   ]
  },
  {
   "cell_type": "markdown",
   "metadata": {},
   "source": [
    "<h1 class=\"exercise--title\">Cleaning and tidying datetime data</h1>\n",
    "<p>In order to use the full power of pandas time series, you must construct a <code>DatetimeIndex</code>. To do so, it is necessary to clean and transform the date and time columns. </p>\n",
    "<p>The DataFrame <code>df_dropped</code> you created in the last exercise is provided for you and pandas has been imported as <code>pd</code>.</p>\n",
    "<p>Your job is to clean up the <code>date</code> and <code>Time</code> columns and combine them into a datetime collection to be used as the Index.</p>"
   ]
  },
  {
   "cell_type": "markdown",
   "metadata": {},
   "source": [
    "---\n",
    "### Instructions `100xp`\n",
    "---"
   ]
  },
  {
   "cell_type": "markdown",
   "metadata": {},
   "source": [
    "<ul>\n",
    "    <li>Convert the <code>'date'</code> column to a string with <code>.astype(str)</code> and assign to <code>df_dropped['date']</code>.</li>\n",
    "    <li>Add leading zeros to the <code>'Time'</code> column. This has been done for you.</li>\n",
    "    <li>Concatenate the new <code>'date'</code> and <code>'Time'</code> columns together. Assign to <code>date_string</code>.</li>\n",
    "    <li>Convert the <code>date_string</code> Series to datetime values with <code>pd.to_datetime()</code>. Specify the <code>format</code> parameter.</li>\n",
    "    <li>Set the index of the <code>df_dropped</code> DataFrame to be <code>date_times</code>. Assign the result to <code>df_clean</code>.</li>\n",
    "</ul>"
   ]
  },
  {
   "cell_type": "markdown",
   "metadata": {},
   "source": [
    "---"
   ]
  },
  {
   "cell_type": "code",
   "execution_count": null,
   "metadata": {},
   "outputs": [],
   "source": [
    "# script.py\n",
    "\n",
    "# Convert the date column to string: df_dropped['date']\n",
    "df_dropped['date'] = ____\n",
    "\n",
    "# Pad leading zeros to the Time column: df_dropped['Time']\n",
    "df_dropped['Time'] = df_dropped['Time'].apply(lambda x:'{:0>4}'.format(x))\n",
    "\n",
    "# Concatenate the new date and Time columns: date_string\n",
    "date_string = ____\n",
    "\n",
    "# Convert the date_string Series to datetime: date_times\n",
    "date_times = pd.____(date_string, ____='%Y%m%d%H%M')\n",
    "\n",
    "# Set the index to be the new date_times container: df_clean\n",
    "df_clean = ____\n",
    "\n",
    "# Print the output of df_clean.head()\n",
    "print(df_clean.head())"
   ]
  }
 ],
 "metadata": {
  "kernelspec": {
   "display_name": "Python 3",
   "language": "python",
   "name": "python3"
  },
  "language_info": {
   "codemirror_mode": {
    "name": "ipython",
    "version": 3
   },
   "file_extension": ".py",
   "mimetype": "text/x-python",
   "name": "python",
   "nbconvert_exporter": "python",
   "pygments_lexer": "ipython3",
   "version": "3.7.5"
  }
 },
 "nbformat": 4,
 "nbformat_minor": 4
}
