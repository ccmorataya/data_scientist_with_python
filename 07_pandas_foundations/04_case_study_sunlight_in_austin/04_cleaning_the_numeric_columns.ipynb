{
 "cells": [
  {
   "cell_type": "markdown",
   "metadata": {},
   "source": [
    "---\n",
    "# Exercise\n",
    "---"
   ]
  },
  {
   "cell_type": "markdown",
   "metadata": {},
   "source": [
    "<h1 class=\"exercise--title\">Cleaning the numeric columns</h1>\n",
    "<p>The numeric columns contain missing values labeled as <code>'M'</code>. In this exercise, your job is to transform these columns such that they contain only numeric values and interpret missing data as <code>NaN</code>.</p>\n",
    "<p>The pandas function <code>pd.to_numeric()</code> is ideal for this purpose: It converts a Series of values to floating-point values. Furthermore, by specifying the keyword argument <code>errors='coerce'</code>, you can force strings like <code>'M'</code> to be interpreted as <code>NaN</code>. </p>\n",
    "<p>A DataFrame <code>df_clean</code> is provided for you at the start of the exercise, and as usual, pandas has been imported as <code>pd</code>.</p>"
   ]
  },
  {
   "cell_type": "markdown",
   "metadata": {},
   "source": [
    "---\n",
    "### Instructions `100xp`\n",
    "---"
   ]
  },
  {
   "cell_type": "markdown",
   "metadata": {},
   "source": [
    "<ul>\n",
    "    <li>Print the <code>'dry_bulb_faren'</code> temperature between 8 AM and 9 AM on June 20, 2011.</li>\n",
    "    <li>Convert the <code>'dry_bulb_faren'</code> column to numeric values with <code>pd.to_numeric()</code>. Specify <code>errors='coerce'</code>.</li>\n",
    "    <li>Print the transformed <code>dry_bulb_faren</code> temperature between 8 AM and 9 AM on June 20, 2011.</li>\n",
    "    <li>Convert the <code>'wind_speed'</code> and <code>'dew_point_faren'</code> columns to numeric values with <code>pd.to_numeric()</code>. Again, specify <code>errors='coerce'</code>.</li>\n",
    "</ul>"
   ]
  },
  {
   "cell_type": "markdown",
   "metadata": {},
   "source": [
    "---"
   ]
  },
  {
   "cell_type": "code",
   "execution_count": null,
   "metadata": {},
   "outputs": [],
   "source": [
    "# script.py\n",
    "\n",
    "# Print the dry_bulb_faren temperature between 8 AM and 9 AM on June 20, 2011\n",
    "print(df_clean.loc[____:____, ____])\n",
    "\n",
    "# Convert the dry_bulb_faren column to numeric values: df_clean['dry_bulb_faren']\n",
    "df_clean['dry_bulb_faren'] = ____(df_clean['dry_bulb_faren'], ____=____)\n",
    "\n",
    "# Print the transformed dry_bulb_faren temperature between 8 AM and 9 AM on June 20, 2011\n",
    "print(df_clean.____[____:____, ____])\n",
    "\n",
    "# Convert the wind_speed and dew_point_faren columns to numeric values\n",
    "df_clean['wind_speed'] = pd.to_numeric(____, ____=____)\n",
    "df_clean['dew_point_faren'] = pd.to_numeric(____, ____=____)"
   ]
  }
 ],
 "metadata": {
  "kernelspec": {
   "display_name": "Python 3",
   "language": "python",
   "name": "python3"
  },
  "language_info": {
   "codemirror_mode": {
    "name": "ipython",
    "version": 3
   },
   "file_extension": ".py",
   "mimetype": "text/x-python",
   "name": "python",
   "nbconvert_exporter": "python",
   "pygments_lexer": "ipython3",
   "version": "3.7.5"
  }
 },
 "nbformat": 4,
 "nbformat_minor": 4
}
