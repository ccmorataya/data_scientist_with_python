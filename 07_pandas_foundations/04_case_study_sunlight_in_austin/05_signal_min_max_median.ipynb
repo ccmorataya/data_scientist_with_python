{
 "cells": [
  {
   "cell_type": "markdown",
   "metadata": {},
   "source": [
    "---\n",
    "# Exercise\n",
    "---"
   ]
  },
  {
   "cell_type": "markdown",
   "metadata": {},
   "source": [
    "<h1 class=\"exercise--title\">Signal min, max, median</h1>\n",
    "<p>Now that you have the data read and cleaned, you can begin with statistical EDA. First, you will analyze the 2011 Austin weather data. </p>\n",
    "<p>Your job in this exercise is to analyze the <code>'dry_bulb_faren'</code> column and print the median temperatures for specific time ranges. You can do this using <em>partial datetime string</em> selection.</p>\n",
    "<p>The cleaned dataframe is provided in the workspace as <code>df_clean</code>.</p>"
   ]
  },
  {
   "cell_type": "markdown",
   "metadata": {},
   "source": [
    "---\n",
    "### Instructions `100xp`\n",
    "---"
   ]
  },
  {
   "cell_type": "markdown",
   "metadata": {},
   "source": [
    "<ul>\n",
    "    <li>Select the <code>'dry_bulb_faren'</code> column and print the output of <code>.median()</code>.</li>\n",
    "    <li>Use <code>.loc[]</code> to select the range <code>'2011-Apr':'2011-Jun'</code> from <code>dry_bulb_faren'</code> and print the output of <code>.median()</code>.</li>\n",
    "    <li>Use <code>.loc[]</code> to select the month <code>'2011-Jan'</code> from <code>'dry_bulb_faren'</code> and print the output of <code>.median()</code>.</li>\n",
    "</ul>"
   ]
  },
  {
   "cell_type": "markdown",
   "metadata": {},
   "source": [
    "---"
   ]
  },
  {
   "cell_type": "code",
   "execution_count": null,
   "metadata": {},
   "outputs": [],
   "source": [
    "# script.py\n",
    "\n",
    "# Print the median of the dry_bulb_faren column\n",
    "print(____)\n",
    "\n",
    "# Print the median of the dry_bulb_faren column for the time range '2011-Apr':'2011-Jun'\n",
    "print(df_clean.loc[____:____, 'dry_bulb_faren'].____)\n",
    "\n",
    "# Print the median of the dry_bulb_faren column for the month of January\n",
    "print(df_clean.____[____, ____].____)"
   ]
  }
 ],
 "metadata": {
  "kernelspec": {
   "display_name": "Python 3",
   "language": "python",
   "name": "python3"
  },
  "language_info": {
   "codemirror_mode": {
    "name": "ipython",
    "version": 3
   },
   "file_extension": ".py",
   "mimetype": "text/x-python",
   "name": "python",
   "nbconvert_exporter": "python",
   "pygments_lexer": "ipython3",
   "version": "3.7.5"
  }
 },
 "nbformat": 4,
 "nbformat_minor": 4
}
