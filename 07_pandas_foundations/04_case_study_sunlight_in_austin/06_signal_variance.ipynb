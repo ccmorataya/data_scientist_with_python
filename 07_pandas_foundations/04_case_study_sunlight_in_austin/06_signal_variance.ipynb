{
 "cells": [
  {
   "cell_type": "markdown",
   "metadata": {},
   "source": [
    "---\n",
    "# Exercise\n",
    "---"
   ]
  },
  {
   "cell_type": "markdown",
   "metadata": {},
   "source": [
    "<h1 class=\"exercise--title\">Signal variance</h1>\n",
    "<p>You're now ready to compare the 2011 weather data with the 30-year normals reported in 2010.\n",
    "You can ask questions such as, on average, how much hotter was every day in 2011 than expected from the 30-year average?</p>\n",
    "<p>The DataFrames <code>df_clean</code> and <code>df_climate</code> from previous exercises are available in the workspace.</p>\n",
    "<p>Your job is to first resample <code>df_clean</code> and <code>df_climate</code> by day and aggregate the mean temperatures. You will then extract the temperature related columns from each - <code>'dry_bulb_faren'</code> in <code>df_clean</code>, and <code>'Temperature'</code> in <code>df_climate</code> - as NumPy arrays and compute the difference.</p>\n",
    "<p>Notice that the indexes of <code>df_clean</code> and <code>df_climate</code> are not aligned - <code>df_clean</code> has dates in 2011, while <code>df_climate</code> has dates in 2010. This is why you extract the temperature columns as NumPy arrays. An alternative approach is to use the pandas <code>.reset_index()</code> method to make sure the Series align properly. You will practice this approach as well.</p>"
   ]
  },
  {
   "cell_type": "markdown",
   "metadata": {},
   "source": [
    "---\n",
    "### Instructions `100xp`\n",
    "---"
   ]
  },
  {
   "cell_type": "markdown",
   "metadata": {},
   "source": [
    "<ul>\n",
    "    <li>Downsample <code>df_clean</code> with <em>daily</em> frequency and aggregate by the mean. Store the result as <code>daily_mean_2011</code>.</li>\n",
    "    <li>Extract the <code>'dry_bulb_faren'</code> column from <code>daily_mean_2011</code> as a NumPy array using <code>.values</code>. Store the result as <code>daily_temp_2011</code>. Note: <code>.values</code> is an attribute, not a method, so you don't have to use <code>()</code>.</li>\n",
    "    <li>Downsample <code>df_climate</code>  with <em>daily</em> frequency and aggregate by the mean. Store the result as <code>daily_climate</code>.</li>\n",
    "    <li>Reset the index of <code>daily_climate</code> and extract the <code>Temperature</code> column. To do this, first reset the index of <code>daily_climate</code> using the <code>.reset_index()</code> method, and then use bracket slicing to access <code>'Temperature'</code>. Store the result as <code>daily_temp_climate</code>.</li>\n",
    "</ul>"
   ]
  },
  {
   "cell_type": "markdown",
   "metadata": {},
   "source": [
    "---"
   ]
  },
  {
   "cell_type": "code",
   "execution_count": null,
   "metadata": {},
   "outputs": [],
   "source": [
    "# script.py\n",
    "\n",
    "# Downsample df_clean by day and aggregate by mean: daily_mean_2011\n",
    "daily_mean_2011 = ____\n",
    "\n",
    "# Extract the dry_bulb_faren column from daily_mean_2011 using .values: daily_temp_2011\n",
    "daily_temp_2011 = ____\n",
    "\n",
    "# Downsample df_climate by day and aggregate by mean: daily_climate\n",
    "daily_climate = ____\n",
    "\n",
    "# Extract the Temperature column from daily_climate using .reset_index(): daily_temp_climate\n",
    "daily_temp_climate = ____\n",
    "\n",
    "# Compute the difference between the two arrays and print the mean difference\n",
    "difference = daily_temp_2011 - daily_temp_climate\n",
    "print(difference.mean())"
   ]
  }
 ],
 "metadata": {
  "kernelspec": {
   "display_name": "Python 3",
   "language": "python",
   "name": "python3"
  },
  "language_info": {
   "codemirror_mode": {
    "name": "ipython",
    "version": 3
   },
   "file_extension": ".py",
   "mimetype": "text/x-python",
   "name": "python",
   "nbconvert_exporter": "python",
   "pygments_lexer": "ipython3",
   "version": "3.7.5"
  }
 },
 "nbformat": 4,
 "nbformat_minor": 4
}
