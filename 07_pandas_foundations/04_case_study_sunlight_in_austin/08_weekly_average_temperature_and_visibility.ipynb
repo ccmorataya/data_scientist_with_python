{
 "cells": [
  {
   "cell_type": "markdown",
   "metadata": {},
   "source": [
    "---\n",
    "# Exercise\n",
    "---"
   ]
  },
  {
   "cell_type": "markdown",
   "metadata": {},
   "source": [
    "<h1 class=\"exercise--title\">Weekly average temperature and visibility</h1>\n",
    "<p>Is there a correlation between temperature and visibility? Let's find out. </p>\n",
    "<p>In this exercise, your job is to plot the weekly average temperature and visibility as subplots. To do this, you need to first select the appropriate columns and then resample by week, aggregating the mean. </p>\n",
    "<p>In addition to creating the subplots, you will compute the Pearson correlation coefficient using <code>.corr()</code>. The Pearson correlation coefficient, known also as Pearson's r, ranges from -1 (indicating total negative linear correlation) to 1 (indicating total positive linear correlation). A value close to 1 here would indicate that there is a strong correlation between temperature and visibility.</p>\n",
    "<p>The DataFrame <code>df_clean</code> has been pre-loaded for you.</p>"
   ]
  },
  {
   "cell_type": "markdown",
   "metadata": {},
   "source": [
    "---\n",
    "### Instructions `100xp`\n",
    "---"
   ]
  },
  {
   "cell_type": "markdown",
   "metadata": {},
   "source": [
    "<ul>\n",
    "    <li>Import <code>matplotlib.pyplot</code> as <code>plt</code>.</li>\n",
    "    <li>Select the <code>'visibility'</code> and <code>'dry_bulb_faren'</code> columns and resample them by week, aggregating the mean. Assign the result to <code>weekly_mean</code>.</li>\n",
    "    <li>Print the output of <code>weekly_mean.corr()</code>.</li>\n",
    "    <li>Plot the <code>weekly_mean</code> dataframe with <code>.plot()</code>, specifying <code>subplots=True</code>.</li>\n",
    "</ul>"
   ]
  },
  {
   "cell_type": "markdown",
   "metadata": {},
   "source": [
    "---"
   ]
  },
  {
   "cell_type": "code",
   "execution_count": null,
   "metadata": {},
   "outputs": [],
   "source": [
    "# script.py\n",
    "\n",
    "# Import matplotlib.pyplot as plt\n",
    "\n",
    "\n",
    "# Select the visibility and dry_bulb_faren columns and resample them: weekly_mean\n",
    "weekly_mean = ____\n",
    "\n",
    "# Print the output of weekly_mean.corr()\n",
    "print(____)\n",
    "\n",
    "# Plot weekly_mean with subplots=True\n",
    "weekly_mean.____(____=____)\n",
    "plt.show()"
   ]
  }
 ],
 "metadata": {
  "kernelspec": {
   "display_name": "Python 3",
   "language": "python",
   "name": "python3"
  },
  "language_info": {
   "codemirror_mode": {
    "name": "ipython",
    "version": 3
   },
   "file_extension": ".py",
   "mimetype": "text/x-python",
   "name": "python",
   "nbconvert_exporter": "python",
   "pygments_lexer": "ipython3",
   "version": "3.7.5"
  }
 },
 "nbformat": 4,
 "nbformat_minor": 4
}
