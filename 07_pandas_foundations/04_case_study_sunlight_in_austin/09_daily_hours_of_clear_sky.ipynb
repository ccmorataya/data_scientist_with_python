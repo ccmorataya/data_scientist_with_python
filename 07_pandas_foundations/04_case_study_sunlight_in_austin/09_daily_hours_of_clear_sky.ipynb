{
 "cells": [
  {
   "cell_type": "markdown",
   "metadata": {},
   "source": [
    "---\n",
    "# Exercise\n",
    "---"
   ]
  },
  {
   "cell_type": "markdown",
   "metadata": {},
   "source": [
    "<h1 class=\"exercise--title\">Daily hours of clear sky</h1>\n",
    "<p>In a previous exercise, you analyzed the <code>'sky_condition'</code> column to explore the difference in temperature on sunny days compared to overcast days. Recall that a <code>'sky_condition'</code> of <code>'CLR'</code> represents a sunny day. In this exercise, you will explore sunny days in greater detail. Specifically, you will use a box plot to visualize the fraction of days that are sunny.</p>\n",
    "<p>The <code>'sky_condition'</code> column is recorded hourly. Your job is to resample this column appropriately such that you can extract the number of sunny hours in a day and the number of total hours. Then, you can divide the number of sunny hours by the number of total hours, and generate a box plot of the resulting fraction.</p>\n",
    "<p>As before, <code>df_clean</code> is available for you in the workspace.</p>"
   ]
  },
  {
   "cell_type": "markdown",
   "metadata": {},
   "source": [
    "---\n",
    "### Instructions `100xp`\n",
    "---"
   ]
  },
  {
   "cell_type": "markdown",
   "metadata": {},
   "source": [
    "<ul>\n",
    "    <li>Get the cases in <code>df_clean</code> where the sky is clear. That is, when <code>'sky_condition'</code> equals <code>'CLR'</code>, assigning the result to <code>is_sky_clear</code>.</li>\n",
    "    <li>Resample <code>is_sky_clear</code> by day, assigning to <code>resampled</code>.</li>\n",
    "</ul>"
   ]
  },
  {
   "cell_type": "markdown",
   "metadata": {},
   "source": [
    "Missing instructions 2 & 3"
   ]
  },
  {
   "cell_type": "markdown",
   "metadata": {},
   "source": [
    "---"
   ]
  },
  {
   "cell_type": "code",
   "execution_count": null,
   "metadata": {},
   "outputs": [],
   "source": [
    "# script.py\n",
    "\n",
    "# Using df_clean, when is sky_condition 'CLR'?\n",
    "is_sky_clear = ____\n",
    "\n",
    "# Resample is_sky_clear by day\n",
    "resampled = ____\n",
    "\n",
    "# See the result\n",
    "resampled"
   ]
  }
 ],
 "metadata": {
  "kernelspec": {
   "display_name": "Python 3",
   "language": "python",
   "name": "python3"
  },
  "language_info": {
   "codemirror_mode": {
    "name": "ipython",
    "version": 3
   },
   "file_extension": ".py",
   "mimetype": "text/x-python",
   "name": "python",
   "nbconvert_exporter": "python",
   "pygments_lexer": "ipython3",
   "version": "3.7.5"
  }
 },
 "nbformat": 4,
 "nbformat_minor": 4
}
