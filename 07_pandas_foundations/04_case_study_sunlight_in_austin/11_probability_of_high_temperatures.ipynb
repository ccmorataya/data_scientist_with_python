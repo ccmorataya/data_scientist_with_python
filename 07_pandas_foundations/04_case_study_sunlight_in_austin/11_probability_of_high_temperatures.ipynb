{
 "cells": [
  {
   "cell_type": "markdown",
   "metadata": {},
   "source": [
    "---\n",
    "# Exercise\n",
    "---"
   ]
  },
  {
   "cell_type": "markdown",
   "metadata": {},
   "source": [
    "<h1 class=\"exercise--title\">Probability of high temperatures</h1>\n",
    "<p>We already know that 2011 was hotter than the climate normals for the previous thirty years. In this final exercise, you will compare the maximum temperature in August 2011 against that of the August 2010 climate normals. More specifically, you will use a CDF plot to determine the probability of the 2011 daily maximum temperature in August being above the 2010 climate normal value. To do this, you will leverage the data manipulation, filtering, resampling, and visualization skills you have acquired throughout this course. </p>\n",
    "<p>The two DataFrames <code>df_clean</code> and <code>df_climate</code> are available in the workspace. Your job is to select the maximum temperature in August in <code>df_climate</code>, and then maximum daily temperatures in August 2011. You will then filter to keep only the days in August 2011 that were above the August 2010 maximum, and use this to construct a CDF plot. </p>\n",
    "<p>Once you've generated the CDF, notice how it shows that there was a 50% probability of the 2011 daily maximum temperature in August being 5 degrees\n",
    "above the 2010 climate normal value!</p>"
   ]
  },
  {
   "cell_type": "markdown",
   "metadata": {},
   "source": [
    "---\n",
    "### Instructions `100xp`\n",
    "---"
   ]
  },
  {
   "cell_type": "markdown",
   "metadata": {},
   "source": [
    "<ul>\n",
    "    <li>From <code>df_climate</code>, extract the maximum temperature observed in August 2010. The relevant column here is <code>'Temperature'</code>. You can select the rows corresponding to August 2010 in multiple ways. For example, <code>df_climate.loc['2011-Feb']</code> selects all rows corresponding to February 2011, while <code>df_climate.loc['2009-09', 'Pressure']</code> selects the rows corresponding to September 2009 from the <code>'Pressure'</code> column.</li>\n",
    "    <li>From <code>df_clean</code>, select the August 2011 temperature data from the <code>'dry_bulb_faren'</code>. Resample this data by day and aggregate the maximum value. Store the result in <code>august_2011</code>.</li>\n",
    "    <li>Filter rows of <code>august_2011</code> to keep days where the value exceeded <code>august_max</code>. Store the result in <code>august_2011_high</code>.</li>\n",
    "    <li>Construct a CDF of <code>august_2011_high</code> using 25 bins. Remember to specify the <code>kind</code>, <code>normed</code>, and <code>cumulative</code> parameters in addition to <code>bins</code>.</li>\n",
    "</ul>"
   ]
  },
  {
   "cell_type": "markdown",
   "metadata": {},
   "source": [
    "---"
   ]
  },
  {
   "cell_type": "code",
   "execution_count": null,
   "metadata": {},
   "outputs": [],
   "source": [
    "# script.py\n",
    "\n",
    "# Extract the maximum temperature in August 2010 from df_climate: august_max\n",
    "august_max = ____\n",
    "print(august_max)\n",
    "\n",
    "# Resample August 2011 temps in df_clean by day & aggregate the max value: august_2011\n",
    "august_2011 = ____\n",
    "\n",
    "# Filter for days in august_2011 where the value exceeds august_max: august_2011_high\n",
    "august_2011_high = ____\n",
    "\n",
    "# Construct a CDF of august_2011_high\n",
    "____\n",
    "\n",
    "# Display the plot\n",
    "plt.show()"
   ]
  }
 ],
 "metadata": {
  "kernelspec": {
   "display_name": "Python 3",
   "language": "python",
   "name": "python3"
  },
  "language_info": {
   "codemirror_mode": {
    "name": "ipython",
    "version": 3
   },
   "file_extension": ".py",
   "mimetype": "text/x-python",
   "name": "python",
   "nbconvert_exporter": "python",
   "pygments_lexer": "ipython3",
   "version": "3.7.5"
  }
 },
 "nbformat": 4,
 "nbformat_minor": 4
}
