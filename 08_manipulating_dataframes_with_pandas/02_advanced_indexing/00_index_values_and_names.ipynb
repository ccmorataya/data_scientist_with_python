{
 "cells": [
  {
   "cell_type": "markdown",
   "metadata": {},
   "source": [
    "---\n",
    "# Exercise\n",
    "---"
   ]
  },
  {
   "cell_type": "markdown",
   "metadata": {},
   "source": [
    "<h1 class=\"exercise--title\">Index values and names</h1>\n",
    "<p>Which one of the following index operations does <em>not</em> raise an error?</p>\n",
    "<p>The <code>sales</code> DataFrame which you have seen in the videos of the previous chapter has been pre-loaded for you and is available for exploration in the IPython Shell.</p>\n",
    "\n",
    "```\n",
    "       eggs  salt  spam\n",
    "month                  \n",
    "Jan      47  12.0    17\n",
    "Feb     110  50.0    31\n",
    "Mar     221  89.0    72\n",
    "Apr      77  87.0    20\n",
    "May     132   NaN    52\n",
    "Jun     205  60.0    55\n",
    "```"
   ]
  },
  {
   "cell_type": "markdown",
   "metadata": {},
   "source": [
    "---\n",
    "### Instructions `50xp`\n",
    "---"
   ]
  },
  {
   "cell_type": "markdown",
   "metadata": {},
   "source": [
    "**<h5>Possible Answers</h5>**\n",
    "<input type=\"radio\"> <code>sales.index[0] = 'JAN'</code>.\\\n",
    "<input type=\"radio\"> <code>sales.index[0] = sales.index[0].upper()</code>.\\\n",
    "<input type=\"radio\"> <code>sales.index = range(len(sales))</code>."
   ]
  },
  {
   "cell_type": "markdown",
   "metadata": {},
   "source": [
    "---"
   ]
  },
  {
   "cell_type": "code",
   "execution_count": null,
   "metadata": {},
   "outputs": [],
   "source": [
    "# IPython Shell\n"
   ]
  }
 ],
 "metadata": {
  "kernelspec": {
   "display_name": "Python 3",
   "language": "python",
   "name": "python3"
  },
  "language_info": {
   "codemirror_mode": {
    "name": "ipython",
    "version": 3
   },
   "file_extension": ".py",
   "mimetype": "text/x-python",
   "name": "python",
   "nbconvert_exporter": "python",
   "pygments_lexer": "ipython3",
   "version": "3.7.5"
  }
 },
 "nbformat": 4,
 "nbformat_minor": 4
}
