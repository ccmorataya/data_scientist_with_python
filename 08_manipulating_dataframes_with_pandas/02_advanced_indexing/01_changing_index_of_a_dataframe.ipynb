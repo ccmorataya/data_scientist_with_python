{
 "cells": [
  {
   "cell_type": "markdown",
   "metadata": {},
   "source": [
    "---\n",
    "# Exercise\n",
    "---"
   ]
  },
  {
   "cell_type": "markdown",
   "metadata": {},
   "source": [
    "<h1 class=\"exercise--title\">Changing index of a DataFrame</h1>\n",
    "<p>As you saw in the previous exercise, indexes are immutable objects. This means that if you want to change or modify the index in a DataFrame, then you need to change the whole index. You will do this now, using a list comprehension to create the new index. </p>\n",
    "<p>A list comprehension is a succinct way to generate a list in one line. For example, the following list comprehension generates a list that contains the cubes of all numbers from 0 to 9: <code>cubes = [i**3 for i in range(10)]</code>. This is equivalent to the following code:</p>\n",
    "\n",
    "``` python\n",
    "cubes = []\n",
    "for i in range(10):\n",
    "    cubes.append(i**3)\n",
    "```\n",
    "\n",
    "<p>Before getting started, print the <code>sales</code> DataFrame in the IPython Shell and verify that the index is given by month abbreviations containing lowercase characters.</p>\n",
    "<p><em>By the way, if you haven't downloaded it already, check out the <a href=\"https://datacamp-community-prod.s3.amazonaws.com/9f0f2ae1-8bd8-4302-a67b-e17f3059d9e8\" target=\"_blank\" rel=\"noopener noreferrer\">Pandas Cheat Sheet</a>. It includes an overview of the most important concepts, functions and methods and might come in handy if you ever need a quick refresher!</em></p>"
   ]
  },
  {
   "cell_type": "markdown",
   "metadata": {},
   "source": [
    "---\n",
    "### Instructions `100xp`\n",
    "---"
   ]
  },
  {
   "cell_type": "markdown",
   "metadata": {},
   "source": [
    "<ul>\n",
    "    <li>Create a list <code>new_idx</code> with the same elements as in <code>sales.index</code>, but with all characters capitalized.</li>\n",
    "    <li>Assign <code>new_idx</code> to <code>sales.index</code>.</li>\n",
    "    <li>Print the <code>sales</code> dataframe. This has been done for you, so hit 'Submit Answer' and to see how the index changed.</li>\n",
    "</ul>"
   ]
  },
  {
   "cell_type": "markdown",
   "metadata": {},
   "source": [
    "---"
   ]
  },
  {
   "cell_type": "code",
   "execution_count": null,
   "metadata": {},
   "outputs": [],
   "source": [
    "# scripty.py\n",
    "\n",
    "# Create the list of new indexes: new_idx\n",
    "new_idx = [____.upper() for ____ in sales.index]\n",
    "\n",
    "# Assign new_idx to sales.index\n",
    "____ = new_idx\n",
    "\n",
    "# Print the sales DataFrame\n",
    "print(sales)"
   ]
  }
 ],
 "metadata": {
  "kernelspec": {
   "display_name": "Python 3",
   "language": "python",
   "name": "python3"
  },
  "language_info": {
   "codemirror_mode": {
    "name": "ipython",
    "version": 3
   },
   "file_extension": ".py",
   "mimetype": "text/x-python",
   "name": "python",
   "nbconvert_exporter": "python",
   "pygments_lexer": "ipython3",
   "version": "3.7.5"
  }
 },
 "nbformat": 4,
 "nbformat_minor": 4
}
