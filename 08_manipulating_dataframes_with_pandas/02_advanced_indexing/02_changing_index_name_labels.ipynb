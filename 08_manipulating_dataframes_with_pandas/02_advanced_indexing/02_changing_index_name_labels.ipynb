{
 "cells": [
  {
   "cell_type": "markdown",
   "metadata": {},
   "source": [
    "---\n",
    "# Exercise\n",
    "---"
   ]
  },
  {
   "cell_type": "markdown",
   "metadata": {},
   "source": [
    "<h1 class=\"exercise--title\">Changing index name labels</h1>\n",
    "<p>Notice that in the previous exercise, the index was not labeled with a name. In this exercise, you will set its name to <code>'MONTHS'</code>.</p>\n",
    "<p>Similarly, if all the columns are related in some way, you can provide a label for the set of columns.</p>\n",
    "<p>To get started, print the <code>sales</code> DataFrame in the IPython Shell and verify that the index has no name, only its data (the month names).</p>"
   ]
  },
  {
   "cell_type": "markdown",
   "metadata": {},
   "source": [
    "---\n",
    "### Instructions `100xp`\n",
    "---"
   ]
  },
  {
   "cell_type": "markdown",
   "metadata": {},
   "source": [
    "<ul>\n",
    "    <li>Assign the string <code>'MONTHS'</code> to <code>sales.index.name</code> to create a name for the index.</li>\n",
    "    <li>Print the <code>sales</code> dataframe to see the index name you just created.</li>\n",
    "    <li>Now assign the string <code>'PRODUCTS'</code> to <code>sales.columns.name</code> to give a name to the set of columns.</li>\n",
    "    <li>Print the <code>sales</code> dataframe again to see the columns name you just created.</li>\n",
    "</ul>"
   ]
  },
  {
   "cell_type": "markdown",
   "metadata": {},
   "source": [
    "---"
   ]
  },
  {
   "cell_type": "code",
   "execution_count": null,
   "metadata": {},
   "outputs": [],
   "source": [
    "# scripty.py\n",
    "\n",
    "# Assign the string 'MONTHS' to sales.index.name\n",
    "____\n",
    "\n",
    "# Print the sales DataFrame\n",
    "print(sales)\n",
    "\n",
    "# Assign the string 'PRODUCTS' to sales.columns.name \n",
    "____\n",
    "\n",
    "# Print the sales dataframe again\n",
    "print(sales)"
   ]
  }
 ],
 "metadata": {
  "kernelspec": {
   "display_name": "Python 3",
   "language": "python",
   "name": "python3"
  },
  "language_info": {
   "codemirror_mode": {
    "name": "ipython",
    "version": 3
   },
   "file_extension": ".py",
   "mimetype": "text/x-python",
   "name": "python",
   "nbconvert_exporter": "python",
   "pygments_lexer": "ipython3",
   "version": "3.7.5"
  }
 },
 "nbformat": 4,
 "nbformat_minor": 4
}
