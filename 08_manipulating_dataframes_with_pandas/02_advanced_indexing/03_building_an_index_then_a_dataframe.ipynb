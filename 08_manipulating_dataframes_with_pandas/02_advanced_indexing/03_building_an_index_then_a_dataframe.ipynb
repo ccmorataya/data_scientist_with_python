{
 "cells": [
  {
   "cell_type": "markdown",
   "metadata": {},
   "source": [
    "---\n",
    "# Exercise\n",
    "---"
   ]
  },
  {
   "cell_type": "markdown",
   "metadata": {},
   "source": [
    "<h1 class=\"exercise--title\">Building an index, then a DataFrame</h1>\n",
    "<p>You can also build the DataFrame and index independently, and then put them together. If you take this route, be careful, as any mistakes in generating the DataFrame or the index can cause the data and the index to be aligned incorrectly.</p>\n",
    "<p>In this exercise, the <code>sales</code> DataFrame has been provided for you without the month index. Your job is to build this index separately and then assign it to the <code>sales</code> DataFrame. Before getting started, print the <code>sales</code> DataFrame in the IPython Shell and note that it's missing the month information.</p>"
   ]
  },
  {
   "cell_type": "markdown",
   "metadata": {},
   "source": [
    "---\n",
    "### Instructions `100xp`\n",
    "---"
   ]
  },
  {
   "cell_type": "markdown",
   "metadata": {},
   "source": [
    "<ul>\n",
    "    <li>Generate a list <code>months</code> with the data <code>['Jan', 'Feb', 'Mar', 'Apr', 'May', 'Jun']</code>. This has been done for you.</li>\n",
    "    <li>Assign <code>months</code> to <code>sales.index</code>.</li>\n",
    "    <li>Print the modified <code>sales</code> dataframe and verify that you now have month information in the index.</li>\n",
    "</ul>"
   ]
  },
  {
   "cell_type": "markdown",
   "metadata": {},
   "source": [
    "---"
   ]
  },
  {
   "cell_type": "code",
   "execution_count": null,
   "metadata": {},
   "outputs": [],
   "source": [
    "# scripty.py\n",
    "\n",
    "# Generate the list of months: months\n",
    "months = ['Jan', 'Feb', 'Mar', 'Apr', 'May', 'Jun']\n",
    "\n",
    "# Assign months to sales.index\n",
    "_____\n",
    "\n",
    "# Print the modified sales DataFrame\n",
    "print(sales)"
   ]
  }
 ],
 "metadata": {
  "kernelspec": {
   "display_name": "Python 3",
   "language": "python",
   "name": "python3"
  },
  "language_info": {
   "codemirror_mode": {
    "name": "ipython",
    "version": 3
   },
   "file_extension": ".py",
   "mimetype": "text/x-python",
   "name": "python",
   "nbconvert_exporter": "python",
   "pygments_lexer": "ipython3",
   "version": "3.7.5"
  }
 },
 "nbformat": 4,
 "nbformat_minor": 4
}
